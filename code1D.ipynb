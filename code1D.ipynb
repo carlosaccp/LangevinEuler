{
 "cells": [
  {
   "cell_type": "markdown",
   "metadata": {},
   "source": [
    "# 1D Numerical Langevin\n",
    "\n",
    "We compute the Brenier and Langevin maps in 1D to see if they coincide."
   ]
  },
  {
   "cell_type": "code",
   "execution_count": 27,
   "metadata": {},
   "outputs": [],
   "source": [
    "using LinearAlgebra"
   ]
  },
  {
   "cell_type": "code",
   "execution_count": 44,
   "metadata": {},
   "outputs": [
    {
     "data": {
      "text/plain": [
       "OT_derivative (generic function with 1 method)"
      ]
     },
     "metadata": {},
     "output_type": "display_data"
    }
   ],
   "source": [
    "function OT_derivative(σ₁, σ₂)\n",
    "    a = (1/√(σ₁)) * √(√(σ₁)*σ₂*√(σ₁)) * 1/(√(σ₁))\n",
    "    a\n",
    "end"
   ]
  },
  {
   "cell_type": "code",
   "execution_count": 45,
   "metadata": {},
   "outputs": [
    {
     "data": {
      "text/plain": [
       "Bₜ (generic function with 1 method)"
      ]
     },
     "metadata": {},
     "output_type": "display_data"
    }
   ],
   "source": [
    "function Bₜ(a, b, t)\n",
    "    αₜ = exp(-t*a)\n",
    "    βₜ = √(1-exp(-2*t*a))\n",
    "    ret = b*(αₜ^2) - (αₜ*βₜ*b)/(√(b*βₜ^2 + a))\n",
    "    ret\n",
    "end"
   ]
  },
  {
   "cell_type": "code",
   "execution_count": 46,
   "metadata": {},
   "outputs": [
    {
     "data": {
      "text/plain": [
       "32.0"
      ]
     },
     "metadata": {},
     "output_type": "display_data"
    }
   ],
   "source": [
    "Bₜ(2,32,0) "
   ]
  },
  {
   "cell_type": "code",
   "execution_count": 65,
   "metadata": {},
   "outputs": [
    {
     "data": {
      "text/plain": [
       "1.8162428823661378"
      ]
     },
     "metadata": {},
     "output_type": "display_data"
    }
   ],
   "source": [
    "function LT_derivative(σ₁, σ₂, n, T)\n",
    "    t = range(0, T, length=n)\n",
    "    h = step(t)\n",
    "    S∞ = 1\n",
    "    for k = 1:n-1\n",
    "        S∞ = (I + h*Bₜ(σ₁, σ₂, t[k]))*S∞\n",
    "    end\n",
    "    S∞\n",
    "end\n",
    "\n",
    "DL = LT_derivative(2, 5, 10_000_000_000, 1_000_000_000) #≈ OT_derivative(2,5)"
   ]
  },
  {
   "cell_type": "code",
   "execution_count": 62,
   "metadata": {},
   "outputs": [
    {
     "data": {
      "text/plain": [
       "1.5811388300841895"
      ]
     },
     "metadata": {},
     "output_type": "display_data"
    }
   ],
   "source": [
    "OT_derivative(2,5)"
   ]
  },
  {
   "cell_type": "code",
   "execution_count": null,
   "metadata": {},
   "outputs": [],
   "source": []
  }
 ],
 "metadata": {
  "kernelspec": {
   "display_name": "Julia 1.7.1",
   "language": "julia",
   "name": "julia-1.7"
  },
  "language_info": {
   "file_extension": ".jl",
   "mimetype": "application/julia",
   "name": "julia",
   "version": "1.7.1"
  },
  "orig_nbformat": 4
 },
 "nbformat": 4,
 "nbformat_minor": 2
}
