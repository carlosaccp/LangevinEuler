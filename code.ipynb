{
 "cells": [
  {
   "cell_type": "markdown",
   "metadata": {},
   "source": [
    "# Numerical Langevin\n",
    "### By Carlos A.C.C. Perello"
   ]
  },
  {
   "cell_type": "markdown",
   "metadata": {},
   "source": [
    "## Preliminaries\n",
    "The only preliminaries are importing the relevant packages, i.e. the `LinearAlgebra.jl` package and making a function that creates a square grid centered about $(0,0)$ of side length $2x$ where the points are evenly spaced by $h$."
   ]
  },
  {
   "cell_type": "code",
   "execution_count": 131,
   "metadata": {},
   "outputs": [
    {
     "data": {
      "text/plain": [
       "square_grid (generic function with 1 method)"
      ]
     },
     "execution_count": 131,
     "metadata": {},
     "output_type": "execute_result"
    }
   ],
   "source": [
    "using LinearAlgebra\n",
    "function square_grid(x, h)\n",
    "    grid = [[i; j] for i in -x:h:x, j in -x:h:x]\n",
    "    grid\n",
    "end"
   ]
  },
  {
   "cell_type": "markdown",
   "metadata": {},
   "source": [
    "### Test square grid"
   ]
  },
  {
   "cell_type": "code",
   "execution_count": 132,
   "metadata": {},
   "outputs": [
    {
     "data": {
      "text/plain": [
       "2001×2001 Matrix{Vector{Float64}}:\n",
       " [-10.0, -10.0]  [-10.0, -9.99]  …  [-10.0, 9.99]  [-10.0, 10.0]\n",
       " [-9.99, -10.0]  [-9.99, -9.99]     [-9.99, 9.99]  [-9.99, 10.0]\n",
       " [-9.98, -10.0]  [-9.98, -9.99]     [-9.98, 9.99]  [-9.98, 10.0]\n",
       " [-9.97, -10.0]  [-9.97, -9.99]     [-9.97, 9.99]  [-9.97, 10.0]\n",
       " [-9.96, -10.0]  [-9.96, -9.99]     [-9.96, 9.99]  [-9.96, 10.0]\n",
       " [-9.95, -10.0]  [-9.95, -9.99]  …  [-9.95, 9.99]  [-9.95, 10.0]\n",
       " [-9.94, -10.0]  [-9.94, -9.99]     [-9.94, 9.99]  [-9.94, 10.0]\n",
       " [-9.93, -10.0]  [-9.93, -9.99]     [-9.93, 9.99]  [-9.93, 10.0]\n",
       " [-9.92, -10.0]  [-9.92, -9.99]     [-9.92, 9.99]  [-9.92, 10.0]\n",
       " [-9.91, -10.0]  [-9.91, -9.99]     [-9.91, 9.99]  [-9.91, 10.0]\n",
       " [-9.9, -10.0]   [-9.9, -9.99]   …  [-9.9, 9.99]   [-9.9, 10.0]\n",
       " [-9.89, -10.0]  [-9.89, -9.99]     [-9.89, 9.99]  [-9.89, 10.0]\n",
       " [-9.88, -10.0]  [-9.88, -9.99]     [-9.88, 9.99]  [-9.88, 10.0]\n",
       " ⋮                               ⋱                 ⋮\n",
       " [9.89, -10.0]   [9.89, -9.99]      [9.89, 9.99]   [9.89, 10.0]\n",
       " [9.9, -10.0]    [9.9, -9.99]    …  [9.9, 9.99]    [9.9, 10.0]\n",
       " [9.91, -10.0]   [9.91, -9.99]      [9.91, 9.99]   [9.91, 10.0]\n",
       " [9.92, -10.0]   [9.92, -9.99]      [9.92, 9.99]   [9.92, 10.0]\n",
       " [9.93, -10.0]   [9.93, -9.99]      [9.93, 9.99]   [9.93, 10.0]\n",
       " [9.94, -10.0]   [9.94, -9.99]      [9.94, 9.99]   [9.94, 10.0]\n",
       " [9.95, -10.0]   [9.95, -9.99]   …  [9.95, 9.99]   [9.95, 10.0]\n",
       " [9.96, -10.0]   [9.96, -9.99]      [9.96, 9.99]   [9.96, 10.0]\n",
       " [9.97, -10.0]   [9.97, -9.99]      [9.97, 9.99]   [9.97, 10.0]\n",
       " [9.98, -10.0]   [9.98, -9.99]      [9.98, 9.99]   [9.98, 10.0]\n",
       " [9.99, -10.0]   [9.99, -9.99]      [9.99, 9.99]   [9.99, 10.0]\n",
       " [10.0, -10.0]   [10.0, -9.99]   …  [10.0, 9.99]   [10.0, 10.0]"
      ]
     },
     "execution_count": 132,
     "metadata": {},
     "output_type": "execute_result"
    }
   ],
   "source": [
    "square_grid(10, 0.01)"
   ]
  },
  {
   "cell_type": "markdown",
   "metadata": {},
   "source": [
    "## Computing the derivative of the Brenier map"
   ]
  },
  {
   "cell_type": "markdown",
   "metadata": {},
   "source": [
    "We are interested in transporting the following distributions:\n",
    "\n",
    "$$\n",
    "\\mathcal{N}(m_1,\\Sigma_1)\\to\\mathcal{N}(m_2,\\Sigma_2)\n",
    "$$\n",
    "\n",
    "Where $\\mathcal{N}(\\mathbf{\\mu}, \\Sigma)$ is a multivariate normal with mean $\\mathbf{\\mu}\\in \\mathbb{R}^n$ and covariance matrix $\\Sigma\\in\\mathbb{R}^{n\\times n}$.\n",
    "\n",
    "As we are interested in transporting a Gaussian distribution into another Gaussian distribution, the problem of computing the Brenier map between these 2 distributions simplifies to computing the map [1]:\n",
    "\n",
    "$$\n",
    "T_{\\text{Brenier}}:x\\mapsto m_2 + A(x-m_1) \\quad \\text{with } A = \\Sigma_1^{-1/2}(\\Sigma_1^{1/2}\\Sigma_2\\Sigma_1^{1/2})^{1/2}\\Sigma_1^{-1/2}\n",
    "$$\n",
    "\n",
    "Therefore, the derivative of the Brenier map, $DT_{\\text{Brenier}} = A$, which is easy to compute and done below. We also want to compute the singular values of $DT_{\\text{Brenier}}$ as they can be used to bound its operator norm."
   ]
  },
  {
   "cell_type": "code",
   "execution_count": 50,
   "metadata": {},
   "outputs": [
    {
     "data": {
      "text/plain": [
       "OT_derivative (generic function with 1 method)"
      ]
     },
     "execution_count": 50,
     "metadata": {},
     "output_type": "execute_result"
    }
   ],
   "source": [
    "function OT_derivative(Σ₁, Σ₂)\n",
    "    #=\n",
    "    Returns a tuple consisting of \n",
    "    the derivative of the Bernier map in the first entry\n",
    "    and a vector containing the singular vals\n",
    "    of the derivative of the Bernier map in the second entry.\n",
    "    =#\n",
    "    A = inv(sqrt(Σ₁))*sqrt(sqrt(Σ₁)*Σ₂*sqrt(Σ₁))*inv(sqrt(Σ₁))\n",
    "    A, svdvals(A)\n",
    "end"
   ]
  },
  {
   "cell_type": "markdown",
   "metadata": {},
   "source": [
    "### Testing the computation of the derivative of Brenier map"
   ]
  },
  {
   "cell_type": "code",
   "execution_count": 51,
   "metadata": {},
   "outputs": [
    {
     "data": {
      "text/plain": [
       "2×2 Matrix{Float64}:\n",
       " 0.254742  0.360286\n",
       " 0.360286  0.882852"
      ]
     },
     "execution_count": 51,
     "metadata": {},
     "output_type": "execute_result"
    }
   ],
   "source": [
    "n = 2 # Dimension of multivariate Gaussian\n",
    "X₁ = rand(n, n) \n",
    "X₂ = rand(n, n) # Generate 2 random n×n matrices\n",
    "C₁ = X₁'*X₁\n",
    "C₂ = X₂'*X₂ # Use the random matrices to generate 2 random \n",
    "# n×n pos. def. matrices, as covariance matrices are pos. def.\n",
    "\n",
    "OT_map = OT_derivative(C₁, C₂)[1]"
   ]
  },
  {
   "cell_type": "markdown",
   "metadata": {},
   "source": [
    "## Computing the Langevin map\n",
    "We want to numerically compute the Langevin map between two Gaussians. To do so, we first need to introduce $P_t^A(f) $ and $B_t$. We define $P_t^A(f)$ as [2]:\n",
    "$$\n",
    "P_t^A(f) = \\int_{\\mathbb{R^n}}f\\left(\\exp(-tA)x + \\sqrt{\\text{Id}-\\exp(-2tA)} y\\right)d\\mu(y)\n",
    "$$\n",
    "\n",
    "In the case of transport between 2 gaussians, $B_t$ is then defined as [2]:\n",
    "$$\n",
    "P_t^A\\left(c_o\\exp\\left(-\\frac{1}{2}y^TBy\\right)\\right)(x) = c_t\\exp\\left(-\\frac{1}{2}x^T B_t x\\right)\n",
    "$$\n",
    "And $B_t$ can be computed by explicitly computing and rearranging the LHS of the equation above [2].\n",
    "We introduce the notation $A=\\Sigma_1$, $B=\\Sigma_2, C = e^{-tA}, D=\\sqrt{I-e^{-2ta}}$ and $W = D^TBD + A$ to obtain that $B_t$ is:\n",
    "$$\n",
    "B_t = C^TBC - B^TD^TW^{-T}W^{-1}DB\n",
    "$$\n",
    "and $c_t$ is given by:\n",
    "$$\n",
    "c_t = \\frac{cc_0\\sqrt{\\pi}}{2\\left|\\det(W)\\right|}\n",
    "$$\n",
    "\n",
    "We can implement $B_t$ as a function, done below."
   ]
  },
  {
   "cell_type": "code",
   "execution_count": 139,
   "metadata": {},
   "outputs": [
    {
     "data": {
      "text/plain": [
       "Bₜ (generic function with 1 method)"
      ]
     },
     "execution_count": 139,
     "metadata": {},
     "output_type": "execute_result"
    }
   ],
   "source": [
    "function Bₜ(Σ₁, Σ₂, t)\n",
    "    C = exp(-t.*Σ₁)\n",
    "    D = sqrt(I-exp(-(2*t).*Σ₁))\n",
    "    W = D'*Σ₂*D + Σ₁\n",
    "    ret = C'*Σ₂*C - (Σ₂'*D'*inv(W)'*inv(W)*D*Σ₂) \n",
    "    ret\n",
    "end"
   ]
  },
  {
   "cell_type": "markdown",
   "metadata": {},
   "source": [
    "$B_t$ should satisfy $B_0 = B = \\Sigma_2$ [2] which we can use as a sanity check."
   ]
  },
  {
   "cell_type": "code",
   "execution_count": null,
   "metadata": {},
   "outputs": [],
   "source": [
    "Bₜ(C₁, C₂, 0) == C₂"
   ]
  },
  {
   "cell_type": "markdown",
   "metadata": {},
   "source": [
    "\n",
    "## TODO\n",
    "\n",
    "Figure out what $B_\\infty$ is"
   ]
  },
  {
   "cell_type": "markdown",
   "metadata": {},
   "source": [
    "### Testing $B_t$\n",
    "We reuse the random positive definite matrices generated above:"
   ]
  },
  {
   "cell_type": "code",
   "execution_count": 95,
   "metadata": {},
   "outputs": [
    {
     "data": {
      "text/plain": [
       "2×2 Matrix{Float64}:\n",
       " 0.28332   0.593356\n",
       " 0.593356  1.24743"
      ]
     },
     "execution_count": 95,
     "metadata": {},
     "output_type": "execute_result"
    }
   ],
   "source": [
    "Bₜ(C₁, C₂, 0)"
   ]
  },
  {
   "cell_type": "markdown",
   "metadata": {},
   "source": [
    "Once we have $B_t$, the Langevin map is given by solving the following PDE:\n",
    "$$\n",
    "\\frac{\\partial S_t(x)}{\\partial t} = B_t S_t(x)\n",
    "$$\n",
    "\n",
    "Fixing $x$, this becomes:\n",
    "\n",
    "$$\n",
    "\\frac{d S_t(x)}{dt} = B_t S_t(x)\n",
    "$$\n",
    "\n",
    "Which we can solve using a basic ODE solver, such as the Forward Euler method. [3]"
   ]
  },
  {
   "cell_type": "markdown",
   "metadata": {},
   "source": [
    "## Solving for the Langevin map using Forward Euler\n",
    "We now fix $x$ and solve for $S_t(x)$. As we fix $x$, it will be easier to write $S_t(x) = S_x(t)$. We first discretise the time dimension into $n$ equal sized time steps between 0 and $T$."
   ]
  },
  {
   "cell_type": "code",
   "execution_count": 96,
   "metadata": {},
   "outputs": [
    {
     "data": {
      "text/plain": [
       "0.002000200020002"
      ]
     },
     "execution_count": 96,
     "metadata": {},
     "output_type": "execute_result"
    }
   ],
   "source": [
    "T = 10\n",
    "n = 10_000\n",
    "t = range(0, T, length=n)\n",
    "h = step(t)"
   ]
  },
  {
   "cell_type": "markdown",
   "metadata": {},
   "source": [
    "Now, we use the Forward Euler method, given by the following equation, to solve for $S_x(t)$:\n",
    "$$\n",
    "S_x(0) = x,\\, \\text{ as } t_1 = 0\\\\\n",
    "S_x(t_{k+1}) = \\left(\\text{Id} + hB_{t_k}\\right)S_x(t_{k}),\\, 2\\leq k\\leq n\n",
    "$$\n",
    "This is implemented below as a function that takes in $x$ as its initial condition and outputs the time evolution of the Langevin map for the discrete time steps betwen $t=0$ and $t=T$."
   ]
  },
  {
   "cell_type": "code",
   "execution_count": 110,
   "metadata": {},
   "outputs": [
    {
     "data": {
      "text/plain": [
       "solve_system (generic function with 3 methods)"
      ]
     },
     "execution_count": 110,
     "metadata": {},
     "output_type": "execute_result"
    }
   ],
   "source": [
    "function LT_map(Σ₁, Σ₂, n, T, x, full=false)\n",
    "    # full=True returns array of time evolution, if false just returns value at end T\n",
    "    t = range(0, T, length=n)\n",
    "    h = step(t)\n",
    "    if full\n",
    "        Sₜx = zeros(2, n)\n",
    "        Sₜx[:, 1] = x\n",
    "        for k = 1:n-1\n",
    "            Sₜx[:, k+1] = (I + h.*Bₜ(Σ₁, Σ₂, t[k]))*Sₜx[:, k]\n",
    "        end\n",
    "    else\n",
    "        Sₜx = x\n",
    "        for k = 1:n-1\n",
    "            Sₜx = (I + h.*Bₜ(Σ₁, Σ₂, t[k]))*Sₜx\n",
    "        end\n",
    "    end\n",
    "    Sₜx\n",
    "end"
   ]
  },
  {
   "cell_type": "markdown",
   "metadata": {},
   "source": [
    "We can also solve for the derivative, $DS$, by using solving the following differential equation:\n",
    "$$\n",
    "\\frac{dDS_x(t)}{dt} = B_tDS_t(x);\\; DS_0 = \\text{Id}\n",
    "$$\n",
    "\n",
    "We can do this by extending Forward Euler to solve matrix ODEs; we have:\n",
    "$$\n",
    "DS_x(0) = \\text{Id},\\, \\text{ as } t_1 = 0\\\\\n",
    "DS_x(t_{k+1}) = \\left(\\text{Id} + hB_{t_k}\\right)DS_x(t_{k}),\\, 2\\leq k\\leq n\n",
    "$$\n",
    "\n",
    "This is implemented below. This is a more elegant approach as our solution does not depend on $x$ and therefore we do not need to interpolate off a grid."
   ]
  },
  {
   "cell_type": "code",
   "execution_count": 145,
   "metadata": {},
   "outputs": [
    {
     "data": {
      "text/plain": [
       "2-element Vector{Float64}:\n",
       " 1.213379855046512\n",
       " 5.231720180680491e-5"
      ]
     },
     "execution_count": 145,
     "metadata": {},
     "output_type": "execute_result"
    }
   ],
   "source": [
    "function LT_derivative(Σ₁, Σ₂, n, T)\n",
    "    t = range(0, T, length=n)\n",
    "    h = step(t)\n",
    "    S∞ = [1 0; 0 1]\n",
    "    for k = 1:n-1\n",
    "        S∞ = (I + h.*Bₜ(Σ₁, Σ₂, t[k]))*S∞\n",
    "    end\n",
    "    S∞, svdvals(S∞)\n",
    "end\n",
    "\n",
    "LT_derivative(C₁, C₂, 1000, 10)"
   ]
  },
  {
   "cell_type": "markdown",
   "metadata": {},
   "source": [
    "We now broadcast the function over the square grid created in the preliminaries to get the values of the Langevin map for all points in our grid:"
   ]
  },
  {
   "cell_type": "code",
   "execution_count": 140,
   "metadata": {},
   "outputs": [
    {
     "ename": "LoadError",
     "evalue": "UndefVarError: LT_map not defined",
     "output_type": "error",
     "traceback": [
      "UndefVarError: LT_map not defined",
      "",
      "Stacktrace:",
      " [1] (::var\"#25#26\")(x::Vector{Float64})",
      "   @ Main ./In[140]:1",
      " [2] _broadcast_getindex_evalf",
      "   @ ./broadcast.jl:670 [inlined]",
      " [3] _broadcast_getindex",
      "   @ ./broadcast.jl:643 [inlined]",
      " [4] getindex",
      "   @ ./broadcast.jl:597 [inlined]",
      " [5] copy",
      "   @ ./broadcast.jl:899 [inlined]",
      " [6] materialize(bc::Base.Broadcast.Broadcasted{Base.Broadcast.DefaultArrayStyle{2}, Nothing, var\"#25#26\", Tuple{Matrix{Vector{Float64}}}})",
      "   @ Base.Broadcast ./broadcast.jl:860",
      " [7] top-level scope",
      "   @ In[140]:2",
      " [8] eval",
      "   @ ./boot.jl:373 [inlined]",
      " [9] include_string(mapexpr::typeof(REPL.softscope), mod::Module, code::String, filename::String)",
      "   @ Base ./loading.jl:1196"
     ]
    }
   ],
   "source": [
    "LT_map_custom = x -> LT_map(C₁, C₂, 1000, 10, x)\n",
    "A = LT_map_custom.(square_grid(1, 0.1));\n",
    "A"
   ]
  },
  {
   "cell_type": "markdown",
   "metadata": {},
   "source": [
    "## TODO\n",
    "\n",
    "Grid interpolation"
   ]
  },
  {
   "cell_type": "markdown",
   "metadata": {},
   "source": [
    "# References\n",
    "[1] - https://djalil.chafai.net/blog/2010/04/30/wasserstein-distance-between-two-gaussians/\n",
    "\n",
    "[2] - Anastasiya Tanana (2020). Comparison of transport map generated by heat flow interpolation and the optimal transport Brenier map. Communications in Contemporary Mathematics, 23(06), 2050025.\n",
    "\n",
    "[3] - https://github.com/Imperial-MATH50003/MATH50003NumericalAnalysis/blob/main/notes/MATH50003_numerical_analysis_lecture_notes.pdf"
   ]
  },
  {
   "cell_type": "markdown",
   "metadata": {},
   "source": []
  }
 ],
 "metadata": {
  "kernelspec": {
   "display_name": "Julia 1.7.1",
   "language": "julia",
   "name": "julia-1.7"
  },
  "language_info": {
   "file_extension": ".jl",
   "mimetype": "application/julia",
   "name": "julia",
   "version": "1.7.1"
  },
  "orig_nbformat": 4,
  "vscode": {
   "interpreter": {
    "hash": "b0fa6594d8f4cbf19f97940f81e996739fb7646882a419484c72d19e05852a7e"
   }
  }
 },
 "nbformat": 4,
 "nbformat_minor": 2
}
