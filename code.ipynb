{
 "cells": [
  {
   "cell_type": "markdown",
   "metadata": {},
   "source": [
    "# Numerical Langevin\n",
    "### By Carlos A.C.C. Perello"
   ]
  },
  {
   "cell_type": "markdown",
   "metadata": {},
   "source": [
    "## Preliminaries\n",
    "The only preliminaries are importing the relevant packages, i.e. the `LinearAlgebra.jl` package and making a function that creates a square grid centered about $(0,0)$ of side length $2x$ where the points are evenly spaced by $h$."
   ]
  },
  {
   "cell_type": "code",
   "execution_count": 5,
   "metadata": {},
   "outputs": [
    {
     "data": {
      "text/plain": [
       "square_grid (generic function with 1 method)"
      ]
     },
     "execution_count": 5,
     "metadata": {},
     "output_type": "execute_result"
    }
   ],
   "source": [
    "using LinearAlgebra\n",
    "function square_grid(x, h)\n",
    "    grid = [[i j] for i in -x:h:x, j in -x:h:x]\n",
    "    grid\n",
    "end"
   ]
  },
  {
   "cell_type": "markdown",
   "metadata": {},
   "source": [
    "### Test square grid"
   ]
  },
  {
   "cell_type": "code",
   "execution_count": 6,
   "metadata": {},
   "outputs": [
    {
     "data": {
      "text/plain": [
       "2001×2001 Matrix{Matrix{Float64}}:\n",
       " [-10.0 -10.0]  [-10.0 -9.99]  [-10.0 -9.98]  …  [-10.0 9.99]  [-10.0 10.0]\n",
       " [-9.99 -10.0]  [-9.99 -9.99]  [-9.99 -9.98]     [-9.99 9.99]  [-9.99 10.0]\n",
       " [-9.98 -10.0]  [-9.98 -9.99]  [-9.98 -9.98]     [-9.98 9.99]  [-9.98 10.0]\n",
       " [-9.97 -10.0]  [-9.97 -9.99]  [-9.97 -9.98]     [-9.97 9.99]  [-9.97 10.0]\n",
       " [-9.96 -10.0]  [-9.96 -9.99]  [-9.96 -9.98]     [-9.96 9.99]  [-9.96 10.0]\n",
       " [-9.95 -10.0]  [-9.95 -9.99]  [-9.95 -9.98]  …  [-9.95 9.99]  [-9.95 10.0]\n",
       " [-9.94 -10.0]  [-9.94 -9.99]  [-9.94 -9.98]     [-9.94 9.99]  [-9.94 10.0]\n",
       " [-9.93 -10.0]  [-9.93 -9.99]  [-9.93 -9.98]     [-9.93 9.99]  [-9.93 10.0]\n",
       " [-9.92 -10.0]  [-9.92 -9.99]  [-9.92 -9.98]     [-9.92 9.99]  [-9.92 10.0]\n",
       " [-9.91 -10.0]  [-9.91 -9.99]  [-9.91 -9.98]     [-9.91 9.99]  [-9.91 10.0]\n",
       " [-9.9 -10.0]   [-9.9 -9.99]   [-9.9 -9.98]   …  [-9.9 9.99]   [-9.9 10.0]\n",
       " [-9.89 -10.0]  [-9.89 -9.99]  [-9.89 -9.98]     [-9.89 9.99]  [-9.89 10.0]\n",
       " [-9.88 -10.0]  [-9.88 -9.99]  [-9.88 -9.98]     [-9.88 9.99]  [-9.88 10.0]\n",
       " ⋮                                            ⋱                ⋮\n",
       " [9.89 -10.0]   [9.89 -9.99]   [9.89 -9.98]      [9.89 9.99]   [9.89 10.0]\n",
       " [9.9 -10.0]    [9.9 -9.99]    [9.9 -9.98]    …  [9.9 9.99]    [9.9 10.0]\n",
       " [9.91 -10.0]   [9.91 -9.99]   [9.91 -9.98]      [9.91 9.99]   [9.91 10.0]\n",
       " [9.92 -10.0]   [9.92 -9.99]   [9.92 -9.98]      [9.92 9.99]   [9.92 10.0]\n",
       " [9.93 -10.0]   [9.93 -9.99]   [9.93 -9.98]      [9.93 9.99]   [9.93 10.0]\n",
       " [9.94 -10.0]   [9.94 -9.99]   [9.94 -9.98]      [9.94 9.99]   [9.94 10.0]\n",
       " [9.95 -10.0]   [9.95 -9.99]   [9.95 -9.98]   …  [9.95 9.99]   [9.95 10.0]\n",
       " [9.96 -10.0]   [9.96 -9.99]   [9.96 -9.98]      [9.96 9.99]   [9.96 10.0]\n",
       " [9.97 -10.0]   [9.97 -9.99]   [9.97 -9.98]      [9.97 9.99]   [9.97 10.0]\n",
       " [9.98 -10.0]   [9.98 -9.99]   [9.98 -9.98]      [9.98 9.99]   [9.98 10.0]\n",
       " [9.99 -10.0]   [9.99 -9.99]   [9.99 -9.98]      [9.99 9.99]   [9.99 10.0]\n",
       " [10.0 -10.0]   [10.0 -9.99]   [10.0 -9.98]   …  [10.0 9.99]   [10.0 10.0]"
      ]
     },
     "execution_count": 6,
     "metadata": {},
     "output_type": "execute_result"
    }
   ],
   "source": [
    "square_grid(10, 0.01)"
   ]
  },
  {
   "cell_type": "markdown",
   "metadata": {},
   "source": [
    "## Computing the derivative of the Brenier map"
   ]
  },
  {
   "cell_type": "markdown",
   "metadata": {},
   "source": [
    "We are interested in transporting the following distributions:\n",
    "\n",
    "$$\n",
    "\\mathcal{N}(m_1,\\Sigma_1)\\to\\mathcal{N}(m_2,\\Sigma_2)\n",
    "$$\n",
    "\n",
    "Where $\\mathcal{N}(\\mathbf{\\mu}, \\Sigma)$ is a multivariate normal with mean $\\mathbf{\\mu}\\in \\mathbb{R}^n$ and covariance matrix $\\Sigma\\in\\mathbb{R}^{n\\times n}$.\n",
    "\n",
    "As we are interested in transporting a Gaussian distribution into another Gaussian distribution, the problem of computing the Brenier map between these 2 distributions simplifies to computing the map [1]:\n",
    "\n",
    "$$\n",
    "T_{\\text{Brenier}}:x\\mapsto m_2 + A(x-m_1) \\quad \\text{with } A = \\Sigma_1^{-1/2}(\\Sigma_1^{1/2}\\Sigma_2\\Sigma_2^{1/2})^{1/2}\\Sigma_1^{-1/2}\n",
    "$$\n",
    "\n",
    "Therefore, the derivative of the Brenier map, $DT_{\\text{Brenier}} = A$, which is easy to compute and done below. We also want to compute the singular values of $DT_{\\text{Brenier}}$ as they can be used to bound its operator norm."
   ]
  },
  {
   "cell_type": "code",
   "execution_count": 7,
   "metadata": {},
   "outputs": [
    {
     "data": {
      "text/plain": [
       "OT_derivative (generic function with 1 method)"
      ]
     },
     "execution_count": 7,
     "metadata": {},
     "output_type": "execute_result"
    }
   ],
   "source": [
    "function OT_derivative(Σ₁, Σ₂)\n",
    "    #=\n",
    "    Returns a tuple consisting of \n",
    "    the derivative of the Bernier map in the first entry\n",
    "    and a vector containing the singular vals\n",
    "    of the derivative of the Bernier map in the second entry.\n",
    "    =#\n",
    "    A = inv(sqrt(Σ₁))*sqrt(sqrt(Σ₁)*Σ₂*sqrt(Σ₁))*inv(sqrt(Σ₁))\n",
    "    A, svdvals(A)\n",
    "end"
   ]
  },
  {
   "cell_type": "markdown",
   "metadata": {},
   "source": [
    "### Testing the computation of the derivative of Brenier map"
   ]
  },
  {
   "cell_type": "code",
   "execution_count": 8,
   "metadata": {},
   "outputs": [
    {
     "data": {
      "text/plain": [
       "2×2 Matrix{Float64}:\n",
       " 0.0689161  0.218858\n",
       " 0.218858   1.07786"
      ]
     },
     "execution_count": 8,
     "metadata": {},
     "output_type": "execute_result"
    }
   ],
   "source": [
    "n = 2 # Dimension of multivariate Gaussian\n",
    "X₁ = rand(n, n) \n",
    "X₂ = rand(n, n) # Generate 2 random n×n matrices\n",
    "C₁ = X₁'*X₁\n",
    "C₂ = X₂'*X₂ # Use the random matrices to generate 2 random \n",
    "# n×n pos. def. matrices, as covariance matrices are pos. def.\n",
    "\n",
    "OT_map = OT_derivative(C₁, C₂)[1]"
   ]
  },
  {
   "cell_type": "markdown",
   "metadata": {},
   "source": [
    "## Computing the Langevin map\n",
    "We want to numerically compute the Langevin map between two Gaussians. To do so, we first need to introduce $P_t^A(f)$ and $B_t$. We define $P_t^A(f) as [2]:\n",
    "$$\n",
    "P_t^A(f) = \\int_{\\mathbb{R^n}}f\\left(\\exp(-tA)x + \\sqrt{\\text{Id}-\\exp(-2tA)} y\\right)d\\mu(y)\n",
    "$$\n",
    "\n",
    "In the case of transport between 2 gaussians, $B_t$ is then defined as [2]:\n",
    "$$\n",
    "P_t^A\\left(c_o\\exp\\left(-\\frac{1}{2}y^TBy\\right)\\right)(x) = c_t\\exp\\left(-\\frac{1}{2}x^T B_t x\\right)\n",
    "$$\n",
    "And $B_t$ can be computed by explicitly computing and rearranging the LHS of the equation above [2].\n",
    "After doing this with $A=\\Sigma_1$ and $B=\\Sigma_2$, $B_t$ is:\n",
    "$$\n",
    "B_t = (e^{-t\\Sigma_1})^T\\Sigma_2e^{-t\\Sigma_1} - I\n",
    "$$\n",
    "\n",
    "THERE IS A MISTAKE HERE ^\n",
    "\n",
    "and $c_t$ is given by:\n",
    "$$\n",
    "c_t = \\frac{\\sqrt{\\pi}c_0c}{2\\left|\\det\\left({\\sqrt{(\\sqrt{I-e^{-2t\\Sigma_1}})^T \\Sigma_2 (\\sqrt{I-e^{-2t\\Sigma_1}})+\\Sigma_1}}\\right)\\right|}\n",
    "$$\n",
    "\n",
    "We can implement $B_t$ as a function, done below."
   ]
  },
  {
   "cell_type": "code",
   "execution_count": 10,
   "metadata": {},
   "outputs": [
    {
     "data": {
      "text/plain": [
       "2×2 Matrix{Float64}:\n",
       " 0.0  0.0\n",
       " 0.0  0.0"
      ]
     },
     "execution_count": 10,
     "metadata": {},
     "output_type": "execute_result"
    }
   ],
   "source": [
    "function Bₜ(Σ₁, Σ₂, t)\n",
    "    (exp(-t.*Σ₁)')*Σ₂*exp(-t*Σ₁)\n",
    "end\n",
    "\n",
    "Bₜ(C₁, C₂, 0) - C₂"
   ]
  },
  {
   "cell_type": "markdown",
   "metadata": {},
   "source": [
    "### Testing $B_t$\n",
    "We reuse the random positive definite matrices generated above:"
   ]
  },
  {
   "cell_type": "code",
   "execution_count": 11,
   "metadata": {},
   "outputs": [
    {
     "data": {
      "text/plain": [
       "2×2 Matrix{Float64}:\n",
       " 0.0473826  0.228384\n",
       " 0.228384   1.10555"
      ]
     },
     "execution_count": 11,
     "metadata": {},
     "output_type": "execute_result"
    }
   ],
   "source": [
    "Bₜ(C₁, C₂, 0)"
   ]
  },
  {
   "cell_type": "markdown",
   "metadata": {},
   "source": [
    "Once we have $B_t$, the Langevin map is given by solving the following PDE:\n",
    "$$\n",
    "\\frac{\\partial S_t(x)}{\\partial t} = B_t S_t(x)\n",
    "$$\n",
    "\n",
    "Fixing $x$, this becomes:\n",
    "\n",
    "$$\n",
    "\\frac{d S_t(x)}{dt} = B_t S_t(x)\n",
    "$$\n",
    "\n",
    "Which we can solve using a basic ODE solver, such as the Forward Euler method. [3]"
   ]
  },
  {
   "cell_type": "markdown",
   "metadata": {},
   "source": [
    "## Solving for the Langevin map using Forward Euler\n",
    "We now fix $x$ and solve for $S_t(x)$. As we fix $x$, it will be easier to write $S_t(x) = S_x(t)$. We first discretise the time dimension into $n$ equal sized time steps between 0 and $T$."
   ]
  },
  {
   "cell_type": "code",
   "execution_count": 12,
   "metadata": {},
   "outputs": [
    {
     "data": {
      "text/plain": [
       "0.002000200020002"
      ]
     },
     "execution_count": 12,
     "metadata": {},
     "output_type": "execute_result"
    }
   ],
   "source": [
    "T = 10\n",
    "n = 10_000\n",
    "t = range(0, 20, length=n)\n",
    "h = step(t)"
   ]
  },
  {
   "cell_type": "markdown",
   "metadata": {},
   "source": [
    "Now, we use the Forward Euler method, given by the following equation, to solve for $S_x(t)$:\n",
    "$$\n",
    "S_x(0) = x,\\, \\text{ as } t_1 = 0\\\\\n",
    "S_x(t_{k+1}) = \\left(\\text{Id} + hB_{t_k}\\right)S_x(t_{k}),\\, 2\\leq k\\leq n\n",
    "$$\n",
    "This is implemented below as a function that takes in $x$ as its initial condition and outputs the time evolution of the Langevin map for the discrete time steps betwen $t=0$ and $t=T$."
   ]
  },
  {
   "cell_type": "code",
   "execution_count": 13,
   "metadata": {},
   "outputs": [
    {
     "data": {
      "text/plain": [
       "solve_system (generic function with 1 method)"
      ]
     },
     "execution_count": 13,
     "metadata": {},
     "output_type": "execute_result"
    }
   ],
   "source": [
    "function solve_system(x)\n",
    "    Sₜx = zeros(2, n)\n",
    "    Sₜx[:, 1] = x\n",
    "    for k = 1:n-1\n",
    "        Sₜx[:, k+1] = (I + h.*Bₜ(C₁, C₂, t[k]))*Sₜx[:, k]\n",
    "    end\n",
    "    Sₜx\n",
    "end"
   ]
  },
  {
   "cell_type": "markdown",
   "metadata": {},
   "source": [
    "We now broadcast the function over the square grid created in the preliminaries to get the values of the Langevin map for all points in our grid:"
   ]
  },
  {
   "cell_type": "code",
   "execution_count": 14,
   "metadata": {},
   "outputs": [
    {
     "data": {
      "text/plain": [
       "2×10000 Matrix{Float64}:\n",
       " -1.0  -1.00055  -1.0011   -1.00165  …  -1.25485  -1.25485  -1.25485\n",
       " -1.0  -1.00267  -1.00533  -1.00799     -2.03031  -2.03031  -2.03031"
      ]
     },
     "execution_count": 14,
     "metadata": {},
     "output_type": "execute_result"
    }
   ],
   "source": [
    "A = solve_system.(square_grid(1, 0.1));\n",
    "A[1]"
   ]
  },
  {
   "cell_type": "markdown",
   "metadata": {},
   "source": [
    "# References\n",
    "[1] - https://djalil.chafai.net/blog/2010/04/30/wasserstein-distance-between-two-gaussians/\n",
    "\n",
    "[2] - Anastasiya Tanana (2020). Comparison of transport map generated by heat flow interpolation and the optimal transport Brenier map. Communications in Contemporary Mathematics, 23(06), 2050025.\n",
    "\n",
    "[3] - https://github.com/Imperial-MATH50003/MATH50003NumericalAnalysis/blob/main/notes/MATH50003_numerical_analysis_lecture_notes.pdf"
   ]
  }
 ],
 "metadata": {
  "kernelspec": {
   "display_name": "Julia 1.7.1",
   "language": "julia",
   "name": "julia-1.7"
  },
  "language_info": {
   "file_extension": ".jl",
   "mimetype": "application/julia",
   "name": "julia",
   "version": "1.7.1"
  },
  "orig_nbformat": 4,
  "vscode": {
   "interpreter": {
    "hash": "b0fa6594d8f4cbf19f97940f81e996739fb7646882a419484c72d19e05852a7e"
   }
  }
 },
 "nbformat": 4,
 "nbformat_minor": 2
}
