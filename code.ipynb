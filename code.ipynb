{
 "cells": [
  {
   "cell_type": "markdown",
   "metadata": {},
   "source": [
    "# Numerical Langevin\n",
    "### By Carlos A.C.C. Perello"
   ]
  },
  {
   "cell_type": "markdown",
   "metadata": {},
   "source": [
    "## 0. Preliminaries\n",
    "The only preliminaries are importing the relevant packages, i.e. the `LinearAlgebra.jl` package."
   ]
  },
  {
   "cell_type": "code",
   "execution_count": 3,
   "metadata": {},
   "outputs": [],
   "source": [
    "using LinearAlgebra"
   ]
  },
  {
   "cell_type": "markdown",
   "metadata": {},
   "source": [
    "## 1. General computation of the derivative of the Brenier map"
   ]
  },
  {
   "cell_type": "markdown",
   "metadata": {},
   "source": [
    "We are interested in transporting the following distributions:\n",
    "\n",
    "$$\n",
    "\\mathcal{N}(m_1,\\Sigma_1)\\to\\mathcal{N}(m_2, \\Sigma_2)\n",
    "$$\n",
    "\n",
    "Where $\\mathcal{N}(\\mathbf{\\mu}, \\Sigma)$ is a multivariate normal with mean $\\mathbf{\\mu}\\in \\mathbb{R}^n$ and covariance matrix $\\Sigma\\in\\mathbb{R}^{n\\times n}$.\n",
    "\n",
    "As we are interested in transporting a Gaussian distribution into another Gaussian distribution, the problem of computing the Brenier map (the unique map which is the gradient of a convex function, denoted as $T$) between these 2 distributions simplifies to computing the map [1]:\n",
    "\n",
    "$$\n",
    "T:x\\mapsto m_2 + M(x-m_1) \\quad \\text{with } M = \\Sigma_1^{-1/2}(\\Sigma_1^{1/2}\\Sigma_2\\Sigma_1^{1/2})^{1/2}\\Sigma_1^{-1/2}\n",
    "$$\n",
    "\n",
    "Therefore, the derivative of the Brenier map, $DT = M$, which is easy to compute and done below. We also want to compute the singular values of $DT$ as they can be used to bound its operator norm."
   ]
  },
  {
   "cell_type": "code",
   "execution_count": 38,
   "metadata": {},
   "outputs": [
    {
     "data": {
      "text/plain": [
       "DT (generic function with 1 method)"
      ]
     },
     "execution_count": 38,
     "metadata": {},
     "output_type": "execute_result"
    }
   ],
   "source": [
    "function DT(Σ₁, Σ₂)\n",
    "    #=\n",
    "    Returns a tuple consisting of \n",
    "    the derivative of the Bernier map in the first entry\n",
    "    and a vector containing the singular vals\n",
    "    of the derivative of the Bernier map in the second entry.\n",
    "    =#\n",
    "    ret = inv(√(Σ₁))*√(√(Σ₁)*Σ₂*√(Σ₁))*inv(√(Σ₁))\n",
    "    ret\n",
    "end"
   ]
  },
  {
   "cell_type": "markdown",
   "metadata": {},
   "source": [
    "#### Test"
   ]
  },
  {
   "cell_type": "markdown",
   "metadata": {},
   "source": [
    "We generate 2 random pos. def matrices, which we will use for testing throughout the code."
   ]
  },
  {
   "cell_type": "code",
   "execution_count": 39,
   "metadata": {},
   "outputs": [
    {
     "name": "stdout",
     "output_type": "stream",
     "text": [
      "[0.6475510046028452 0.5636624464938351; 0.5636624464938351 0.9651296479505218]\n",
      "[0.2157721546008205 0.26062974713696785; 0.26062974713696785 0.5597180591963227]"
     ]
    }
   ],
   "source": [
    "n = 2 # Dimension of multivariate Gaussian\n",
    "X₁ = rand(n, n)\n",
    "X₂ = rand(n, n) # Generate 2 random n×n matrices\n",
    "C₁ = X₁'*X₁\n",
    "C₂ = X₂'*X₂ # Use the random matrices to generate 2 random \n",
    "# n×n pos. def. matrices, as covariance matrices are pos. def.\n",
    "print(C₁)\n",
    "print(\"\\n\")\n",
    "print(C₂)"
   ]
  },
  {
   "cell_type": "code",
   "execution_count": 40,
   "metadata": {},
   "outputs": [
    {
     "data": {
      "text/plain": [
       "2×2 Matrix{Float64}:\n",
       " 0.55577    0.0242436\n",
       " 0.0242436  0.747252"
      ]
     },
     "execution_count": 40,
     "metadata": {},
     "output_type": "execute_result"
    }
   ],
   "source": [
    "DT(C₁, C₂)"
   ]
  },
  {
   "cell_type": "markdown",
   "metadata": {},
   "source": [
    "## 2. Time-evolving computation the derivatives for the Brenier & Langevin maps"
   ]
  },
  {
   "cell_type": "markdown",
   "metadata": {},
   "source": [
    "### 2.1 Computing $B_t$"
   ]
  },
  {
   "cell_type": "markdown",
   "metadata": {},
   "source": [
    "\n",
    "\n",
    "We want to numerically compute the Langevin map between two Gaussians. We note that in this case, we are transporting:\n",
    "$$\n",
    "\\mu = \\mathcal{N}(\\mu_1,\\, \\Sigma_1) \\to \\nu = \\mathcal{N}(\\mu_2,\\, \\Sigma_1 + \\Sigma_2)\n",
    "$$\n",
    "\n",
    "To do so, we first need to introduce $P_t^A(f) $ and $B_t$. We define $P_t^A(f)$ as [2]:\n",
    "$$\n",
    "P_t^A(f) = \\int_{\\mathbb{R^n}}f\\left(\\exp(-tA)x + \\sqrt{\\text{Id}-\\exp(-2tA)} y\\right)d\\mu(y)\n",
    "$$\n",
    "\n",
    "In the case of transport between 2 gaussians, $B_t$ is then defined as [2]:\n",
    "$$\n",
    "P_t^A\\left(c_o\\exp\\left(-\\frac{1}{2}y^TBy\\right)\\right)(x) = c_t\\exp\\left(-\\frac{1}{2}x^T B_t x\\right)\n",
    "$$\n",
    "And $B_t$ can be computed by explicitly computing and rearranging the LHS of the equation above [2].\n",
    "We introduce the notation $A=\\Sigma_1$, $B=\\Sigma_2, C = e^{-tA}, D=\\sqrt{I-e^{-2tA}}$ and $W = \\sqrt{D^TBD + A}$ to obtain that $B_t$ is:\n",
    "$$\n",
    "B_t = C^TBC - C^TBDW^{-1}W^{-T}D^TB^TC\n",
    "$$\n",
    "and $c_t$ is given by:\n",
    "$$\n",
    "c_t = \\frac{cc_0\\sqrt{\\pi}}{2\\left|\\det(W)\\right|}\n",
    "$$\n",
    "\n",
    "We can think of $B_t$ as the \"intermediate transport\" between the two covariances; take $\\mu_1 = \\mu_2 = 0$ for simplicity:\n",
    "- $B_0 = \\Sigma_2$\n",
    "- $B_\\infty = 0$\n",
    "- The covariance of an \"intermediate Gaussian\", i.e. if we truncate transport $\\mathcal{N}(0,\\Sigma_1) \\to \\mathcal{N}(0, \\Sigma_1 + \\Sigma_2)$ at time $t$ our resulting Gaussian will be $\\mathcal{N}(0, \\Sigma_1 + B_t)$\n",
    "\n",
    "\n",
    "We can implement $B_t$ and $c_t$ as functions, done below."
   ]
  },
  {
   "cell_type": "code",
   "execution_count": 12,
   "metadata": {},
   "outputs": [
    {
     "data": {
      "text/plain": [
       "cₜ (generic function with 1 method)"
      ]
     },
     "execution_count": 12,
     "metadata": {},
     "output_type": "execute_result"
    }
   ],
   "source": [
    "function Bₜ(Σ₁, Σ₂, t)\n",
    "    C = exp(-t.*Σ₁)\n",
    "    D = √(I-exp(-(2*t).*Σ₁))\n",
    "    W = √(D'*Σ₂*D + Σ₁)\n",
    "    prod = C'*Σ₂*D*inv(W)\n",
    "    ret = C'*Σ₂*C - prod*prod'\n",
    "    ret\n",
    "end\n",
    "\n",
    "function cₜ(c, c₀, Σ₁, Σ₂, t)\n",
    "    D = √(I-exp(-(2*t).*Σ₁))\n",
    "    W = √(D'*Σ₂*D + Σ₁)\n",
    "    ret = (c*c₀*(√π))/(2*abs(det(W)))\n",
    "    ret\n",
    "end"
   ]
  },
  {
   "cell_type": "markdown",
   "metadata": {},
   "source": [
    "#### 2.1.1 Test"
   ]
  },
  {
   "cell_type": "markdown",
   "metadata": {},
   "source": [
    "$B_t$ should satisfy $B_0 = B = \\Sigma_2$ [2] which we can use as a sanity check. Additionally, tending $t\\to\\infty$ in the expression for $P^t_A(f)$ with our choice of $f$ yields that $B_\\infty = \\lim\\limits_{t\\to\\infty}B_t = \\log(\\text{Id}) = \\mathbf{0}_{2\\times 2}$. To test this, we reuse the random positive definite matrices generated above:"
   ]
  },
  {
   "cell_type": "code",
   "execution_count": 33,
   "metadata": {},
   "outputs": [
    {
     "data": {
      "text/plain": [
       "true"
      ]
     },
     "execution_count": 33,
     "metadata": {},
     "output_type": "execute_result"
    }
   ],
   "source": [
    "Bₜ(C₁, C₂, 0) == C₂ && Bₜ(C₁, C₂, 10000000) == zeros(2, 2)"
   ]
  },
  {
   "cell_type": "markdown",
   "metadata": {},
   "source": [
    "### 2.2 Derivative of Brenier map"
   ]
  },
  {
   "cell_type": "markdown",
   "metadata": {},
   "source": [
    "Now let $\\nu_t$ be the resulting measure transforming $\\mu$ up to time step $t$. In this case, $\\nu_0 = \\nu$ and $\\nu_\\infty = \\mu$. Let the Brenier map transporting $\\mu\\to\\nu_t$ be $T_t$.\n",
    "\n",
    "Then [2] tells us that the derivative of $T_t$ is given by:\n",
    "$$\n",
    "DT_t = \\Sigma_1^{1/2}(\\Sigma_1^{1/2}(\\Sigma_1+B_t)\\Sigma_1^{1/2})^{-1/2}\\Sigma_1^{1/2}\n",
    "$$\n",
    "Which is implemented below."
   ]
  },
  {
   "cell_type": "code",
   "execution_count": 42,
   "metadata": {},
   "outputs": [
    {
     "data": {
      "text/plain": [
       "DTₜ (generic function with 1 method)"
      ]
     },
     "execution_count": 42,
     "metadata": {},
     "output_type": "execute_result"
    }
   ],
   "source": [
    "function DTₜ(Σ₁, Σ₂, t)\n",
    "    #= Map between μ and νₜ, where:\n",
    "    μ = N(0, Σ₁)\n",
    "    ν = N(0, Σ₁ + Σ₂)\n",
    "    νₜ = N(0, Σ₁ + Bₜ) ⟹ ν₀ = ν, ν∞ = μ\n",
    "    =#\n",
    "    Bt = Bₜ(Σ₁, Σ₂, t)\n",
    "    rootΣ₁ = √(Σ₁)\n",
    "    ret = inv(rootΣ₁)*√(rootΣ₁*(Σ₁ + Bt)*rootΣ₁)*inv(rootΣ₁)\n",
    "    ret\n",
    "end"
   ]
  },
  {
   "cell_type": "markdown",
   "metadata": {},
   "source": [
    "#### 2.2.1 Test"
   ]
  },
  {
   "cell_type": "markdown",
   "metadata": {},
   "source": [
    "To test, we check that $DT_0$ indeed maps $\\mu\\to\\nu$ and $DT_\\infty$ indeed maps $\\mu \\to \\mu$:"
   ]
  },
  {
   "cell_type": "code",
   "execution_count": 47,
   "metadata": {},
   "outputs": [
    {
     "data": {
      "text/plain": [
       "true"
      ]
     },
     "execution_count": 47,
     "metadata": {},
     "output_type": "execute_result"
    }
   ],
   "source": [
    "DTₜ(C₁, C₂, 0) ≈ DT(C₁, C₁ + C₂) && DTₜ(C₁, C₂, 100000) ≈ I"
   ]
  },
  {
   "cell_type": "markdown",
   "metadata": {},
   "source": [
    "### 2.3 Derivative of Langevin map"
   ]
  },
  {
   "cell_type": "markdown",
   "metadata": {},
   "source": [
    "Let $S_t(x)$ be the Langevin map at point $x$ at time $t$.\n",
    "\n",
    "Then, once we have $B_t$, the Langevin map is given by solving the following PDE:\n",
    "$$\n",
    "\\frac{\\partial S_t(x)}{\\partial t} = B_t S_t(x)\n",
    "$$\n",
    "\n",
    "Fixing $x$, this becomes:\n",
    "\n",
    "$$\n",
    "\\frac{d S_t(x)}{dt} = B_t S_t(x)\n",
    "$$\n",
    "\n",
    "Which we can solve using a basic ODE solver, such as the Forward Euler method [3]."
   ]
  },
  {
   "cell_type": "markdown",
   "metadata": {},
   "source": [
    "#### 2.3.1 Langevin map via Forward Euler"
   ]
  },
  {
   "cell_type": "markdown",
   "metadata": {},
   "source": [
    "\n",
    "We now fix $x$ and solve for $S_t(x)$. As we fix $x$, it will be easier to write $S_t(x) = S_x(t)$. We first discretise the time dimension into $n$ equal sized time steps between 0 and $T$."
   ]
  },
  {
   "cell_type": "code",
   "execution_count": 9,
   "metadata": {},
   "outputs": [
    {
     "data": {
      "text/plain": [
       "0.001000100010001"
      ]
     },
     "execution_count": 9,
     "metadata": {},
     "output_type": "execute_result"
    }
   ],
   "source": [
    "T = 10\n",
    "n = 10_000\n",
    "t = range(0, T, length=n)\n",
    "h = step(t)"
   ]
  },
  {
   "cell_type": "markdown",
   "metadata": {},
   "source": [
    "Now, we use the Forward Euler method, given by the following equation, to solve for $S_x(t)$:\n",
    "$$\n",
    "S_x(0) = x,\\, \\text{ as } t_1 = 0\\\\\n",
    "S_x(t_{k+1}) = \\left(\\text{Id} + hB_{t_k}\\right)S_x(t_{k}),\\, 2\\leq k\\leq n\n",
    "$$\n",
    "This is implemented below as a function that takes in $x$ as its initial condition and outputs the time evolution of the Langevin map for the discrete time steps betwen $t=0$ and $t=T$."
   ]
  },
  {
   "cell_type": "code",
   "execution_count": 10,
   "metadata": {},
   "outputs": [
    {
     "data": {
      "text/plain": [
       "LT_map (generic function with 2 methods)"
      ]
     },
     "execution_count": 10,
     "metadata": {},
     "output_type": "execute_result"
    }
   ],
   "source": [
    "function S(Σ₁, Σ₂, n, T, x, full=false)\n",
    "    # full=True returns array of time evolution, if false just returns value at end T\n",
    "    t = range(0, T, length=n)\n",
    "    h = step(t)\n",
    "    if full\n",
    "        Sₜx = zeros(2, n)\n",
    "        Sₜx[:, 1] = x\n",
    "        for k = 1:n-1\n",
    "            Sₜx[:, k+1] = (I + h.*Bₜ(Σ₁, Σ₂, t[k]))*Sₜx[:, k]\n",
    "        end\n",
    "    else\n",
    "        Sₜx = x\n",
    "        for k = 1:n-1\n",
    "            Sₜx = (I + h.*Bₜ(Σ₁, Σ₂, t[k]))*Sₜx\n",
    "        end\n",
    "    end\n",
    "    Sₜx\n",
    "end"
   ]
  },
  {
   "cell_type": "markdown",
   "metadata": {},
   "source": [
    "#### 2.3.2 Derivative of Langevin map using Forward Euler"
   ]
  },
  {
   "cell_type": "markdown",
   "metadata": {},
   "source": [
    "We can also solve for the derivative, $DS_x(t)$, by using solving the following differential equation:\n",
    "$$\n",
    "\\frac{dDS_x(t)}{dt} = B_tDS_t(x);\\; DS_x(0) = \\text{Id}\n",
    "$$\n",
    "\n",
    "Note that as $DS_x(0)$ is independent of $x \\, \\forall x\\in \\mathbb{R^2}$, $DS_x(t)$ will be independent of $x$ too, meaning we can simply write $DS_x(t) = DS(t)$.\n",
    "\n",
    "We can do this by extending Forward Euler to solve matrix ODEs; we have:\n",
    "$$\n",
    "DS(0) = \\text{Id},\\, \\text{ as } t_1 = 0\\\\\n",
    "DS(t_{k+1}) = \\left(\\text{Id} + hB_{t_k}\\right)DS(t_{k}),\\, 2\\leq k\\leq n\n",
    "$$\n",
    "\n",
    "This is implemented below. Note that we define `gen_step` to generate a nonuniformly spaced discretization of time; this is done to replicate the numerical methods implemented in [2] which yielded accurate results."
   ]
  },
  {
   "cell_type": "code",
   "execution_count": 156,
   "metadata": {},
   "outputs": [
    {
     "data": {
      "text/plain": [
       "gen_step (generic function with 1 method)"
      ]
     },
     "execution_count": 156,
     "metadata": {},
     "output_type": "execute_result"
    }
   ],
   "source": [
    "function gen_step(T)\n",
    "    if T <= 0.1\n",
    "        ret = 0:0.00002:T\n",
    "    elseif T <= 0.5 && T > 0.1\n",
    "        ret = [0:0.00002:0.1; 0.1:0.00005:T]\n",
    "    elseif T <= 1 && T > 0.5\n",
    "        ret = [0:0.00002:0.1; 0.1:0.00005:0.5; 0.5:0.0002:T]\n",
    "    elseif T <= 3 && T > 1\n",
    "        ret = [0:0.00002:0.1; 0.1:0.00005:0.5; 0.5:0.0002:1; 1:0.0005:T]\n",
    "    elseif T <= 5 && T > 3\n",
    "        ret = [0:0.00002:0.1; 0.1:0.00005:0.5; 0.5:0.0002:1; 1:0.0005:3; 3:0.002:T]\n",
    "    else\n",
    "        ret = [0:0.00002:0.1; 0.1:0.00005:0.5; 0.5:0.0002:1; 1:0.0005:3; 3:0.002:5; 5:0.005:T]\n",
    "    end\n",
    "end"
   ]
  },
  {
   "cell_type": "code",
   "execution_count": 157,
   "metadata": {},
   "outputs": [
    {
     "data": {
      "text/plain": [
       "DS (generic function with 3 methods)"
      ]
     },
     "execution_count": 157,
     "metadata": {},
     "output_type": "execute_result"
    }
   ],
   "source": [
    "#=\n",
    "function DS_uniform(Σ₁, Σ₂, h, T)\n",
    "    t = 0:h:T\n",
    "    n = length(t)\n",
    "    S∞ = [1 0; 0 1]\n",
    "    for k = 1:n-1\n",
    "        S∞ = (I + h.*Bₜ(Σ₁, Σ₂, t[k]))*S∞\n",
    "    end\n",
    "    S∞\n",
    "end\n",
    "=#\n",
    "function DS(Σ₁, Σ₂, T)\n",
    "    t = gen_step(T)\n",
    "    n = length(t)\n",
    "    S∞ = [1 0; 0 1]\n",
    "    for k = 1:n-1\n",
    "        h = t[k+1] - t[k]\n",
    "        S∞ = (I + h.*Bₜ(Σ₁, Σ₂, t[k]))*S∞\n",
    "    end\n",
    "    S∞\n",
    "end\n"
   ]
  },
  {
   "cell_type": "markdown",
   "metadata": {},
   "source": [
    "#### 2.3.3 Test"
   ]
  },
  {
   "cell_type": "markdown",
   "metadata": {},
   "source": [
    "We test our code by taking $\\Sigma_1$ to be diagonal so it commutes with $\\Sigma_2$. Once again, according to [2], if $\\Sigma_1$ and $\\Sigma_2$ commute, $\\lim\\limits_{t\\to\\infty}DS(t) = DT_0$. (more on why)"
   ]
  },
  {
   "cell_type": "code",
   "execution_count": 158,
   "metadata": {},
   "outputs": [
    {
     "data": {
      "text/plain": [
       "2×2 Diagonal{Int64, Vector{Int64}}:\n",
       " 10  ⋅\n",
       "  ⋅  6"
      ]
     },
     "execution_count": 158,
     "metadata": {},
     "output_type": "execute_result"
    }
   ],
   "source": [
    "D₁ = Diagonal([2, 9])\n",
    "D₂ = Diagonal([10, 6])"
   ]
  },
  {
   "cell_type": "code",
   "execution_count": 159,
   "metadata": {},
   "outputs": [
    {
     "data": {
      "text/plain": [
       "2×2 Matrix{Float64}:\n",
       " 2.44979  0.0\n",
       " 0.0      1.29108"
      ]
     },
     "execution_count": 159,
     "metadata": {},
     "output_type": "execute_result"
    }
   ],
   "source": [
    "T = 30 # take T to be large to be an ok approximation of ∞ but small so we can converge in \"fast-ish\" time.\n",
    "DScomm = DS(D₁, D₂, T) # the more we decrease h the better the approx, but the longer the wait"
   ]
  },
  {
   "cell_type": "code",
   "execution_count": 160,
   "metadata": {},
   "outputs": [
    {
     "data": {
      "text/plain": [
       "0.0003102911498557796"
      ]
     },
     "execution_count": 160,
     "metadata": {},
     "output_type": "execute_result"
    }
   ],
   "source": [
    "norm(DTₜ(D₁, D₂, 0) - DScomm2)"
   ]
  },
  {
   "cell_type": "markdown",
   "metadata": {},
   "source": [
    "### Brainstorm"
   ]
  },
  {
   "cell_type": "markdown",
   "metadata": {},
   "source": [
    "One first guess for the Langevin map was:\n",
    "$$\n",
    "G_1(t) = \\sqrt{(\\Sigma_1+B_t)\\Sigma_1^{-1}}\n",
    "$$\n",
    "Which works when $\\Sigma_1$ and $\\Sigma_2$ commute, as in that case $G_1$ is the Brenier map. However, this is not the case for general $\\Sigma_1$ and $\\Sigma_2$ as verified below."
   ]
  },
  {
   "cell_type": "code",
   "execution_count": 152,
   "metadata": {},
   "outputs": [
    {
     "data": {
      "text/plain": [
       "false"
      ]
     },
     "execution_count": 152,
     "metadata": {},
     "output_type": "execute_result"
    }
   ],
   "source": [
    "function G₁(Σ₁, Σ₂, t)\n",
    "    ret = √((Σ₁+Bₜ(Σ₁, Σ₂, t))*inv(Σ₁))\n",
    "    ret\n",
    "end\n",
    "\n",
    "norm(G(C₁, C₂, 30) - DS(C₁, C₂, 30)) ≈ 0 # not close to 0"
   ]
  },
  {
   "cell_type": "markdown",
   "metadata": {},
   "source": [
    "Another guess would be to do the following:\n",
    "- Let $\\Sigma_1 = P D P^T $ and $\\Sigma_1 + B_t = P_t D_t P_t^T$.\n",
    "\n",
    "\n",
    "Then the guess is:\n",
    "$$\n",
    "G_2(t) = P_t(D_t D^{-1})^{1/2}P^T\n",
    "$$\n",
    "\n",
    "  "
   ]
  },
  {
   "cell_type": "code",
   "execution_count": 102,
   "metadata": {},
   "outputs": [
    {
     "data": {
      "text/plain": [
       "G₂ (generic function with 1 method)"
      ]
     },
     "execution_count": 102,
     "metadata": {},
     "output_type": "execute_result"
    }
   ],
   "source": [
    "function G₂(Σ₁, Σ₂, t)\n",
    "    Bt = Bₜ(Σ₁, Σ₂, t) # Compute Bₜ\n",
    "    evals, P = eigen(Σ₁) # Decompose Σ₁\n",
    "    evalsₜ, Pₜ = eigen(Σ₁+Bt) # Decompose Σ₁ + Bₜ\n",
    "    D = Diagonal(evals) # Make Diagonal matrix of evals of Σ₁\n",
    "    Dₜ = Diagonal(evalsₜ) # Make Diagonal matrix of evals of Σ₁ + Bₜ\n",
    "    ret = Pₜ*√(Dₜ*inv(D))*P' # return the guess\n",
    "    ret\n",
    "end"
   ]
  },
  {
   "cell_type": "markdown",
   "metadata": {},
   "source": [
    "This does not seem to yield a good approximation either."
   ]
  },
  {
   "cell_type": "code",
   "execution_count": 154,
   "metadata": {},
   "outputs": [
    {
     "data": {
      "text/plain": [
       "0.2939513679537645"
      ]
     },
     "execution_count": 154,
     "metadata": {},
     "output_type": "execute_result"
    }
   ],
   "source": [
    "norm(G₂(C₁, C₂, 10) - DS(C₁, C₂, 30))"
   ]
  },
  {
   "cell_type": "code",
   "execution_count": 155,
   "metadata": {},
   "outputs": [
    {
     "data": {
      "text/plain": [
       "1.4787203749737685"
      ]
     },
     "execution_count": 155,
     "metadata": {},
     "output_type": "execute_result"
    }
   ],
   "source": [
    "norm(G₂(D₁, D₂, 10) - DS(D₁, D₂, 30))"
   ]
  },
  {
   "cell_type": "markdown",
   "metadata": {},
   "source": [
    "# References\n",
    "[1] - https://djalil.chafai.net/blog/2010/04/30/wasserstein-distance-between-two-gaussians/\n",
    "\n",
    "[2] - Anastasiya Tanana (2020). Comparison of transport map generated by heat flow interpolation and the optimal transport Brenier map. Communications in Contemporary Mathematics, 23(06), 2050025.\n",
    "\n",
    "[3] - https://github.com/Imperial-MATH50003/MATH50003NumericalAnalysis/blob/main/notes/MATH50003_numerical_analysis_lecture_notes.pdf"
   ]
  },
  {
   "cell_type": "markdown",
   "metadata": {},
   "source": [
    "Check"
   ]
  }
 ],
 "metadata": {
  "kernelspec": {
   "display_name": "Julia 1.7.1",
   "language": "julia",
   "name": "julia-1.7"
  },
  "language_info": {
   "file_extension": ".jl",
   "mimetype": "application/julia",
   "name": "julia",
   "version": "1.7.1"
  },
  "orig_nbformat": 4,
  "vscode": {
   "interpreter": {
    "hash": "b0fa6594d8f4cbf19f97940f81e996739fb7646882a419484c72d19e05852a7e"
   }
  }
 },
 "nbformat": 4,
 "nbformat_minor": 2
}
