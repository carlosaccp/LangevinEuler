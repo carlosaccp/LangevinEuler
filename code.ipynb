{
 "cells": [
  {
   "cell_type": "markdown",
   "metadata": {},
   "source": [
    "# Numerical Langevin\n",
    "### By Carlos A.C.C. Perello"
   ]
  },
  {
   "cell_type": "markdown",
   "metadata": {},
   "source": [
    "## Contents\n",
    "0. [Preliminaries](#prelims)\n",
    "1. [General computation of the derivative of the Brenier map](#brenier)\n",
    "2. [Time-evolving computation the derivatives for the Brenier & Langevin maps](#langevin)\n",
    "3. [Generating Models](#models)\n",
    "4. [Properties of DS and DT](#properties)"
   ]
  },
  {
   "cell_type": "markdown",
   "metadata": {},
   "source": [
    "## 0. Preliminaries <a class=\"anchor\" id=\"prelims\"></a>\n",
    "The only preliminaries are importing the relevant packages, i.e. the `LinearAlgebra.jl` package."
   ]
  },
  {
   "cell_type": "code",
   "execution_count": 81,
   "metadata": {},
   "outputs": [],
   "source": [
    "using LinearAlgebra, Plots"
   ]
  },
  {
   "cell_type": "markdown",
   "metadata": {},
   "source": [
    "## 1. General computation of the derivative of the Brenier map <a class=\"anchor\" id=\"brenier\"></a>"
   ]
  },
  {
   "cell_type": "markdown",
   "metadata": {},
   "source": [
    "We are interested in transporting the following distributions:\n",
    "\n",
    "$$\n",
    "\\mathcal{N}(m_1,\\Sigma_1)\\to\\mathcal{N}(m_2, \\Sigma_2)\n",
    "$$\n",
    "\n",
    "Where $\\mathcal{N}(\\mathbf{\\mu}, \\Sigma)$ is a multivariate normal with mean $\\mathbf{\\mu}\\in \\mathbb{R}^n$ and covariance matrix $\\Sigma\\in\\mathbb{R}^{n\\times n}$.\n",
    "\n",
    "As we are interested in transporting a Gaussian distribution into another Gaussian distribution, the problem of computing the Brenier map (the unique map which is the gradient of a convex function, denoted as $T$) between these 2 distributions simplifies to computing the map [1]:\n",
    "\n",
    "$$\n",
    "T:x\\mapsto m_2 + M(x-m_1) \\quad \\text{with } M = \\Sigma_1^{-1/2}(\\Sigma_1^{1/2}\\Sigma_2\\Sigma_1^{1/2})^{1/2}\\Sigma_1^{-1/2}\n",
    "$$\n",
    "\n",
    "Therefore, the derivative of the Brenier map, $DT = M$, which is easy to compute and done below. We also want to compute the singular values of $DT$ as they can be used to bound its operator norm."
   ]
  },
  {
   "cell_type": "code",
   "execution_count": 2,
   "metadata": {},
   "outputs": [
    {
     "data": {
      "text/plain": [
       "DT (generic function with 1 method)"
      ]
     },
     "execution_count": 2,
     "metadata": {},
     "output_type": "execute_result"
    }
   ],
   "source": [
    "function DT(Σ₁, Σ₂)\n",
    "    #=\n",
    "    Returns a tuple consisting of \n",
    "    the derivative of the Bernier map in the first entry\n",
    "    and a vector containing the singular vals\n",
    "    of the derivative of the Bernier map in the second entry.\n",
    "    =#\n",
    "    ret = inv(√(Σ₁))*√(√(Σ₁)*Σ₂*√(Σ₁))*inv(√(Σ₁))\n",
    "    ret\n",
    "end"
   ]
  },
  {
   "cell_type": "markdown",
   "metadata": {},
   "source": [
    "#### Test"
   ]
  },
  {
   "cell_type": "markdown",
   "metadata": {},
   "source": [
    "We generate 2 random pos. def matrices, which we will use for testing throughout the code."
   ]
  },
  {
   "cell_type": "code",
   "execution_count": 3,
   "metadata": {},
   "outputs": [
    {
     "name": "stdout",
     "output_type": "stream",
     "text": [
      "[0.5270796045046596 0.4279384063021557; 0.4279384063021557 0.7913664171583438]\n",
      "[1.0591212626011977 0.8922524565146093; 0.8922524565146093 1.0241718831741855]"
     ]
    }
   ],
   "source": [
    "n = 2 # Dimension of multivariate Gaussian\n",
    "X₁ = rand(n, n)\n",
    "X₂ = rand(n, n) # Generate 2 random n×n matrices\n",
    "C₁ = X₁'*X₁\n",
    "C₂ = X₂'*X₂ # Use the random matrices to generate 2 random \n",
    "# n×n pos. def. matrices, as covariance matrices are pos. def.\n",
    "print(C₁)\n",
    "print(\"\\n\")\n",
    "print(C₂)"
   ]
  },
  {
   "cell_type": "code",
   "execution_count": 4,
   "metadata": {},
   "outputs": [
    {
     "data": {
      "text/plain": [
       "2×2 Matrix{Float64}:\n",
       " 1.19004   0.256045\n",
       " 0.256045  0.988345"
      ]
     },
     "execution_count": 4,
     "metadata": {},
     "output_type": "execute_result"
    }
   ],
   "source": [
    "DT(C₁, C₂)"
   ]
  },
  {
   "cell_type": "markdown",
   "metadata": {},
   "source": [
    "## 2. Time-evolving computation the derivatives for the Brenier & Langevin maps <a class=\"anchor\" id=\"langevin\"></a>"
   ]
  },
  {
   "cell_type": "markdown",
   "metadata": {},
   "source": [
    "### 2.1 Computing $B_t$"
   ]
  },
  {
   "cell_type": "markdown",
   "metadata": {},
   "source": [
    "\n",
    "\n",
    "We want to numerically compute the Langevin map between two Gaussians. We note that in this case, we are transporting:\n",
    "$$\n",
    "\\mu = \\mathcal{N}(\\mu_1,\\, \\Sigma_1) \\to \\nu = \\mathcal{N}(\\mu_2,\\, \\Sigma_1 + \\Sigma_2)\n",
    "$$\n",
    "\n",
    "To do so, we first need to introduce $P_t^A(f) $ and $B_t$. We define $P_t^A(f)$ as [2]:\n",
    "$$\n",
    "P_t^A(f) = \\int_{\\mathbb{R^n}}f\\left(\\exp(-tA)x + \\sqrt{\\text{Id}-\\exp(-2tA)} y\\right)d\\mu(y)\n",
    "$$\n",
    "\n",
    "In the case of transport between 2 gaussians, $B_t$ is then defined as [2]:\n",
    "$$\n",
    "P_t^A\\left(c_o\\exp\\left(-\\frac{1}{2}y^TBy\\right)\\right)(x) = c_t\\exp\\left(-\\frac{1}{2}x^T B_t x\\right)\n",
    "$$\n",
    "And $B_t$ can be computed by explicitly computing and rearranging the LHS of the equation above [2].\n",
    "We introduce the notation $A=\\Sigma_1$, $B=\\Sigma_2, C = e^{-tA}, D=\\sqrt{I-e^{-2tA}}$ and $W = \\sqrt{D^TBD + A}$ to obtain that $B_t$ is:\n",
    "$$\n",
    "B_t = C^TBC - C^TBDW^{-1}W^{-T}D^TB^TC\n",
    "$$\n",
    "and $c_t$ is given by:\n",
    "$$\n",
    "c_t = \\frac{cc_0\\sqrt{\\pi}}{2\\left|\\det(W)\\right|}\n",
    "$$\n",
    "\n",
    "We can think of $B_t$ as the \"intermediate transport\" between the two covariances; take $\\mu_1 = \\mu_2 = 0$ for simplicity:\n",
    "- $B_0 = \\Sigma_2$\n",
    "- $B_\\infty = 0$\n",
    "- The covariance of an \"intermediate Gaussian\", i.e. if we truncate transport $\\mathcal{N}(0,\\Sigma_1) \\to \\mathcal{N}(0, \\Sigma_1 + \\Sigma_2)$ at time $t$ our resulting Gaussian will be $\\mathcal{N}(0, \\Sigma_1 + B_t)$\n",
    "\n",
    "\n",
    "We can implement $B_t$ and $c_t$ as functions, done below."
   ]
  },
  {
   "cell_type": "code",
   "execution_count": 5,
   "metadata": {},
   "outputs": [
    {
     "data": {
      "text/plain": [
       "cₜ (generic function with 1 method)"
      ]
     },
     "execution_count": 5,
     "metadata": {},
     "output_type": "execute_result"
    }
   ],
   "source": [
    "function Bₜ(Σ₁, Σ₂, t)\n",
    "    C = exp(-t.*Σ₁)\n",
    "    D = √(I-exp(-(2*t).*Σ₁))\n",
    "    W = √(D'*Σ₂*D + Σ₁)\n",
    "    prod = C'*Σ₂*D*inv(W)\n",
    "    ret = C'*Σ₂*C - prod*prod'\n",
    "    ret\n",
    "end\n",
    "\n",
    "function cₜ(c, c₀, Σ₁, Σ₂, t)\n",
    "    D = √(I-exp(-(2*t).*Σ₁))\n",
    "    W = √(D'*Σ₂*D + Σ₁)\n",
    "    ret = (c*c₀*(√π))/(2*abs(det(W)))\n",
    "    ret\n",
    "end"
   ]
  },
  {
   "cell_type": "markdown",
   "metadata": {},
   "source": [
    "#### 2.1.1 Test"
   ]
  },
  {
   "cell_type": "markdown",
   "metadata": {},
   "source": [
    "$B_t$ should satisfy $B_0 = B = \\Sigma_2$ [2] which we can use as a sanity check. Additionally, tending $t\\to\\infty$ in the expression for $P^t_A(f)$ with our choice of $f$ yields that $B_\\infty = \\lim\\limits_{t\\to\\infty}B_t = \\log(\\text{Id}) = \\mathbf{0}_{2\\times 2}$. To test this, we reuse the random positive definite matrices generated above:"
   ]
  },
  {
   "cell_type": "code",
   "execution_count": 6,
   "metadata": {},
   "outputs": [
    {
     "data": {
      "text/plain": [
       "true"
      ]
     },
     "execution_count": 6,
     "metadata": {},
     "output_type": "execute_result"
    }
   ],
   "source": [
    "Bₜ(C₁, C₂, 0) == C₂ && Bₜ(C₁, C₂, 10000000) == zeros(2, 2)"
   ]
  },
  {
   "cell_type": "markdown",
   "metadata": {},
   "source": [
    "### 2.2 Derivative of Brenier map"
   ]
  },
  {
   "cell_type": "markdown",
   "metadata": {},
   "source": [
    "Now let $\\nu_t$ be the resulting measure transforming $\\mu$ up to time step $t$. In this case, $\\nu_0 = \\nu$ and $\\nu_\\infty = \\mu$. Let the Brenier map transporting $\\mu\\to\\nu_t$ be $T_t$.\n",
    "\n",
    "Then [2] tells us that the derivative of $T_t$ is given by:\n",
    "$$\n",
    "DT_t = \\Sigma_1^{1/2}(\\Sigma_1^{1/2}(\\Sigma_1+B_t)\\Sigma_1^{1/2})^{-1/2}\\Sigma_1^{1/2}\n",
    "$$\n",
    "Which is implemented below."
   ]
  },
  {
   "cell_type": "code",
   "execution_count": 7,
   "metadata": {},
   "outputs": [
    {
     "data": {
      "text/plain": [
       "DTₜ (generic function with 1 method)"
      ]
     },
     "execution_count": 7,
     "metadata": {},
     "output_type": "execute_result"
    }
   ],
   "source": [
    "function DTₜ(Σ₁, Σ₂, t)\n",
    "    #= Map between μ and νₜ, where:\n",
    "    μ = N(0, Σ₁)\n",
    "    ν = N(0, Σ₁ + Σ₂)\n",
    "    νₜ = N(0, Σ₁ + Bₜ) ⟹ ν₀ = ν, ν∞ = μ\n",
    "    =#\n",
    "    Bt = Bₜ(Σ₁, Σ₂, t)\n",
    "    rootΣ₁ = √(Σ₁)\n",
    "    ret = inv(rootΣ₁)*√(rootΣ₁*(Σ₁ + Bt)*rootΣ₁)*inv(rootΣ₁)\n",
    "    ret\n",
    "end"
   ]
  },
  {
   "cell_type": "markdown",
   "metadata": {},
   "source": [
    "#### 2.2.1 Test"
   ]
  },
  {
   "cell_type": "markdown",
   "metadata": {},
   "source": [
    "To test, we check that $DT_0$ indeed maps $\\mu\\to\\nu$ and $DT_\\infty$ indeed maps $\\mu \\to \\mu$:"
   ]
  },
  {
   "cell_type": "code",
   "execution_count": 8,
   "metadata": {},
   "outputs": [
    {
     "data": {
      "text/plain": [
       "true"
      ]
     },
     "execution_count": 8,
     "metadata": {},
     "output_type": "execute_result"
    }
   ],
   "source": [
    "DTₜ(C₁, C₂, 0) ≈ DT(C₁, C₁ + C₂) && DTₜ(C₁, C₂, 100000) ≈ I"
   ]
  },
  {
   "cell_type": "markdown",
   "metadata": {},
   "source": [
    "### 2.3 Derivative of Langevin map"
   ]
  },
  {
   "cell_type": "markdown",
   "metadata": {},
   "source": [
    "Let $S_t(x)$ be the Langevin map at point $x$ at time $t$.\n",
    "\n",
    "Then, once we have $B_t$, the Langevin map is given by solving the following PDE:\n",
    "$$\n",
    "\\frac{\\partial S_t(x)}{\\partial t} = B_t S_t(x)\n",
    "$$\n",
    "\n",
    "Fixing $x$, this becomes:\n",
    "\n",
    "$$\n",
    "\\frac{d S_t(x)}{dt} = B_t S_t(x)\n",
    "$$\n",
    "\n",
    "Which we can solve using a basic ODE solver, such as the Forward Euler method [3]."
   ]
  },
  {
   "cell_type": "markdown",
   "metadata": {},
   "source": [
    "#### 2.3.1 Langevin map via Forward Euler"
   ]
  },
  {
   "cell_type": "markdown",
   "metadata": {},
   "source": [
    "\n",
    "We now fix $x$ and solve for $S_t(x)$. As we fix $x$, it will be easier to write $S_t(x) = S_x(t)$. We first discretise the time dimension into $n$ equal sized time steps between 0 and $T$."
   ]
  },
  {
   "cell_type": "code",
   "execution_count": 9,
   "metadata": {},
   "outputs": [
    {
     "data": {
      "text/plain": [
       "0.001000100010001"
      ]
     },
     "execution_count": 9,
     "metadata": {},
     "output_type": "execute_result"
    }
   ],
   "source": [
    "T = 10\n",
    "n = 10_000\n",
    "t = range(0, T, length=n)\n",
    "h = step(t)"
   ]
  },
  {
   "cell_type": "markdown",
   "metadata": {},
   "source": [
    "Now, we use the Forward Euler method, given by the following equation, to solve for $S_x(t)$:\n",
    "$$\n",
    "S_x(0) = x,\\, \\text{ as } t_1 = 0\\\\\n",
    "S_x(t_{k+1}) = \\left(\\text{Id} + hB_{t_k}\\right)S_x(t_{k}),\\, 2\\leq k\\leq n\n",
    "$$\n",
    "This is implemented below as a function that takes in $x$ as its initial condition and outputs the time evolution of the Langevin map for the discrete time steps betwen $t=0$ and $t=T$."
   ]
  },
  {
   "cell_type": "code",
   "execution_count": 10,
   "metadata": {},
   "outputs": [
    {
     "data": {
      "text/plain": [
       "S (generic function with 2 methods)"
      ]
     },
     "execution_count": 10,
     "metadata": {},
     "output_type": "execute_result"
    }
   ],
   "source": [
    "function S(Σ₁, Σ₂, n, T, x, full=false)\n",
    "    # full=True returns array of time evolution, if false just returns value at end T\n",
    "    t = range(0, T, length=n)\n",
    "    h = step(t)\n",
    "    if full\n",
    "        Sₜx = zeros(2, n)\n",
    "        Sₜx[:, 1] = x\n",
    "        for k = 1:n-1\n",
    "            Sₜx[:, k+1] = (I + h.*Bₜ(Σ₁, Σ₂, t[k]))*Sₜx[:, k]\n",
    "        end\n",
    "    else\n",
    "        Sₜx = x\n",
    "        for k = 1:n-1\n",
    "            Sₜx = (I + h.*Bₜ(Σ₁, Σ₂, t[k]))*Sₜx\n",
    "        end\n",
    "    end\n",
    "    Sₜx\n",
    "end"
   ]
  },
  {
   "cell_type": "markdown",
   "metadata": {},
   "source": [
    "#### 2.3.2 Derivative of Langevin map using Forward Euler"
   ]
  },
  {
   "cell_type": "markdown",
   "metadata": {},
   "source": [
    "We can also solve for the derivative, $DS_x(t)$, by using solving the following differential equation:\n",
    "$$\n",
    "\\frac{dDS_x(t)}{dt} = B_tDS_t(x);\\; DS_x(0) = \\text{Id}\n",
    "$$\n",
    "\n",
    "Note that as $DS_x(0)$ is independent of $x \\, \\forall x\\in \\mathbb{R^2}$, $DS_x(t)$ will be independent of $x$ too, meaning we can simply write $DS_x(t) = DS(t)$.\n",
    "\n",
    "We can do this by extending Forward Euler to solve matrix ODEs; we have:\n",
    "$$\n",
    "DS(0) = \\text{Id},\\, \\text{ as } t_1 = 0\\\\\n",
    "DS(t_{k+1}) = \\left(\\text{Id} + hB_{t_k}\\right)DS(t_{k}),\\, 2\\leq k\\leq n\n",
    "$$\n",
    "\n",
    "This is implemented below. Note that we define `gen_step` to generate a nonuniformly spaced discretization of time; this is done to replicate the numerical methods implemented in [2] which yielded accurate results."
   ]
  },
  {
   "cell_type": "code",
   "execution_count": 11,
   "metadata": {},
   "outputs": [
    {
     "data": {
      "text/plain": [
       "gen_step (generic function with 2 methods)"
      ]
     },
     "execution_count": 11,
     "metadata": {},
     "output_type": "execute_result"
    }
   ],
   "source": [
    "function gen_step(T, tol=0.001)\n",
    "    if T <= 0.1\n",
    "        ret = 0:0.02*tol:T\n",
    "    elseif T <= 0.5 && T > 0.1\n",
    "        ret = [0:0.02*tol:0.1; 0.1:0.05*tol:T]\n",
    "    elseif T <= 1 && T > 0.5\n",
    "        ret = [0:0.02*tol:0.1; 0.1:0.05*tol:0.5; 0.5:0.2*tol:T]\n",
    "    elseif T <= 3 && T > 1\n",
    "        ret = [0:0.02*tol:0.1; 0.1:0.05*tol:0.5; 0.5:0.2*tol:1; 1:0.5*tol:T]\n",
    "    elseif T <= 5 && T > 3\n",
    "        ret = [0:0.02*tol:0.1; 0.1:0.05*tol:0.5; 0.5:0.2*tol:1; 1:0.5*tol:3; 3:2*tol:T]\n",
    "    else\n",
    "        ret = [0:0.02*tol:0.1; 0.1:0.05*tol:0.5; 0.5:0.2*tol:1; 1:0.5*tol:3; 3:2*tol:5; 5:5*tol:T]\n",
    "    end\n",
    "end"
   ]
  },
  {
   "cell_type": "code",
   "execution_count": 12,
   "metadata": {},
   "outputs": [
    {
     "data": {
      "text/plain": [
       "DS (generic function with 2 methods)"
      ]
     },
     "execution_count": 12,
     "metadata": {},
     "output_type": "execute_result"
    }
   ],
   "source": [
    "#=\n",
    "function DS_uniform(Σ₁, Σ₂, h, T)\n",
    "    t = 0:h:T\n",
    "    n = length(t)\n",
    "    S∞ = [1 0; 0 1]\n",
    "    for k = 1:n-1\n",
    "        S∞ = (I + h.*Bₜ(Σ₁, Σ₂, t[k]))*S∞\n",
    "    end\n",
    "    S∞\n",
    "end\n",
    "=#\n",
    "function DS(Σ₁, Σ₂, T, tol=0.0001)\n",
    "    #= Numerically compute the derivative of the Langevin map\n",
    "    between μ = N(0, Σ₁) -> ν = N(0, Σ₁ + Σ₂) (at time ∞)\n",
    "    Parameters:\n",
    "    - Σ₁, Σ₂: Covariance matrices.\n",
    "    - T: Last time when the Fwd. Euler method is applied.\n",
    "    - tol: Order of magnitude to which we want to approximate DS to the actual value. \n",
    "           Default 0.0001 ⟹ using [2]'s inhomogeneous time spacing.\n",
    "    - conv: If the norm of the difference of subsequent iterations is below this value,\n",
    "            we stop. Default 0 ⟹ we finish until end of iteration.\n",
    "    =#\n",
    "    realtol = tol*10\n",
    "    t = gen_step(T, realtol)\n",
    "    n = length(t)\n",
    "    S∞ = I\n",
    "    hold = I\n",
    "    for k = 1:n-1\n",
    "        hold = S∞\n",
    "        h = t[k+1] - t[k]\n",
    "        S∞ = (I + h.*Bₜ(Σ₁, Σ₂, t[k]))*S∞\n",
    "    end\n",
    "    S∞\n",
    "end"
   ]
  },
  {
   "cell_type": "markdown",
   "metadata": {},
   "source": [
    "We can now use the function above to implement a \"binary search\" on the space of matrices to find a stable approximation of $DS$, done below:"
   ]
  },
  {
   "cell_type": "code",
   "execution_count": 13,
   "metadata": {},
   "outputs": [
    {
     "data": {
      "text/plain": [
       "DS_approx (generic function with 2 methods)"
      ]
     },
     "execution_count": 13,
     "metadata": {},
     "output_type": "execute_result"
    }
   ],
   "source": [
    "function DS_approx(Σ₁, Σ₂, stab, rate=1.1)\n",
    "    T = 50\n",
    "    mag = 0.0001\n",
    "    S₁ = I\n",
    "    S₂ = DS(Σ₁, Σ₂, T, mag)\n",
    "    while norm(S₂ - S₁) >= stab\n",
    "        T = ceil(rate*T)\n",
    "        print(\"Iteration finished, mag=\")\n",
    "        println(mag)\n",
    "        print(\"T=\")\n",
    "        println(T)\n",
    "        print(\"Stop=\")\n",
    "        println(norm(S₂ - S₁))\n",
    "        mag = mag/2\n",
    "        S₁ = S₂\n",
    "        S₂ = DS(Σ₁, Σ₂, T, mag)\n",
    "    end\n",
    "    S₂, Int64(T), mag\n",
    "end"
   ]
  },
  {
   "cell_type": "markdown",
   "metadata": {},
   "source": [
    "#### 2.3.3 Test"
   ]
  },
  {
   "cell_type": "markdown",
   "metadata": {},
   "source": [
    "We test our code by taking $\\Sigma_1$ to be diagonal so it commutes with $\\Sigma_2$. Once again, according to [2], if $\\Sigma_1$ and $\\Sigma_2$ commute, $\\lim\\limits_{t\\to\\infty}DS(t) = DT_0$. (more on why)"
   ]
  },
  {
   "cell_type": "code",
   "execution_count": 14,
   "metadata": {},
   "outputs": [
    {
     "data": {
      "text/plain": [
       "3×3 Diagonal{Int64, Vector{Int64}}:\n",
       " 19   ⋅   ⋅\n",
       "  ⋅  42   ⋅\n",
       "  ⋅   ⋅  30"
      ]
     },
     "execution_count": 14,
     "metadata": {},
     "output_type": "execute_result"
    }
   ],
   "source": [
    "D₁ = Diagonal([5, 19, 20])\n",
    "D₂ = Diagonal([19, 42, 30])"
   ]
  },
  {
   "cell_type": "code",
   "execution_count": 15,
   "metadata": {},
   "outputs": [
    {
     "data": {
      "text/plain": [
       "3×3 Diagonal{Float64, Vector{Float64}}:\n",
       " 2.19125   ⋅        ⋅ \n",
       "  ⋅       1.79238   ⋅ \n",
       "  ⋅        ⋅       1.58153"
      ]
     },
     "execution_count": 15,
     "metadata": {},
     "output_type": "execute_result"
    }
   ],
   "source": [
    "T = 30 # take T to be large to be an ok approximation of ∞ but small so we can converge in \"fast-ish\" time.\n",
    "DScomm = DS(D₁, D₂, T, 1e-4) # the more we decrease h the better the approx, but the longer the wait"
   ]
  },
  {
   "cell_type": "code",
   "execution_count": 16,
   "metadata": {},
   "outputs": [
    {
     "data": {
      "text/plain": [
       "0.000787347081747445"
      ]
     },
     "execution_count": 16,
     "metadata": {},
     "output_type": "execute_result"
    }
   ],
   "source": [
    "norm(DTₜ(D₁, D₂, 0) - DScomm)"
   ]
  },
  {
   "cell_type": "markdown",
   "metadata": {},
   "source": [
    "As we know $DT_0$ yields the correct result in this case, we can test `DS_approx`"
   ]
  },
  {
   "cell_type": "code",
   "execution_count": 17,
   "metadata": {},
   "outputs": [
    {
     "name": "stdout",
     "output_type": "stream",
     "text": [
      "Iteration finished, mag=0.0001\n",
      "T=100\n",
      "Stop=1.5443810216751663\n",
      "Iteration finished, mag=5.0e-5\n",
      "T=200\n",
      "Stop=0.00039371692912379506\n",
      "Iteration finished, mag=2.5e-5\n",
      "T=400\n",
      "Stop=0.00019682592723057902\n"
     ]
    },
    {
     "data": {
      "text/plain": [
       "3×3 Diagonal{Float64, Vector{Float64}}:\n",
       " 2.19094   ⋅        ⋅ \n",
       "  ⋅       1.79187   ⋅ \n",
       "  ⋅        ⋅       1.58119"
      ]
     },
     "execution_count": 17,
     "metadata": {},
     "output_type": "execute_result"
    }
   ],
   "source": [
    "ds = DS_approx(D₁, D₂, 1e-4, 2)[1]"
   ]
  },
  {
   "cell_type": "code",
   "execution_count": 18,
   "metadata": {},
   "outputs": [
    {
     "data": {
      "text/plain": [
       "9.839939956603449e-5"
      ]
     },
     "execution_count": 18,
     "metadata": {},
     "output_type": "execute_result"
    }
   ],
   "source": [
    "norm(Matrix(ds) - DTₜ(D₁, D₂, 0))"
   ]
  },
  {
   "cell_type": "code",
   "execution_count": 25,
   "metadata": {},
   "outputs": [
    {
     "data": {
      "text/plain": [
       "5×5 Matrix{Float64}:\n",
       "  3.54697   -1.7968     0.983019   1.18285    0.506079\n",
       " -1.7968     4.03841    0.446761  -3.35471   -2.25849\n",
       "  0.983019   0.446761   3.18718   -0.569011  -0.642516\n",
       "  1.18285   -3.35471   -0.569011   4.08584    2.25599\n",
       "  0.506079  -2.25849   -0.642516   2.25599    1.66981"
      ]
     },
     "execution_count": 25,
     "metadata": {},
     "output_type": "execute_result"
    }
   ],
   "source": [
    "H = randn(5,5)\n",
    "J = randn(5,5)\n",
    "H2 = H*H'\n",
    "J2 = J*J'\n"
   ]
  },
  {
   "cell_type": "code",
   "execution_count": 28,
   "metadata": {},
   "outputs": [
    {
     "name": "stdout",
     "output_type": "stream",
     "text": [
      "Iteration finished, mag=0.0001\n",
      "T=200\n",
      "Stop=1.9712099368618163\n",
      "Iteration finished, mag=5.0e-5\n",
      "T=800\n",
      "Stop=0.00022004535335840936\n",
      "Iteration finished, mag=2.5e-5\n",
      "T=3200\n",
      "Stop=0.00011000787312305478\n"
     ]
    },
    {
     "data": {
      "text/plain": [
       "([1.2015375168641096 -0.06107235243555013 … 0.10879903580263106 0.029406113049812208; -0.09443039337879093 1.2432771691778168 … -0.4088748384322416 -0.16988107581418008; … ; 0.22376071249258897 -0.49070689008395885 … 2.1889041507566236 0.33987715260765045; 0.04560426484912763 -0.1538295117365941 … 0.23355919973407552 1.178110686355072], 3200, 1.25e-5)"
      ]
     },
     "execution_count": 28,
     "metadata": {},
     "output_type": "execute_result"
    }
   ],
   "source": [
    "M, T, stop = DS_approx(H2, J2, 1e-4, 4)"
   ]
  },
  {
   "cell_type": "markdown",
   "metadata": {},
   "source": [
    "### Brainstorm"
   ]
  },
  {
   "cell_type": "markdown",
   "metadata": {},
   "source": [
    "One first guess for the Langevin map was:\n",
    "$$\n",
    "G_1(t) = \\sqrt{(\\Sigma_1+B_t)\\Sigma_1^{-1}}\n",
    "$$\n",
    "Which works when $\\Sigma_1$ and $\\Sigma_2$ commute, as in that case $G_1$ is the Brenier map. However, this is not the case for general $\\Sigma_1$ and $\\Sigma_2$ as verified below."
   ]
  },
  {
   "cell_type": "code",
   "execution_count": 20,
   "metadata": {},
   "outputs": [
    {
     "data": {
      "text/plain": [
       "false"
      ]
     },
     "execution_count": 20,
     "metadata": {},
     "output_type": "execute_result"
    }
   ],
   "source": [
    "function G₁(Σ₁, Σ₂, t)\n",
    "    ret = √((Σ₁+Bₜ(Σ₁, Σ₂, t))*inv(Σ₁))\n",
    "    ret\n",
    "end\n",
    "\n",
    "norm(G₁(C₁, C₂, 30) - DS(C₁, C₂, 30)) ≈ 0 # not close to 0"
   ]
  },
  {
   "cell_type": "markdown",
   "metadata": {},
   "source": [
    "Another guess would be to do the following:\n",
    "- Let $\\Sigma_1 = P D P^T $ and $\\Sigma_1 + B_t = P_t D_t P_t^T$.\n",
    "\n",
    "\n",
    "Then the guess is:\n",
    "$$\n",
    "G_2(t) = P_t(D_t D^{-1})^{1/2}P^T\n",
    "$$\n",
    "\n",
    "  "
   ]
  },
  {
   "cell_type": "code",
   "execution_count": 21,
   "metadata": {},
   "outputs": [
    {
     "data": {
      "text/plain": [
       "G₂ (generic function with 1 method)"
      ]
     },
     "execution_count": 21,
     "metadata": {},
     "output_type": "execute_result"
    }
   ],
   "source": [
    "function G₂(Σ₁, Σ₂, t)\n",
    "    Bt = Bₜ(Σ₁, Σ₂, t) # Compute Bₜ\n",
    "    evals, P = eigen(Σ₁) # Decompose Σ₁\n",
    "    evalsₜ, Pₜ = eigen(Σ₁+Bt) # Decompose Σ₁ + Bₜ\n",
    "    D = Diagonal(evals) # Make Diagonal matrix of evals of Σ₁\n",
    "    Dₜ = Diagonal(evalsₜ) # Make Diagonal matrix of evals of Σ₁ + Bₜ\n",
    "    ret = Pₜ*√(Dₜ*inv(D))*P' # return the guess\n",
    "    ret\n",
    "end"
   ]
  },
  {
   "cell_type": "markdown",
   "metadata": {},
   "source": [
    "This does not seem to yield a good approximation either. However, this is observed:"
   ]
  },
  {
   "cell_type": "code",
   "execution_count": null,
   "metadata": {},
   "outputs": [
    {
     "data": {
      "text/plain": [
       "1.4787203749737685"
      ]
     },
     "execution_count": 163,
     "metadata": {},
     "output_type": "execute_result"
    }
   ],
   "source": [
    "norm(G₂(D₁, D₂, 30) - DS_approx(D₁, D₂, 1e-5))"
   ]
  },
  {
   "cell_type": "markdown",
   "metadata": {},
   "source": [
    "One more guess is given by:\n",
    "$$\n",
    "G_3 = \\sqrt{(\\Sigma_1+\\Sigma_2)\\Sigma_1^{-1}}\n",
    "$$\n"
   ]
  },
  {
   "cell_type": "code",
   "execution_count": 23,
   "metadata": {},
   "outputs": [
    {
     "data": {
      "text/plain": [
       "G₃ (generic function with 1 method)"
      ]
     },
     "execution_count": 23,
     "metadata": {},
     "output_type": "execute_result"
    }
   ],
   "source": [
    "function G₃(Σ₁, Σ₂)\n",
    "    ret = √((Σ₁+Σ₂)*inv(Σ₁))\n",
    "    ret\n",
    "end"
   ]
  },
  {
   "cell_type": "code",
   "execution_count": 20,
   "metadata": {},
   "outputs": [
    {
     "ename": "LoadError",
     "evalue": "UndefVarError: G₃ not defined",
     "output_type": "error",
     "traceback": [
      "UndefVarError: G₃ not defined",
      "",
      "Stacktrace:",
      " [1] top-level scope",
      "   @ In[20]:1",
      " [2] eval",
      "   @ ./boot.jl:373 [inlined]",
      " [3] include_string(mapexpr::typeof(REPL.softscope), mod::Module, code::String, filename::String)",
      "   @ Base ./loading.jl:1196"
     ]
    }
   ],
   "source": [
    "norm(G₃(D₁, D₂) - DS_approx(D₁, D₂, 1e-5))"
   ]
  },
  {
   "cell_type": "markdown",
   "metadata": {},
   "source": [
    "### 2.4 Non-commuting $\\Sigma_1$ and $\\Sigma_2$\n",
    "\n",
    "Consider the case where we transport $$\\mu = \\mathcal{N}(0, \\Sigma_1) \\to \\nu = \\mathcal{N}(0, \\Sigma_1 + \\Sigma_2)$$\n",
    "\n",
    "We now explore the case when $\\Sigma_1$ and $\\Sigma_2$ do not commute. We first ask the question: Can we find noncommuting $\\Sigma_1$ and $\\Sigma_2$ such that $DT_0 = DS_\\infty$? We first implement a function to generate a random noncommuting pair of matrices."
   ]
  },
  {
   "cell_type": "code",
   "execution_count": 17,
   "metadata": {},
   "outputs": [
    {
     "data": {
      "text/plain": [
       "gen_noncommuting_pair (generic function with 2 methods)"
      ]
     },
     "execution_count": 17,
     "metadata": {},
     "output_type": "execute_result"
    }
   ],
   "source": [
    "function gen_pd_pair(d, mode=\"normal\")\n",
    "    if mode == \"normal\"\n",
    "        gen_scheme = n -> randn(n, n)\n",
    "    elseif mode == \"integer\"\n",
    "        gen_scheme = n -> rand(-10:10,(n,n))\n",
    "    else\n",
    "        return \"err\"\n",
    "    end\n",
    "\n",
    "    A₁ = gen_scheme(d)\n",
    "    A₂ = gen_scheme(d)\n",
    "    S₁ = A₁'*A₁\n",
    "    S₂ = A₂'*A₂\n",
    "    S₁, S₂\n",
    "end\n",
    "\n",
    "function gen_noncommuting_pair(d, mode=\"normal\")\n",
    "    if mode == \"normal\"\n",
    "        gen_scheme = n -> randn(n, n)\n",
    "    elseif mode == \"integer\"\n",
    "        gen_scheme = n -> rand(-3:3, (n, n))\n",
    "    else\n",
    "        return \"err\"\n",
    "    end\n",
    "    A₁ = gen_scheme(d)\n",
    "    A₂ = gen_scheme(d)\n",
    "    S₁ = A₁'*A₁\n",
    "    S₂ = A₂'*A₂\n",
    "    while S₁*S₂ ≈ S₂*S₁\n",
    "        A₁ = gen_scheme(d)\n",
    "        A₂ = gen_scheme(d)\n",
    "        S₁ = A₁'*A₁\n",
    "        S₂ = A₂'*A₂\n",
    "    end\n",
    "    S₁, S₂\n",
    "end"
   ]
  },
  {
   "cell_type": "markdown",
   "metadata": {},
   "source": [
    "## 3. Generating Models <a class=\"anchor\" id=\"models\"></a>\n",
    "\n",
    "We now want to know what value of $T$, the time horizon and $h$, the step size, we must use for matrices of different dimensions and different stability tolerances. We start by defining a class called `TransportModel`:"
   ]
  },
  {
   "cell_type": "code",
   "execution_count": 21,
   "metadata": {},
   "outputs": [
    {
     "data": {
      "text/plain": [
       "TransportModel"
      ]
     },
     "execution_count": 21,
     "metadata": {},
     "output_type": "execute_result"
    }
   ],
   "source": [
    "Base.@kwdef mutable struct TransportModel\n",
    "    d::Integer\n",
    "    stab::Float64\n",
    "    sampling::String\n",
    "    mag::Float64 = 0.0\n",
    "    T::Integer = 0\n",
    "    growth_rate::Float64 = 1.1\n",
    "end"
   ]
  },
  {
   "cell_type": "markdown",
   "metadata": {},
   "source": [
    "Now we can run tests to see when `DS_approx` converges and at what values of $T$ and $h$ this occurs; we save this as a `TransportModel` which we will use to evaluate `DS` after:"
   ]
  },
  {
   "cell_type": "code",
   "execution_count": 22,
   "metadata": {},
   "outputs": [
    {
     "data": {
      "text/plain": [
       "define_model (generic function with 3 methods)"
      ]
     },
     "execution_count": 22,
     "metadata": {},
     "output_type": "execute_result"
    }
   ],
   "source": [
    "function define_model(d, stab, sampling=\"normal\", growth_rate=1.1)\n",
    "    A, B = gen_noncommuting_pair(d, sampling)\n",
    "    if sampling == \"normal\"\n",
    "        B = 10*B\n",
    "    end\n",
    "    _, T, mag = DS_approx(A, B, stab, growth_rate)\n",
    "    ret = TransportModel(d=d, stab=stab, sampling=sampling, mag=mag, T=T, growth_rate=growth_rate)\n",
    "    ret\n",
    "end"
   ]
  },
  {
   "cell_type": "markdown",
   "metadata": {},
   "source": [
    "We compute the different $h$ s and $T$ s for different stability bounds, dimensions and sampling methods and save them:"
   ]
  },
  {
   "cell_type": "code",
   "execution_count": 37,
   "metadata": {},
   "outputs": [
    {
     "name": "stdout",
     "output_type": "stream",
     "text": [
      "Iteration finished, mag=0.0001\n",
      "T=56.0\n",
      "Stop=3.4799045912176614\n",
      "Iteration finished, mag=5.0e-5\n",
      "T=62.0\n",
      "Stop=0.0006398399617801026\n",
      "Iteration finished, mag=2.5e-5\n",
      "T=69.0\n",
      "Stop=0.00031987352473299873\n",
      "Iteration finished, mag=1.25e-5\n",
      "T=76.0\n",
      "Stop=0.00015992514702414278\n",
      "Iteration finished, mag=0.0001\n",
      "T=56.0\n",
      "Stop=13.733921021541546\n",
      "Iteration finished, mag=5.0e-5\n",
      "T=62.0\n",
      "Stop=0.0034009726557236012\n",
      "Iteration finished, mag=2.5e-5\n",
      "T=69.0\n",
      "Stop=0.0017001079751174798\n",
      "Iteration finished, mag=1.25e-5\n",
      "T=76.0\n",
      "Stop=0.0008499589680806701\n",
      "Iteration finished, mag=6.25e-6\n",
      "T=84.0\n",
      "Stop=0.0004249557009907296\n",
      "Iteration finished, mag=3.125e-6\n",
      "T=93.0\n",
      "Stop=0.0002124719095224587\n",
      "Iteration finished, mag=1.5625e-6\n",
      "T=103.0\n",
      "Stop=0.00010623448619840054\n",
      "Iteration finished, mag=7.8125e-7\n",
      "T=114.0\n",
      "Stop=5.3116912730017764e-5\n",
      "Iteration finished, mag=3.90625e-7\n",
      "T=126.0\n",
      "Stop=2.6558454097181676e-5\n",
      "Iteration finished, mag=1.953125e-7\n",
      "T=139.0\n",
      "Stop=1.3279366871837285e-5\n"
     ]
    },
    {
     "data": {
      "text/plain": [
       "TransportModel(2, 1.0e-5, \"normal\", 9.765625e-8, 139, 1.1)"
      ]
     },
     "execution_count": 37,
     "metadata": {},
     "output_type": "execute_result"
    }
   ],
   "source": [
    "model_1em4_normal_2d = define_model(2, 1e-4, \"normal\")\n",
    "model_1em5_normal_2d = define_model(2, 1e-5, \"normal\")"
   ]
  },
  {
   "cell_type": "code",
   "execution_count": 38,
   "metadata": {},
   "outputs": [
    {
     "name": "stdout",
     "output_type": "stream",
     "text": [
      "TransportModel(2, 0.0001, \"normal\", 6.25e-6, 76, 1.1)\n",
      "TransportModel(2, 1.0e-5, \"normal\", 9.765625e-8, 139, 1.1)\n"
     ]
    }
   ],
   "source": [
    "println(model_1em4_normal_2d)\n",
    "println(model_1em5_normal_2d)"
   ]
  },
  {
   "cell_type": "code",
   "execution_count": 48,
   "metadata": {},
   "outputs": [
    {
     "name": "stdout",
     "output_type": "stream",
     "text": [
      "Iteration finished, mag=0.0001 T=56.0 stop=2.614117719599036Iteration finished, mag=5.0e-5 T=62.0 stop=0.00033624805898456233Iteration finished, mag=2.5e-5 T=69.0 stop=0.00016809902430298663Iteration finished, mag=0.0001 T=56.0 stop=12.32707559036681Iteration finished, mag=5.0e-5 T=62.0 stop=0.0022728191945257906Iteration finished, mag=2.5e-5 T=69.0 stop=0.0008992502772816411Iteration finished, mag=1.25e-5 T=76.0 stop=0.00043562453967957107Iteration finished, mag=6.25e-6 T=84.0 stop=0.00011033384928925767Iteration finished, mag=3.125e-6 T=93.0 stop=2.6025460600232657e-5Iteration finished, mag=1.5625e-6 T=103.0 stop=1.1102344975272849e-5Iteration finished, mag=7.8125e-7 T=114.0 stop=1.6347558974853195e-5Iteration finished, mag=3.90625e-7 T=126.0 stop=1.2455394507084549e-5"
     ]
    },
    {
     "data": {
      "text/plain": [
       "TransportModel(2, 1.0e-5, \"integer\", 1.953125e-7, 126)"
      ]
     },
     "execution_count": 48,
     "metadata": {},
     "output_type": "execute_result"
    }
   ],
   "source": [
    "model_1em4_integer_2d = define_model(2, 1e-4, \"integer\")\n",
    "model_1em5_integer_2d = define_model(2, 1e-5, \"integer\")"
   ]
  },
  {
   "cell_type": "code",
   "execution_count": 49,
   "metadata": {},
   "outputs": [
    {
     "name": "stdout",
     "output_type": "stream",
     "text": [
      "TransportModel(2, 0.0001, \"integer\", 1.25e-5, 69)\n",
      "TransportModel(2, 1.0e-5, \"integer\", 1.953125e-7, 126)\n"
     ]
    }
   ],
   "source": [
    "println(model_1em4_integer_2d)\n",
    "println(model_1em5_integer_2d)"
   ]
  },
  {
   "cell_type": "code",
   "execution_count": 34,
   "metadata": {},
   "outputs": [
    {
     "name": "stdout",
     "output_type": "stream",
     "text": [
      "Iteration finished, mag=0.0001\n",
      "T=150\n",
      "Stop=15.781329000407695\n",
      "Iteration finished, mag=5.0e-5\n",
      "T=450\n",
      "Stop=0.008114268507840644\n",
      "Iteration finished, mag=2.5e-5\n",
      "T=1350\n",
      "Stop=0.004055550575503193\n",
      "Iteration finished, mag=1.25e-5\n",
      "T=4050\n",
      "Stop=0.0020273782903945407\n"
     ]
    },
    {
     "ename": "LoadError",
     "evalue": "InterruptException:",
     "output_type": "error",
     "traceback": [
      "InterruptException:",
      "",
      "Stacktrace:",
      "  [1] Array",
      "    @ ./boot.jl:457 [inlined]",
      "  [2] Array",
      "    @ ./boot.jl:466 [inlined]",
      "  [3] similar",
      "    @ ./array.jl:378 [inlined]",
      "  [4] similar",
      "    @ ./abstractarray.jl:783 [inlined]",
      "  [5] getindex",
      "    @ ./array.jl:869 [inlined]",
      "  [6] syevr!(jobz::Char, range::Char, uplo::Char, A::Matrix{Float64}, vl::Float64, vu::Float64, il::Int64, iu::Int64, abstol::Float64)",
      "    @ LinearAlgebra.LAPACK /Applications/Julia-1.7.app/Contents/Resources/julia/share/julia/stdlib/v1.7/LinearAlgebra/src/lapack.jl:5133",
      "  [7] #eigen!#185",
      "    @ /Applications/Julia-1.7.app/Contents/Resources/julia/share/julia/stdlib/v1.7/LinearAlgebra/src/symmetriceigen.jl:4 [inlined]",
      "  [8] #eigen#186",
      "    @ /Applications/Julia-1.7.app/Contents/Resources/julia/share/julia/stdlib/v1.7/LinearAlgebra/src/symmetriceigen.jl:9 [inlined]",
      "  [9] eigen",
      "    @ /Applications/Julia-1.7.app/Contents/Resources/julia/share/julia/stdlib/v1.7/LinearAlgebra/src/symmetriceigen.jl:7 [inlined]",
      " [10] sqrt(A::Hermitian{Float64, Matrix{Float64}}; rtol::Float64)",
      "    @ LinearAlgebra /Applications/Julia-1.7.app/Contents/Resources/julia/share/julia/stdlib/v1.7/LinearAlgebra/src/symmetric.jl:860",
      " [11] sqrt",
      "    @ /Applications/Julia-1.7.app/Contents/Resources/julia/share/julia/stdlib/v1.7/LinearAlgebra/src/symmetric.jl:860 [inlined]",
      " [12] sqrt(A::Matrix{Float64})",
      "    @ LinearAlgebra /Applications/Julia-1.7.app/Contents/Resources/julia/share/julia/stdlib/v1.7/LinearAlgebra/src/dense.jl:838",
      " [13] Bₜ(Σ₁::Matrix{Float64}, Σ₂::Matrix{Float64}, t::Float64)",
      "    @ Main ./In[7]:3",
      " [14] DS(Σ₁::Matrix{Float64}, Σ₂::Matrix{Float64}, T::Int64, tol::Float64)",
      "    @ Main ./In[14]:31",
      " [15] DS_approx(Σ₁::Matrix{Float64}, Σ₂::Matrix{Float64}, stab::Float64, rate::Int64)",
      "    @ Main ./In[20]:16",
      " [16] define_model(d::Int64, stab::Float64, sampling::String, growth_rate::Int64)",
      "    @ Main ./In[23]:6",
      " [17] eval",
      "    @ ./boot.jl:373 [inlined]",
      " [18] include_string(mapexpr::typeof(REPL.softscope), mod::Module, code::String, filename::String)",
      "    @ Base ./loading.jl:1196"
     ]
    }
   ],
   "source": [
    "model_1em4_normal_5d = define_model(5, 1e-4, \"normal\", 3)"
   ]
  },
  {
   "cell_type": "code",
   "execution_count": 50,
   "metadata": {},
   "outputs": [
    {
     "name": "stdout",
     "output_type": "stream",
     "text": [
      "Iteration finished, mag=0.0001 T=56.0 stop=94.30399513630371Iteration finished, mag=5.0e-5 T=62.0 stop=4.849028140990339Iteration finished, mag=2.5e-5 T=69.0 stop=4.54656994584501Iteration finished, mag=1.25e-5 T=76.0 stop=4.974408113866221Iteration finished, mag=6.25e-6 T=84.0 stop=4.663872711034965Iteration finished, mag=3.125e-6 T=93.0 stop=5.003489917636702Iteration finished, mag=1.5625e-6 T=103.0 stop=5.269910043492717Iteration finished, mag=7.8125e-7 T=114.0 stop=5.473031597723034Iteration finished, mag=3.90625e-7 T=126.0 stop=5.621717246455759Iteration finished, mag=1.953125e-7 T=139.0 stop=5.723594585913815Iteration finished, mag=9.765625e-8 T=153.0 stop=5.785090881030983Iteration finished, mag=4.8828125e-8 T=169.0 stop=5.811592855780343Iteration finished, mag=2.44140625e-8 T=186.0 stop=6.180771989341907Iteration finished, mag=1.220703125e-8 T=205.0 stop=6.098498243414036"
     ]
    },
    {
     "ename": "LoadError",
     "evalue": "InterruptException:",
     "output_type": "error",
     "traceback": [
      "InterruptException:",
      "",
      "Stacktrace:",
      "  [1] Array",
      "    @ ./boot.jl:459 [inlined]",
      "  [2] Array",
      "    @ ./boot.jl:467 [inlined]",
      "  [3] Array",
      "    @ ./boot.jl:474 [inlined]",
      "  [4] similar",
      "    @ ./abstractarray.jl:829 [inlined]",
      "  [5] similar",
      "    @ ./abstractarray.jl:828 [inlined]",
      "  [6] similar",
      "    @ ./broadcast.jl:212 [inlined]",
      "  [7] similar",
      "    @ ./broadcast.jl:211 [inlined]",
      "  [8] copy",
      "    @ ./broadcast.jl:885 [inlined]",
      "  [9] materialize",
      "    @ ./broadcast.jl:860 [inlined]",
      " [10] Bₜ(Σ₁::Matrix{Float64}, Σ₂::Matrix{Float64}, t::Float64)",
      "    @ Main ./In[6]:3",
      " [11] DS(Σ₁::Matrix{Float64}, Σ₂::Matrix{Float64}, T::Float64, tol::Float64)",
      "    @ Main ./In[13]:31",
      " [12] DS_approx(Σ₁::Matrix{Float64}, Σ₂::Matrix{Float64}, stab::Float64)",
      "    @ Main ./In[14]:16",
      " [13] define_model(d::Int64, stab::Float64, sampling::String)",
      "    @ Main ./In[36]:6",
      " [14] eval",
      "    @ ./boot.jl:373 [inlined]",
      " [15] include_string(mapexpr::typeof(REPL.softscope), mod::Module, code::String, filename::String)",
      "    @ Base ./loading.jl:1196"
     ]
    }
   ],
   "source": [
    "model_1em5_normal_5d = define_model(5, 1e-5, \"normal\", 2)"
   ]
  },
  {
   "cell_type": "code",
   "execution_count": null,
   "metadata": {},
   "outputs": [],
   "source": [
    "println(model_1em4_normal_5d)\n",
    "println(model_1em5_normal_5d)"
   ]
  },
  {
   "cell_type": "code",
   "execution_count": null,
   "metadata": {},
   "outputs": [],
   "source": [
    "model_1em4_integer_5d = define_model(5, 1e-4, \"integer\")\n",
    "model_1em5_integer_5d = define_model(5, 1e-5, \"integer\")"
   ]
  },
  {
   "cell_type": "code",
   "execution_count": null,
   "metadata": {},
   "outputs": [],
   "source": [
    "println(model_1em4_integer_5d)\n",
    "println(model_1em5_integer_5d)"
   ]
  },
  {
   "cell_type": "code",
   "execution_count": null,
   "metadata": {},
   "outputs": [],
   "source": [
    "println(twod_models_normal)\n",
    "println(twod_models_integer)\n",
    "println(fived_models_normal)\n",
    "println(fived_models_integer)"
   ]
  },
  {
   "cell_type": "markdown",
   "metadata": {},
   "source": [
    "### Results"
   ]
  },
  {
   "cell_type": "markdown",
   "metadata": {},
   "source": [
    "Here are the results from finding the correct spacing and end time:"
   ]
  },
  {
   "cell_type": "code",
   "execution_count": 64,
   "metadata": {},
   "outputs": [
    {
     "data": {
      "text/plain": [
       "TransportModel(2, 1.0e-5, \"normal\", 9.765625e-8, 139, 1.1)"
      ]
     },
     "execution_count": 64,
     "metadata": {},
     "output_type": "execute_result"
    }
   ],
   "source": [
    "model_1em4_integer_2d = TransportModel(2, 0.0001, \"integer\", 1.25e-5, 69, 1.1)\n",
    "model_1em5_integer_2d = TransportModel(2, 1.0e-5, \"integer\", 1.953125e-7, 126, 1.1)\n",
    "model_1em4_normal_2d = TransportModel(2, 0.0001, \"normal\", 6.25e-6, 76, 1.1)\n",
    "model_1em5_normal_2d = TransportModel(2, 1.0e-5, \"normal\", 9.765625e-8, 139, 1.1)"
   ]
  },
  {
   "cell_type": "markdown",
   "metadata": {},
   "source": [
    "Now we make a function `DS_Tmodel` that takes in $\\Sigma_1$ and $\\Sigma_2$ and a `TransportModel`, and then computes $DS$ without checking for stability, as this has been checked before."
   ]
  },
  {
   "cell_type": "code",
   "execution_count": 27,
   "metadata": {},
   "outputs": [
    {
     "data": {
      "text/plain": [
       "DS_Tmodel (generic function with 1 method)"
      ]
     },
     "execution_count": 27,
     "metadata": {},
     "output_type": "execute_result"
    }
   ],
   "source": [
    "function DS_Tmodel(Σ₁, Σ₂, model::TransportModel)\n",
    "    if model.d != size(Σ₁)[1]\n",
    "        return \"error, incorrect model dimension size\"\n",
    "    end\n",
    "    ret = DS(Σ₁, Σ₂, model.T, model.mag)\n",
    "    ret\n",
    "end\n"
   ]
  },
  {
   "cell_type": "markdown",
   "metadata": {},
   "source": [
    "And we define functions for said models:"
   ]
  },
  {
   "cell_type": "code",
   "execution_count": 97,
   "metadata": {},
   "outputs": [
    {
     "data": {
      "text/plain": [
       "#125 (generic function with 1 method)"
      ]
     },
     "execution_count": 97,
     "metadata": {},
     "output_type": "execute_result"
    }
   ],
   "source": [
    "DS_1em4_integer_2d = (MatPair) -> DS_Tmodel(MatPair[1], MatPair[2], model_1em4_integer_2d)\n",
    "DS_1em5_integer_2d = (MatPair) -> DS_Tmodel(MatPair[1], MatPair[2], model_1em5_integer_2d)\n",
    "DS_1em4_normal_2d = (MatPair) -> DS_Tmodel(MatPair[1], MatPair[2], model_1em4_normal_2d)\n",
    "DS_1em5_normal_2d = (MatPair) -> DS_Tmodel(MatPair[1], MatPair[2], model_1em5_normal_2d)\n",
    "DT₀_pair = (MatPair) -> DTₜ(MatPair[1], MatPair[2], 0)\n",
    "#norm(DS_1em5_normal_2d([T₁,T₂]) - DTₜ_pair([T₁, T₂], 0))"
   ]
  },
  {
   "cell_type": "markdown",
   "metadata": {},
   "source": [
    "## Generating a lot of matrices\n",
    "We generate a lot of matrices to test hypotheses. Only $10^{-4}$ precision is achievable due to computation time."
   ]
  },
  {
   "cell_type": "code",
   "execution_count": 76,
   "metadata": {},
   "outputs": [],
   "source": [
    "normal_bundle_2d = [gen_pd_pair(2, \"normal\") for i in 1:100];\n",
    "integer_bundle_2d = [gen_pd_pair(2, \"integer\") for i in 1:100];"
   ]
  },
  {
   "cell_type": "markdown",
   "metadata": {},
   "source": [
    "Define function to get max singular value, aka the matrix's Lipschitz constant. We will use this to make our histogram:"
   ]
  },
  {
   "cell_type": "code",
   "execution_count": 77,
   "metadata": {},
   "outputs": [
    {
     "data": {
      "text/plain": [
       "#115 (generic function with 1 method)"
      ]
     },
     "execution_count": 77,
     "metadata": {},
     "output_type": "execute_result"
    }
   ],
   "source": [
    "maxsvdval = mat -> svdvals(mat)[1]"
   ]
  },
  {
   "cell_type": "code",
   "execution_count": 79,
   "metadata": {},
   "outputs": [
    {
     "data": {
      "text/plain": [
       "100-element Vector{Float64}:\n",
       "  5.979004036698649\n",
       "  2.055861803985211\n",
       "  2.844718667667798\n",
       "  1.1811442349782708\n",
       "  2.214111697785423\n",
       "  1.9274351982171603\n",
       "  1.1264805341080943\n",
       "  1.7981364194970242\n",
       "  5.133869395850358\n",
       "  3.3046002146198483\n",
       "  1.3739259802115147\n",
       "  7.217126339539078\n",
       "  3.2632572077258124\n",
       "  ⋮\n",
       "  2.9268265980086\n",
       "  1.0551272009827437\n",
       "  1.7292348536229887\n",
       "  1.7428404699555111\n",
       "  1.066663546896591\n",
       "  2.2630759845256314\n",
       "  6.888689224930343\n",
       "  4.540512619710955\n",
       " 14.872378913737013\n",
       "  4.377726795879413\n",
       "  1.3799446843818464\n",
       "  7.816143759890379"
      ]
     },
     "execution_count": 79,
     "metadata": {},
     "output_type": "execute_result"
    }
   ],
   "source": [
    "lip_c_normal_1em4_2d = maxsvdval.(DS_1em4_normal_2d.(normal_bundle_2d))"
   ]
  },
  {
   "cell_type": "code",
   "execution_count": 120,
   "metadata": {},
   "outputs": [
    {
     "data": {
      "text/plain": [
       "100-element Vector{Float64}:\n",
       "  5.9314598540985335\n",
       "  2.055849165401997\n",
       "  3.155798738463483\n",
       "  1.1787384100574336\n",
       "  2.2071372046633266\n",
       "  1.9012061892117866\n",
       "  1.1255266645840345\n",
       "  1.7964587784413222\n",
       "  4.837809489690297\n",
       "  3.255786795808689\n",
       "  1.3675856957299586\n",
       "  6.857703625673929\n",
       "  3.2582371721513868\n",
       "  ⋮\n",
       "  2.9103066674922795\n",
       "  1.055113172167065\n",
       "  1.7220275161978231\n",
       "  1.7188872717302512\n",
       "  1.0666588978708627\n",
       "  2.2367174036146875\n",
       "  6.7044119110601885\n",
       "  4.53542837236019\n",
       " 15.671434689860584\n",
       "  4.277952966293692\n",
       "  1.3798613801409914\n",
       "  9.001544945169144"
      ]
     },
     "execution_count": 120,
     "metadata": {},
     "output_type": "execute_result"
    }
   ],
   "source": [
    "DT₀_lip_c_normal_1em4_2d = maxsvdval.(DT₀_pair.(normal_bundle_2d))"
   ]
  },
  {
   "cell_type": "code",
   "execution_count": 117,
   "metadata": {},
   "outputs": [
    {
     "data": {
      "image/svg+xml": "<?xml version=\"1.0\" encoding=\"utf-8\"?>\n<svg xmlns=\"http://www.w3.org/2000/svg\" xmlns:xlink=\"http://www.w3.org/1999/xlink\" width=\"600\" height=\"400\" viewBox=\"0 0 2400 1600\">\n<defs>\n  <clipPath id=\"clip270\">\n    <rect x=\"0\" y=\"0\" width=\"2400\" height=\"1600\"/>\n  </clipPath>\n</defs>\n<path clip-path=\"url(#clip270)\" d=\"\nM0 1600 L2400 1600 L2400 0 L0 0  Z\n  \" fill=\"#ffffff\" fill-rule=\"evenodd\" fill-opacity=\"1\"/>\n<defs>\n  <clipPath id=\"clip271\">\n    <rect x=\"480\" y=\"0\" width=\"1681\" height=\"1600\"/>\n  </clipPath>\n</defs>\n<path clip-path=\"url(#clip270)\" d=\"\nM140.696 1486.45 L2352.76 1486.45 L2352.76 123.472 L140.696 123.472  Z\n  \" fill=\"#ffffff\" fill-rule=\"evenodd\" fill-opacity=\"1\"/>\n<defs>\n  <clipPath id=\"clip272\">\n    <rect x=\"140\" y=\"123\" width=\"2213\" height=\"1364\"/>\n  </clipPath>\n</defs>\n<polyline clip-path=\"url(#clip272)\" style=\"stroke:#000000; stroke-linecap:butt; stroke-linejoin:round; stroke-width:2; stroke-opacity:0.1; fill:none\" points=\"\n  210.554,1486.45 210.554,123.472 \n  \"/>\n<polyline clip-path=\"url(#clip272)\" style=\"stroke:#000000; stroke-linecap:butt; stroke-linejoin:round; stroke-width:2; stroke-opacity:0.1; fill:none\" points=\"\n  728.64,1486.45 728.64,123.472 \n  \"/>\n<polyline clip-path=\"url(#clip272)\" style=\"stroke:#000000; stroke-linecap:butt; stroke-linejoin:round; stroke-width:2; stroke-opacity:0.1; fill:none\" points=\"\n  1246.73,1486.45 1246.73,123.472 \n  \"/>\n<polyline clip-path=\"url(#clip272)\" style=\"stroke:#000000; stroke-linecap:butt; stroke-linejoin:round; stroke-width:2; stroke-opacity:0.1; fill:none\" points=\"\n  1764.81,1486.45 1764.81,123.472 \n  \"/>\n<polyline clip-path=\"url(#clip272)\" style=\"stroke:#000000; stroke-linecap:butt; stroke-linejoin:round; stroke-width:2; stroke-opacity:0.1; fill:none\" points=\"\n  2282.9,1486.45 2282.9,123.472 \n  \"/>\n<polyline clip-path=\"url(#clip270)\" style=\"stroke:#000000; stroke-linecap:butt; stroke-linejoin:round; stroke-width:4; stroke-opacity:1; fill:none\" points=\"\n  140.696,1486.45 2352.76,1486.45 \n  \"/>\n<polyline clip-path=\"url(#clip270)\" style=\"stroke:#000000; stroke-linecap:butt; stroke-linejoin:round; stroke-width:4; stroke-opacity:1; fill:none\" points=\"\n  210.554,1486.45 210.554,1467.55 \n  \"/>\n<polyline clip-path=\"url(#clip270)\" style=\"stroke:#000000; stroke-linecap:butt; stroke-linejoin:round; stroke-width:4; stroke-opacity:1; fill:none\" points=\"\n  728.64,1486.45 728.64,1467.55 \n  \"/>\n<polyline clip-path=\"url(#clip270)\" style=\"stroke:#000000; stroke-linecap:butt; stroke-linejoin:round; stroke-width:4; stroke-opacity:1; fill:none\" points=\"\n  1246.73,1486.45 1246.73,1467.55 \n  \"/>\n<polyline clip-path=\"url(#clip270)\" style=\"stroke:#000000; stroke-linecap:butt; stroke-linejoin:round; stroke-width:4; stroke-opacity:1; fill:none\" points=\"\n  1764.81,1486.45 1764.81,1467.55 \n  \"/>\n<polyline clip-path=\"url(#clip270)\" style=\"stroke:#000000; stroke-linecap:butt; stroke-linejoin:round; stroke-width:4; stroke-opacity:1; fill:none\" points=\"\n  2282.9,1486.45 2282.9,1467.55 \n  \"/>\n<path clip-path=\"url(#clip270)\" d=\"M210.554 1517.37 Q206.943 1517.37 205.114 1520.93 Q203.309 1524.47 203.309 1531.6 Q203.309 1538.71 205.114 1542.27 Q206.943 1545.82 210.554 1545.82 Q214.188 1545.82 215.994 1542.27 Q217.823 1538.71 217.823 1531.6 Q217.823 1524.47 215.994 1520.93 Q214.188 1517.37 210.554 1517.37 M210.554 1513.66 Q216.364 1513.66 219.42 1518.27 Q222.499 1522.85 222.499 1531.6 Q222.499 1540.33 219.42 1544.94 Q216.364 1549.52 210.554 1549.52 Q204.744 1549.52 201.665 1544.94 Q198.61 1540.33 198.61 1531.6 Q198.61 1522.85 201.665 1518.27 Q204.744 1513.66 210.554 1513.66 Z\" fill=\"#000000\" fill-rule=\"evenodd\" fill-opacity=\"1\" /><path clip-path=\"url(#clip270)\" d=\"M703.328 1544.91 L710.966 1544.91 L710.966 1518.55 L702.656 1520.21 L702.656 1515.95 L710.92 1514.29 L715.596 1514.29 L715.596 1544.91 L723.235 1544.91 L723.235 1548.85 L703.328 1548.85 L703.328 1544.91 Z\" fill=\"#000000\" fill-rule=\"evenodd\" fill-opacity=\"1\" /><path clip-path=\"url(#clip270)\" d=\"M742.679 1517.37 Q739.068 1517.37 737.239 1520.93 Q735.434 1524.47 735.434 1531.6 Q735.434 1538.71 737.239 1542.27 Q739.068 1545.82 742.679 1545.82 Q746.313 1545.82 748.119 1542.27 Q749.948 1538.71 749.948 1531.6 Q749.948 1524.47 748.119 1520.93 Q746.313 1517.37 742.679 1517.37 M742.679 1513.66 Q748.489 1513.66 751.545 1518.27 Q754.624 1522.85 754.624 1531.6 Q754.624 1540.33 751.545 1544.94 Q748.489 1549.52 742.679 1549.52 Q736.869 1549.52 733.79 1544.94 Q730.735 1540.33 730.735 1531.6 Q730.735 1522.85 733.79 1518.27 Q736.869 1513.66 742.679 1513.66 Z\" fill=\"#000000\" fill-rule=\"evenodd\" fill-opacity=\"1\" /><path clip-path=\"url(#clip270)\" d=\"M1225.5 1544.91 L1241.82 1544.91 L1241.82 1548.85 L1219.87 1548.85 L1219.87 1544.91 Q1222.54 1542.16 1227.12 1537.53 Q1231.73 1532.88 1232.91 1531.53 Q1235.15 1529.01 1236.03 1527.27 Q1236.93 1525.51 1236.93 1523.82 Q1236.93 1521.07 1234.99 1519.33 Q1233.07 1517.6 1229.97 1517.6 Q1227.77 1517.6 1225.31 1518.36 Q1222.88 1519.13 1220.11 1520.68 L1220.11 1515.95 Q1222.93 1514.82 1225.38 1514.24 Q1227.84 1513.66 1229.87 1513.66 Q1235.24 1513.66 1238.44 1516.35 Q1241.63 1519.03 1241.63 1523.52 Q1241.63 1525.65 1240.82 1527.57 Q1240.04 1529.47 1237.93 1532.07 Q1237.35 1532.74 1234.25 1535.95 Q1231.15 1539.15 1225.5 1544.91 Z\" fill=\"#000000\" fill-rule=\"evenodd\" fill-opacity=\"1\" /><path clip-path=\"url(#clip270)\" d=\"M1261.63 1517.37 Q1258.02 1517.37 1256.19 1520.93 Q1254.39 1524.47 1254.39 1531.6 Q1254.39 1538.71 1256.19 1542.27 Q1258.02 1545.82 1261.63 1545.82 Q1265.27 1545.82 1267.07 1542.27 Q1268.9 1538.71 1268.9 1531.6 Q1268.9 1524.47 1267.07 1520.93 Q1265.27 1517.37 1261.63 1517.37 M1261.63 1513.66 Q1267.44 1513.66 1270.5 1518.27 Q1273.58 1522.85 1273.58 1531.6 Q1273.58 1540.33 1270.5 1544.94 Q1267.44 1549.52 1261.63 1549.52 Q1255.82 1549.52 1252.74 1544.94 Q1249.69 1540.33 1249.69 1531.6 Q1249.69 1522.85 1252.74 1518.27 Q1255.82 1513.66 1261.63 1513.66 Z\" fill=\"#000000\" fill-rule=\"evenodd\" fill-opacity=\"1\" /><path clip-path=\"url(#clip270)\" d=\"M1753.65 1530.21 Q1757.01 1530.93 1758.89 1533.2 Q1760.78 1535.47 1760.78 1538.8 Q1760.78 1543.92 1757.27 1546.72 Q1753.75 1549.52 1747.27 1549.52 Q1745.09 1549.52 1742.77 1549.08 Q1740.48 1548.66 1738.03 1547.81 L1738.03 1543.29 Q1739.97 1544.43 1742.29 1545.01 Q1744.6 1545.58 1747.13 1545.58 Q1751.52 1545.58 1753.82 1543.85 Q1756.13 1542.11 1756.13 1538.8 Q1756.13 1535.75 1753.98 1534.03 Q1751.85 1532.3 1748.03 1532.3 L1744 1532.3 L1744 1528.45 L1748.21 1528.45 Q1751.66 1528.45 1753.49 1527.09 Q1755.32 1525.7 1755.32 1523.11 Q1755.32 1520.45 1753.42 1519.03 Q1751.55 1517.6 1748.03 1517.6 Q1746.11 1517.6 1743.91 1518.01 Q1741.71 1518.43 1739.07 1519.31 L1739.07 1515.14 Q1741.73 1514.4 1744.05 1514.03 Q1746.39 1513.66 1748.45 1513.66 Q1753.77 1513.66 1756.87 1516.09 Q1759.97 1518.5 1759.97 1522.62 Q1759.97 1525.49 1758.33 1527.48 Q1756.69 1529.45 1753.65 1530.21 Z\" fill=\"#000000\" fill-rule=\"evenodd\" fill-opacity=\"1\" /><path clip-path=\"url(#clip270)\" d=\"M1779.65 1517.37 Q1776.04 1517.37 1774.21 1520.93 Q1772.4 1524.47 1772.4 1531.6 Q1772.4 1538.71 1774.21 1542.27 Q1776.04 1545.82 1779.65 1545.82 Q1783.28 1545.82 1785.09 1542.27 Q1786.92 1538.71 1786.92 1531.6 Q1786.92 1524.47 1785.09 1520.93 Q1783.28 1517.37 1779.65 1517.37 M1779.65 1513.66 Q1785.46 1513.66 1788.52 1518.27 Q1791.59 1522.85 1791.59 1531.6 Q1791.59 1540.33 1788.52 1544.94 Q1785.46 1549.52 1779.65 1549.52 Q1773.84 1549.52 1770.76 1544.94 Q1767.7 1540.33 1767.7 1531.6 Q1767.7 1522.85 1770.76 1518.27 Q1773.84 1513.66 1779.65 1513.66 Z\" fill=\"#000000\" fill-rule=\"evenodd\" fill-opacity=\"1\" /><path clip-path=\"url(#clip270)\" d=\"M2271.07 1518.36 L2259.26 1536.81 L2271.07 1536.81 L2271.07 1518.36 M2269.84 1514.29 L2275.72 1514.29 L2275.72 1536.81 L2280.65 1536.81 L2280.65 1540.7 L2275.72 1540.7 L2275.72 1548.85 L2271.07 1548.85 L2271.07 1540.7 L2255.47 1540.7 L2255.47 1536.19 L2269.84 1514.29 Z\" fill=\"#000000\" fill-rule=\"evenodd\" fill-opacity=\"1\" /><path clip-path=\"url(#clip270)\" d=\"M2298.38 1517.37 Q2294.77 1517.37 2292.94 1520.93 Q2291.14 1524.47 2291.14 1531.6 Q2291.14 1538.71 2292.94 1542.27 Q2294.77 1545.82 2298.38 1545.82 Q2302.02 1545.82 2303.82 1542.27 Q2305.65 1538.71 2305.65 1531.6 Q2305.65 1524.47 2303.82 1520.93 Q2302.02 1517.37 2298.38 1517.37 M2298.38 1513.66 Q2304.19 1513.66 2307.25 1518.27 Q2310.33 1522.85 2310.33 1531.6 Q2310.33 1540.33 2307.25 1544.94 Q2304.19 1549.52 2298.38 1549.52 Q2292.57 1549.52 2289.49 1544.94 Q2286.44 1540.33 2286.44 1531.6 Q2286.44 1522.85 2289.49 1518.27 Q2292.57 1513.66 2298.38 1513.66 Z\" fill=\"#000000\" fill-rule=\"evenodd\" fill-opacity=\"1\" /><polyline clip-path=\"url(#clip272)\" style=\"stroke:#000000; stroke-linecap:butt; stroke-linejoin:round; stroke-width:2; stroke-opacity:0.1; fill:none\" points=\"\n  140.696,1447.87 2352.76,1447.87 \n  \"/>\n<polyline clip-path=\"url(#clip272)\" style=\"stroke:#000000; stroke-linecap:butt; stroke-linejoin:round; stroke-width:2; stroke-opacity:0.1; fill:none\" points=\"\n  140.696,1126.42 2352.76,1126.42 \n  \"/>\n<polyline clip-path=\"url(#clip272)\" style=\"stroke:#000000; stroke-linecap:butt; stroke-linejoin:round; stroke-width:2; stroke-opacity:0.1; fill:none\" points=\"\n  140.696,804.96 2352.76,804.96 \n  \"/>\n<polyline clip-path=\"url(#clip272)\" style=\"stroke:#000000; stroke-linecap:butt; stroke-linejoin:round; stroke-width:2; stroke-opacity:0.1; fill:none\" points=\"\n  140.696,483.503 2352.76,483.503 \n  \"/>\n<polyline clip-path=\"url(#clip272)\" style=\"stroke:#000000; stroke-linecap:butt; stroke-linejoin:round; stroke-width:2; stroke-opacity:0.1; fill:none\" points=\"\n  140.696,162.047 2352.76,162.047 \n  \"/>\n<polyline clip-path=\"url(#clip270)\" style=\"stroke:#000000; stroke-linecap:butt; stroke-linejoin:round; stroke-width:4; stroke-opacity:1; fill:none\" points=\"\n  140.696,1486.45 140.696,123.472 \n  \"/>\n<polyline clip-path=\"url(#clip270)\" style=\"stroke:#000000; stroke-linecap:butt; stroke-linejoin:round; stroke-width:4; stroke-opacity:1; fill:none\" points=\"\n  140.696,1447.87 159.593,1447.87 \n  \"/>\n<polyline clip-path=\"url(#clip270)\" style=\"stroke:#000000; stroke-linecap:butt; stroke-linejoin:round; stroke-width:4; stroke-opacity:1; fill:none\" points=\"\n  140.696,1126.42 159.593,1126.42 \n  \"/>\n<polyline clip-path=\"url(#clip270)\" style=\"stroke:#000000; stroke-linecap:butt; stroke-linejoin:round; stroke-width:4; stroke-opacity:1; fill:none\" points=\"\n  140.696,804.96 159.593,804.96 \n  \"/>\n<polyline clip-path=\"url(#clip270)\" style=\"stroke:#000000; stroke-linecap:butt; stroke-linejoin:round; stroke-width:4; stroke-opacity:1; fill:none\" points=\"\n  140.696,483.503 159.593,483.503 \n  \"/>\n<polyline clip-path=\"url(#clip270)\" style=\"stroke:#000000; stroke-linecap:butt; stroke-linejoin:round; stroke-width:4; stroke-opacity:1; fill:none\" points=\"\n  140.696,162.047 159.593,162.047 \n  \"/>\n<path clip-path=\"url(#clip270)\" d=\"M92.7512 1433.67 Q89.1401 1433.67 87.3114 1437.24 Q85.5058 1440.78 85.5058 1447.91 Q85.5058 1455.01 87.3114 1458.58 Q89.1401 1462.12 92.7512 1462.12 Q96.3854 1462.12 98.1909 1458.58 Q100.02 1455.01 100.02 1447.91 Q100.02 1440.78 98.1909 1437.24 Q96.3854 1433.67 92.7512 1433.67 M92.7512 1429.97 Q98.5613 1429.97 101.617 1434.57 Q104.696 1439.16 104.696 1447.91 Q104.696 1456.63 101.617 1461.24 Q98.5613 1465.82 92.7512 1465.82 Q86.941 1465.82 83.8623 1461.24 Q80.8068 1456.63 80.8068 1447.91 Q80.8068 1439.16 83.8623 1434.57 Q86.941 1429.97 92.7512 1429.97 Z\" fill=\"#000000\" fill-rule=\"evenodd\" fill-opacity=\"1\" /><path clip-path=\"url(#clip270)\" d=\"M83.7929 1109.14 L102.149 1109.14 L102.149 1113.07 L88.0753 1113.07 L88.0753 1121.54 Q89.0938 1121.2 90.1123 1121.03 Q91.1308 1120.85 92.1493 1120.85 Q97.9363 1120.85 101.316 1124.02 Q104.696 1127.19 104.696 1132.61 Q104.696 1138.19 101.223 1141.29 Q97.7511 1144.37 91.4317 1144.37 Q89.2558 1144.37 86.9873 1144 Q84.7419 1143.63 82.3346 1142.89 L82.3346 1138.19 Q84.4179 1139.32 86.6401 1139.88 Q88.8623 1140.43 91.3391 1140.43 Q95.3437 1140.43 97.6817 1138.33 Q100.02 1136.22 100.02 1132.61 Q100.02 1129 97.6817 1126.89 Q95.3437 1124.78 91.3391 1124.78 Q89.4641 1124.78 87.5892 1125.2 Q85.7373 1125.62 83.7929 1126.5 L83.7929 1109.14 Z\" fill=\"#000000\" fill-rule=\"evenodd\" fill-opacity=\"1\" /><path clip-path=\"url(#clip270)\" d=\"M53.3995 818.305 L61.0384 818.305 L61.0384 791.939 L52.7282 793.606 L52.7282 789.347 L60.9921 787.68 L65.668 787.68 L65.668 818.305 L73.3068 818.305 L73.3068 822.24 L53.3995 822.24 L53.3995 818.305 Z\" fill=\"#000000\" fill-rule=\"evenodd\" fill-opacity=\"1\" /><path clip-path=\"url(#clip270)\" d=\"M92.7512 790.759 Q89.1401 790.759 87.3114 794.323 Q85.5058 797.865 85.5058 804.995 Q85.5058 812.101 87.3114 815.666 Q89.1401 819.208 92.7512 819.208 Q96.3854 819.208 98.1909 815.666 Q100.02 812.101 100.02 804.995 Q100.02 797.865 98.1909 794.323 Q96.3854 790.759 92.7512 790.759 M92.7512 787.055 Q98.5613 787.055 101.617 791.661 Q104.696 796.245 104.696 804.995 Q104.696 813.722 101.617 818.328 Q98.5613 822.911 92.7512 822.911 Q86.941 822.911 83.8623 818.328 Q80.8068 813.722 80.8068 804.995 Q80.8068 796.245 83.8623 791.661 Q86.941 787.055 92.7512 787.055 Z\" fill=\"#000000\" fill-rule=\"evenodd\" fill-opacity=\"1\" /><path clip-path=\"url(#clip270)\" d=\"M54.3949 496.848 L62.0337 496.848 L62.0337 470.483 L53.7236 472.149 L53.7236 467.89 L61.9874 466.223 L66.6633 466.223 L66.6633 496.848 L74.3022 496.848 L74.3022 500.783 L54.3949 500.783 L54.3949 496.848 Z\" fill=\"#000000\" fill-rule=\"evenodd\" fill-opacity=\"1\" /><path clip-path=\"url(#clip270)\" d=\"M83.7929 466.223 L102.149 466.223 L102.149 470.159 L88.0753 470.159 L88.0753 478.631 Q89.0938 478.284 90.1123 478.122 Q91.1308 477.936 92.1493 477.936 Q97.9363 477.936 101.316 481.108 Q104.696 484.279 104.696 489.696 Q104.696 495.274 101.223 498.376 Q97.7511 501.455 91.4317 501.455 Q89.2558 501.455 86.9873 501.084 Q84.7419 500.714 82.3346 499.973 L82.3346 495.274 Q84.4179 496.408 86.6401 496.964 Q88.8623 497.52 91.3391 497.52 Q95.3437 497.52 97.6817 495.413 Q100.02 493.307 100.02 489.696 Q100.02 486.084 97.6817 483.978 Q95.3437 481.872 91.3391 481.872 Q89.4641 481.872 87.5892 482.288 Q85.7373 482.705 83.7929 483.584 L83.7929 466.223 Z\" fill=\"#000000\" fill-rule=\"evenodd\" fill-opacity=\"1\" /><path clip-path=\"url(#clip270)\" d=\"M56.6171 175.392 L72.9365 175.392 L72.9365 179.327 L50.9921 179.327 L50.9921 175.392 Q53.6541 172.637 58.2375 168.008 Q62.8439 163.355 64.0245 162.012 Q66.2698 159.489 67.1494 157.753 Q68.0522 155.994 68.0522 154.304 Q68.0522 151.549 66.1078 149.813 Q64.1865 148.077 61.0847 148.077 Q58.8856 148.077 56.4319 148.841 Q54.0014 149.605 51.2236 151.156 L51.2236 146.434 Q54.0477 145.299 56.5014 144.721 Q58.955 144.142 60.9921 144.142 Q66.3624 144.142 69.5568 146.827 Q72.7513 149.512 72.7513 154.003 Q72.7513 156.133 71.9411 158.054 Q71.1541 159.952 69.0476 162.545 Q68.4689 163.216 65.367 166.433 Q62.2652 169.628 56.6171 175.392 Z\" fill=\"#000000\" fill-rule=\"evenodd\" fill-opacity=\"1\" /><path clip-path=\"url(#clip270)\" d=\"M92.7512 147.846 Q89.1401 147.846 87.3114 151.41 Q85.5058 154.952 85.5058 162.082 Q85.5058 169.188 87.3114 172.753 Q89.1401 176.295 92.7512 176.295 Q96.3854 176.295 98.1909 172.753 Q100.02 169.188 100.02 162.082 Q100.02 154.952 98.1909 151.41 Q96.3854 147.846 92.7512 147.846 M92.7512 144.142 Q98.5613 144.142 101.617 148.748 Q104.696 153.332 104.696 162.082 Q104.696 170.808 101.617 175.415 Q98.5613 179.998 92.7512 179.998 Q86.941 179.998 83.8623 175.415 Q80.8068 170.808 80.8068 162.082 Q80.8068 153.332 83.8623 148.748 Q86.941 144.142 92.7512 144.142 Z\" fill=\"#000000\" fill-rule=\"evenodd\" fill-opacity=\"1\" /><path clip-path=\"url(#clip270)\" d=\"M172.122 33.1202 Q165.965 33.1202 162.643 37.5762 Q159.159 42.2347 159.159 49.9314 Q159.159 58.0738 162.602 62.7728 Q166.086 67.4314 172.122 67.4314 Q178.077 67.4314 181.561 62.7323 Q185.044 58.0333 185.044 49.9314 Q185.044 42.5183 181.561 37.5762 Q178.36 33.1202 172.122 33.1202 M172.122 27.2059 L196.873 27.2059 L196.873 34.6595 L188.528 34.6595 Q192.944 40.9789 192.944 49.9314 Q192.944 61.0714 187.394 67.3908 Q181.844 73.7508 172.122 73.7508 Q162.359 73.7508 156.85 67.3908 Q151.3 61.0714 151.3 49.9314 Q151.3 38.7104 156.85 32.4315 Q161.428 27.2059 172.122 27.2059 Z\" fill=\"#000000\" fill-rule=\"evenodd\" fill-opacity=\"1\" /><path clip-path=\"url(#clip270)\" d=\"M205.623 68.12 L213.887 68.12 L213.887 43.369 L204.853 45.0299 L204.853 40.3308 L214.17 38.7509 L219.72 38.7509 L219.72 68.12 L228.025 68.12 L228.025 72.576 L205.623 72.576 L205.623 68.12 Z\" fill=\"#000000\" fill-rule=\"evenodd\" fill-opacity=\"1\" /><path clip-path=\"url(#clip270)\" d=\"M284.332 32.4315 Q278.337 32.4315 274.853 37.1306 Q271.369 41.7891 271.369 49.9314 Q271.369 58.0738 274.813 62.7728 Q278.296 67.4314 284.332 67.4314 Q290.287 67.4314 293.771 62.7323 Q297.255 58.0333 297.255 49.9314 Q297.255 41.8701 293.771 37.1711 Q290.287 32.4315 284.332 32.4315 M284.332 26.1121 Q294.054 26.1121 299.604 32.4315 Q305.154 38.7509 305.154 49.9314 Q305.154 61.0714 299.604 67.4314 Q294.054 73.7508 284.332 73.7508 Q274.569 73.7508 269.02 67.4314 Q263.511 61.0714 263.511 49.9314 Q263.511 38.7509 269.02 32.4315 Q274.569 26.1121 284.332 26.1121 Z\" fill=\"#000000\" fill-rule=\"evenodd\" fill-opacity=\"1\" /><path clip-path=\"url(#clip270)\" d=\"M340.478 9.54393 L340.478 15.7418 L333.348 15.7418 Q329.338 15.7418 327.758 17.3622 Q326.219 18.9825 326.219 23.1955 L326.219 27.2059 L338.493 27.2059 L338.493 32.9987 L326.219 32.9987 L326.219 72.576 L318.724 72.576 L318.724 32.9987 L311.595 32.9987 L311.595 27.2059 L318.724 27.2059 L318.724 24.0462 Q318.724 16.471 322.249 13.0277 Q325.773 9.54393 333.429 9.54393 L340.478 9.54393 Z\" fill=\"#000000\" fill-rule=\"evenodd\" fill-opacity=\"1\" /><path clip-path=\"url(#clip270)\" d=\"M381.594 18.8205 L381.594 65.8515 L391.479 65.8515 Q403.996 65.8515 409.789 60.1802 Q415.622 54.509 415.622 42.2752 Q415.622 30.1225 409.789 24.4918 Q403.996 18.8205 391.479 18.8205 L381.594 18.8205 M373.412 12.096 L390.223 12.096 Q407.804 12.096 416.027 19.4281 Q424.25 26.7198 424.25 42.2752 Q424.25 57.9117 415.987 65.2439 Q407.723 72.576 390.223 72.576 L373.412 72.576 L373.412 12.096 Z\" fill=\"#000000\" fill-rule=\"evenodd\" fill-opacity=\"1\" /><path clip-path=\"url(#clip270)\" d=\"M473.55 14.0809 L473.55 22.0612 Q468.891 19.8332 464.759 18.7395 Q460.628 17.6457 456.779 17.6457 Q450.095 17.6457 446.449 20.2383 Q442.844 22.8309 442.844 27.611 Q442.844 31.6214 445.234 33.6873 Q447.665 35.7128 454.389 36.9686 L459.331 37.9813 Q468.486 39.7232 472.821 44.1387 Q477.196 48.5136 477.196 55.8863 Q477.196 64.6767 471.281 69.2137 Q465.408 73.7508 454.025 73.7508 Q449.731 73.7508 444.869 72.7785 Q440.049 71.8063 434.864 69.9024 L434.864 61.4765 Q439.846 64.2716 444.626 65.6895 Q449.407 67.1073 454.025 67.1073 Q461.033 67.1073 464.84 64.3527 Q468.648 61.598 468.648 56.4939 Q468.648 52.0379 465.894 49.5264 Q463.18 47.0148 456.941 45.759 L451.959 44.7868 Q442.804 42.9639 438.712 39.075 Q434.621 35.1862 434.621 28.2591 Q434.621 20.2383 440.251 15.6203 Q445.923 11.0023 455.847 11.0023 Q460.101 11.0023 464.516 11.7719 Q468.932 12.5416 473.55 14.0809 Z\" fill=\"#000000\" fill-rule=\"evenodd\" fill-opacity=\"1\" /><path clip-path=\"url(#clip270)\" d=\"M519.609 58.4383 Q518.353 56.98 516.368 53.5773 Q513.654 58.4383 511.264 60.5853 Q508.266 63.1779 503.608 63.1779 Q498.139 63.1779 494.534 59.0865 Q490.726 54.7925 490.726 47.7034 Q490.726 40.8979 494.534 36.2799 Q497.936 32.1885 503.689 32.1885 Q506.646 32.1885 508.833 33.4038 Q511.385 34.7406 513.127 37.0496 Q514.748 39.1155 516.368 41.9107 Q519.082 37.0496 521.472 34.9026 Q524.47 32.31 529.128 32.31 Q534.597 32.31 538.202 36.4014 Q542.01 40.6954 542.01 47.7845 Q542.01 54.59 538.202 59.208 Q534.8 63.2994 529.047 63.2994 Q526.09 63.2994 523.903 62.0842 Q521.715 60.9904 519.609 58.4383 M503.162 57.8712 Q509.846 57.8712 513.856 48.149 Q508.712 37.5357 503.162 37.5357 Q499.111 37.5357 497.045 40.4523 Q494.817 43.5715 494.817 47.7034 Q494.817 52.2405 497.045 55.0356 Q499.314 57.8712 503.162 57.8712 M529.574 37.6167 Q523.538 37.6167 518.88 47.3389 Q523.984 57.9522 529.574 57.9522 Q533.625 57.9522 535.691 55.0356 Q537.919 51.9164 537.919 47.7845 Q537.919 43.2475 535.691 40.4523 Q533.422 37.6167 529.574 37.6167 Z\" fill=\"#000000\" fill-rule=\"evenodd\" fill-opacity=\"1\" /><path clip-path=\"url(#clip270)\" d=\"M605.731 49.7694 Q596.697 49.7694 593.214 51.8354 Q589.73 53.9013 589.73 58.8839 Q589.73 62.8538 592.322 65.2034 Q594.955 67.5124 599.452 67.5124 Q605.65 67.5124 609.377 63.1374 Q613.144 58.7219 613.144 51.4303 L613.144 49.7694 L605.731 49.7694 M620.598 46.6907 L620.598 72.576 L613.144 72.576 L613.144 65.6895 Q610.592 69.8214 606.784 71.8063 Q602.976 73.7508 597.467 73.7508 Q590.499 73.7508 586.368 69.8619 Q582.276 65.9325 582.276 59.3701 Q582.276 51.7138 587.38 47.825 Q592.525 43.9361 602.693 43.9361 L613.144 43.9361 L613.144 43.2069 Q613.144 38.0623 609.741 35.2672 Q606.379 32.4315 600.262 32.4315 Q596.373 32.4315 592.687 33.3632 Q589.001 34.295 585.598 36.1584 L585.598 29.2718 Q589.689 27.692 593.538 26.9223 Q597.386 26.1121 601.032 26.1121 Q610.876 26.1121 615.737 31.2163 Q620.598 36.3204 620.598 46.6907 Z\" fill=\"#000000\" fill-rule=\"evenodd\" fill-opacity=\"1\" /><path clip-path=\"url(#clip270)\" d=\"M673.665 45.1919 L673.665 72.576 L666.211 72.576 L666.211 45.4349 Q666.211 38.994 663.699 35.7938 Q661.188 32.5936 656.165 32.5936 Q650.129 32.5936 646.645 36.4419 Q643.161 40.2903 643.161 46.9338 L643.161 72.576 L635.667 72.576 L635.667 27.2059 L643.161 27.2059 L643.161 34.2544 Q645.835 30.163 649.44 28.1376 Q653.086 26.1121 657.826 26.1121 Q665.644 26.1121 669.654 30.9732 Q673.665 35.7938 673.665 45.1919 Z\" fill=\"#000000\" fill-rule=\"evenodd\" fill-opacity=\"1\" /><path clip-path=\"url(#clip270)\" d=\"M718.387 34.0924 L718.387 9.54393 L725.84 9.54393 L725.84 72.576 L718.387 72.576 L718.387 65.7705 Q716.037 69.8214 712.432 71.8063 Q708.867 73.7508 703.844 73.7508 Q695.62 73.7508 690.435 67.1883 Q685.291 60.6258 685.291 49.9314 Q685.291 39.2371 690.435 32.6746 Q695.62 26.1121 703.844 26.1121 Q708.867 26.1121 712.432 28.0971 Q716.037 30.0415 718.387 34.0924 M692.987 49.9314 Q692.987 58.1548 696.35 62.8538 Q699.752 67.5124 705.667 67.5124 Q711.581 67.5124 714.984 62.8538 Q718.387 58.1548 718.387 49.9314 Q718.387 41.7081 714.984 37.0496 Q711.581 32.3505 705.667 32.3505 Q699.752 32.3505 696.35 37.0496 Q692.987 41.7081 692.987 49.9314 Z\" fill=\"#000000\" fill-rule=\"evenodd\" fill-opacity=\"1\" /><path clip-path=\"url(#clip270)\" d=\"M776.071 18.8205 L776.071 65.8515 L785.956 65.8515 Q798.473 65.8515 804.266 60.1802 Q810.099 54.509 810.099 42.2752 Q810.099 30.1225 804.266 24.4918 Q798.473 18.8205 785.956 18.8205 L776.071 18.8205 M767.889 12.096 L784.7 12.096 Q802.281 12.096 810.504 19.4281 Q818.727 26.7198 818.727 42.2752 Q818.727 57.9117 810.464 65.2439 Q802.2 72.576 784.7 72.576 L767.889 72.576 L767.889 12.096 Z\" fill=\"#000000\" fill-rule=\"evenodd\" fill-opacity=\"1\" /><path clip-path=\"url(#clip270)\" d=\"M823.386 12.096 L874.549 12.096 L874.549 18.9825 L853.079 18.9825 L853.079 72.576 L844.856 72.576 L844.856 18.9825 L823.386 18.9825 L823.386 12.096 Z\" fill=\"#000000\" fill-rule=\"evenodd\" fill-opacity=\"1\" /><path clip-path=\"url(#clip270)\" d=\"M897.396 45.1514 Q895.371 41.6676 891.279 41.6676 Q887.188 41.6676 885.162 45.1514 Q883.096 48.6352 883.096 55.6027 Q883.096 62.6108 885.162 66.0946 Q887.188 69.5783 891.279 69.5783 Q895.371 69.5783 897.396 66.0946 Q899.462 62.6108 899.462 55.6027 Q899.462 48.6352 897.396 45.1514 M891.279 38.0623 Q897.801 38.0623 901.244 42.5588 Q904.688 47.0553 904.688 55.6027 Q904.688 64.1906 901.244 68.6871 Q897.801 73.1836 891.279 73.1836 Q884.717 73.1836 881.273 68.6871 Q877.83 64.1906 877.83 55.6027 Q877.83 47.0553 881.273 42.5588 Q884.717 38.0623 891.279 38.0623 Z\" fill=\"#000000\" fill-rule=\"evenodd\" fill-opacity=\"1\" /><path clip-path=\"url(#clip270)\" d=\"M959.658 9.62495 Q954.23 18.942 951.597 28.0566 Q948.964 37.1711 948.964 46.5287 Q948.964 55.8863 951.597 65.0818 Q954.271 74.2369 959.658 83.5134 L953.177 83.5134 Q947.101 73.9938 944.062 64.7983 Q941.065 55.6027 941.065 46.5287 Q941.065 37.4952 944.062 28.3401 Q947.06 19.1851 953.177 9.62495 L959.658 9.62495 Z\" fill=\"#000000\" fill-rule=\"evenodd\" fill-opacity=\"1\" /><path clip-path=\"url(#clip270)\" d=\"M976.591 65.6895 L989.959 65.6895 L989.959 19.5497 L975.416 22.4663 L975.416 15.0127 L989.878 12.096 L998.061 12.096 L998.061 65.6895 L1011.43 65.6895 L1011.43 72.576 L976.591 72.576 L976.591 65.6895 Z\" fill=\"#000000\" fill-rule=\"evenodd\" fill-opacity=\"1\" /><path clip-path=\"url(#clip270)\" d=\"M1045.46 17.4837 Q1039.14 17.4837 1035.94 23.7221 Q1032.78 29.92 1032.78 42.3968 Q1032.78 54.833 1035.94 61.0714 Q1039.14 67.2693 1045.46 67.2693 Q1051.82 67.2693 1054.98 61.0714 Q1058.18 54.833 1058.18 42.3968 Q1058.18 29.92 1054.98 23.7221 Q1051.82 17.4837 1045.46 17.4837 M1045.46 11.0023 Q1055.62 11.0023 1060.97 19.0636 Q1066.36 27.0843 1066.36 42.3968 Q1066.36 57.6687 1060.97 65.73 Q1055.62 73.7508 1045.46 73.7508 Q1035.29 73.7508 1029.9 65.73 Q1024.55 57.6687 1024.55 42.3968 Q1024.55 27.0843 1029.9 19.0636 Q1035.29 11.0023 1045.46 11.0023 Z\" fill=\"#000000\" fill-rule=\"evenodd\" fill-opacity=\"1\" /><path clip-path=\"url(#clip270)\" d=\"M1098.24 17.4837 Q1091.92 17.4837 1088.72 23.7221 Q1085.56 29.92 1085.56 42.3968 Q1085.56 54.833 1088.72 61.0714 Q1091.92 67.2693 1098.24 67.2693 Q1104.6 67.2693 1107.76 61.0714 Q1110.96 54.833 1110.96 42.3968 Q1110.96 29.92 1107.76 23.7221 Q1104.6 17.4837 1098.24 17.4837 M1098.24 11.0023 Q1108.41 11.0023 1113.75 19.0636 Q1119.14 27.0843 1119.14 42.3968 Q1119.14 57.6687 1113.75 65.73 Q1108.41 73.7508 1098.24 73.7508 Q1088.07 73.7508 1082.68 65.73 Q1077.34 57.6687 1077.34 42.3968 Q1077.34 27.0843 1082.68 19.0636 Q1088.07 11.0023 1098.24 11.0023 Z\" fill=\"#000000\" fill-rule=\"evenodd\" fill-opacity=\"1\" /><path clip-path=\"url(#clip270)\" d=\"M1185.13 34.1734 Q1183.88 33.4443 1182.38 33.1202 Q1180.92 32.7556 1179.14 32.7556 Q1172.82 32.7556 1169.41 36.8875 Q1166.05 40.9789 1166.05 48.6757 L1166.05 72.576 L1158.56 72.576 L1158.56 27.2059 L1166.05 27.2059 L1166.05 34.2544 Q1168.4 30.1225 1172.17 28.1376 Q1175.94 26.1121 1181.32 26.1121 Q1182.09 26.1121 1183.03 26.2337 Q1183.96 26.3147 1185.09 26.5172 L1185.13 34.1734 Z\" fill=\"#000000\" fill-rule=\"evenodd\" fill-opacity=\"1\" /><path clip-path=\"url(#clip270)\" d=\"M1213.57 49.7694 Q1204.54 49.7694 1201.05 51.8354 Q1197.57 53.9013 1197.57 58.8839 Q1197.57 62.8538 1200.16 65.2034 Q1202.79 67.5124 1207.29 67.5124 Q1213.49 67.5124 1217.21 63.1374 Q1220.98 58.7219 1220.98 51.4303 L1220.98 49.7694 L1213.57 49.7694 M1228.44 46.6907 L1228.44 72.576 L1220.98 72.576 L1220.98 65.6895 Q1218.43 69.8214 1214.62 71.8063 Q1210.81 73.7508 1205.31 73.7508 Q1198.34 73.7508 1194.21 69.8619 Q1190.11 65.9325 1190.11 59.3701 Q1190.11 51.7138 1195.22 47.825 Q1200.36 43.9361 1210.53 43.9361 L1220.98 43.9361 L1220.98 43.2069 Q1220.98 38.0623 1217.58 35.2672 Q1214.22 32.4315 1208.1 32.4315 Q1204.21 32.4315 1200.53 33.3632 Q1196.84 34.295 1193.44 36.1584 L1193.44 29.2718 Q1197.53 27.692 1201.38 26.9223 Q1205.22 26.1121 1208.87 26.1121 Q1218.71 26.1121 1223.57 31.2163 Q1228.44 36.3204 1228.44 46.6907 Z\" fill=\"#000000\" fill-rule=\"evenodd\" fill-opacity=\"1\" /><path clip-path=\"url(#clip270)\" d=\"M1281.5 45.1919 L1281.5 72.576 L1274.05 72.576 L1274.05 45.4349 Q1274.05 38.994 1271.54 35.7938 Q1269.03 32.5936 1264 32.5936 Q1257.97 32.5936 1254.48 36.4419 Q1251 40.2903 1251 46.9338 L1251 72.576 L1243.51 72.576 L1243.51 27.2059 L1251 27.2059 L1251 34.2544 Q1253.67 30.163 1257.28 28.1376 Q1260.92 26.1121 1265.66 26.1121 Q1273.48 26.1121 1277.49 30.9732 Q1281.5 35.7938 1281.5 45.1919 Z\" fill=\"#000000\" fill-rule=\"evenodd\" fill-opacity=\"1\" /><path clip-path=\"url(#clip270)\" d=\"M1326.22 34.0924 L1326.22 9.54393 L1333.68 9.54393 L1333.68 72.576 L1326.22 72.576 L1326.22 65.7705 Q1323.88 69.8214 1320.27 71.8063 Q1316.71 73.7508 1311.68 73.7508 Q1303.46 73.7508 1298.27 67.1883 Q1293.13 60.6258 1293.13 49.9314 Q1293.13 39.2371 1298.27 32.6746 Q1303.46 26.1121 1311.68 26.1121 Q1316.71 26.1121 1320.27 28.0971 Q1323.88 30.0415 1326.22 34.0924 M1300.83 49.9314 Q1300.83 58.1548 1304.19 62.8538 Q1307.59 67.5124 1313.5 67.5124 Q1319.42 67.5124 1322.82 62.8538 Q1326.22 58.1548 1326.22 49.9314 Q1326.22 41.7081 1322.82 37.0496 Q1319.42 32.3505 1313.5 32.3505 Q1307.59 32.3505 1304.19 37.0496 Q1300.83 41.7081 1300.83 49.9314 Z\" fill=\"#000000\" fill-rule=\"evenodd\" fill-opacity=\"1\" /><path clip-path=\"url(#clip270)\" d=\"M1366.61 32.4315 Q1360.62 32.4315 1357.13 37.1306 Q1353.65 41.7891 1353.65 49.9314 Q1353.65 58.0738 1357.09 62.7728 Q1360.58 67.4314 1366.61 67.4314 Q1372.57 67.4314 1376.05 62.7323 Q1379.53 58.0333 1379.53 49.9314 Q1379.53 41.8701 1376.05 37.1711 Q1372.57 32.4315 1366.61 32.4315 M1366.61 26.1121 Q1376.33 26.1121 1381.88 32.4315 Q1387.43 38.7509 1387.43 49.9314 Q1387.43 61.0714 1381.88 67.4314 Q1376.33 73.7508 1366.61 73.7508 Q1356.85 73.7508 1351.3 67.4314 Q1345.79 61.0714 1345.79 49.9314 Q1345.79 38.7509 1351.3 32.4315 Q1356.85 26.1121 1366.61 26.1121 Z\" fill=\"#000000\" fill-rule=\"evenodd\" fill-opacity=\"1\" /><path clip-path=\"url(#clip270)\" d=\"M1435.11 35.9153 Q1437.91 30.8922 1441.8 28.5022 Q1445.69 26.1121 1450.95 26.1121 Q1458.04 26.1121 1461.89 31.0947 Q1465.74 36.0368 1465.74 45.1919 L1465.74 72.576 L1458.24 72.576 L1458.24 45.4349 Q1458.24 38.913 1455.93 35.7533 Q1453.63 32.5936 1448.89 32.5936 Q1443.09 32.5936 1439.73 36.4419 Q1436.37 40.2903 1436.37 46.9338 L1436.37 72.576 L1428.87 72.576 L1428.87 45.4349 Q1428.87 38.8725 1426.57 35.7533 Q1424.26 32.5936 1419.44 32.5936 Q1413.72 32.5936 1410.36 36.4824 Q1407 40.3308 1407 46.9338 L1407 72.576 L1399.51 72.576 L1399.51 27.2059 L1407 27.2059 L1407 34.2544 Q1409.55 30.082 1413.12 28.0971 Q1416.68 26.1121 1421.58 26.1121 Q1426.53 26.1121 1429.97 28.6237 Q1433.45 31.1352 1435.11 35.9153 Z\" fill=\"#000000\" fill-rule=\"evenodd\" fill-opacity=\"1\" /><path clip-path=\"url(#clip270)\" d=\"M1544.69 45.1919 L1544.69 72.576 L1537.24 72.576 L1537.24 45.4349 Q1537.24 38.994 1534.72 35.7938 Q1532.21 32.5936 1527.19 32.5936 Q1521.15 32.5936 1517.67 36.4419 Q1514.19 40.2903 1514.19 46.9338 L1514.19 72.576 L1506.69 72.576 L1506.69 27.2059 L1514.19 27.2059 L1514.19 34.2544 Q1516.86 30.163 1520.47 28.1376 Q1524.11 26.1121 1528.85 26.1121 Q1536.67 26.1121 1540.68 30.9732 Q1544.69 35.7938 1544.69 45.1919 Z\" fill=\"#000000\" fill-rule=\"evenodd\" fill-opacity=\"1\" /><path clip-path=\"url(#clip270)\" d=\"M1577.14 32.4315 Q1571.14 32.4315 1567.66 37.1306 Q1564.17 41.7891 1564.17 49.9314 Q1564.17 58.0738 1567.62 62.7728 Q1571.1 67.4314 1577.14 67.4314 Q1583.09 67.4314 1586.58 62.7323 Q1590.06 58.0333 1590.06 49.9314 Q1590.06 41.8701 1586.58 37.1711 Q1583.09 32.4315 1577.14 32.4315 M1577.14 26.1121 Q1586.86 26.1121 1592.41 32.4315 Q1597.96 38.7509 1597.96 49.9314 Q1597.96 61.0714 1592.41 67.4314 Q1586.86 73.7508 1577.14 73.7508 Q1567.38 73.7508 1561.83 67.4314 Q1556.32 61.0714 1556.32 49.9314 Q1556.32 38.7509 1561.83 32.4315 Q1567.38 26.1121 1577.14 26.1121 Z\" fill=\"#000000\" fill-rule=\"evenodd\" fill-opacity=\"1\" /><path clip-path=\"url(#clip270)\" d=\"M1636.61 34.1734 Q1635.35 33.4443 1633.85 33.1202 Q1632.39 32.7556 1630.61 32.7556 Q1624.29 32.7556 1620.89 36.8875 Q1617.53 40.9789 1617.53 48.6757 L1617.53 72.576 L1610.03 72.576 L1610.03 27.2059 L1617.53 27.2059 L1617.53 34.2544 Q1619.87 30.1225 1623.64 28.1376 Q1627.41 26.1121 1632.8 26.1121 Q1633.57 26.1121 1634.5 26.2337 Q1635.43 26.3147 1636.56 26.5172 L1636.61 34.1734 Z\" fill=\"#000000\" fill-rule=\"evenodd\" fill-opacity=\"1\" /><path clip-path=\"url(#clip270)\" d=\"M1678.29 35.9153 Q1681.08 30.8922 1684.97 28.5022 Q1688.86 26.1121 1694.13 26.1121 Q1701.22 26.1121 1705.07 31.0947 Q1708.91 36.0368 1708.91 45.1919 L1708.91 72.576 L1701.42 72.576 L1701.42 45.4349 Q1701.42 38.913 1699.11 35.7533 Q1696.8 32.5936 1692.06 32.5936 Q1686.27 32.5936 1682.91 36.4419 Q1679.54 40.2903 1679.54 46.9338 L1679.54 72.576 L1672.05 72.576 L1672.05 45.4349 Q1672.05 38.8725 1669.74 35.7533 Q1667.43 32.5936 1662.61 32.5936 Q1656.9 32.5936 1653.54 36.4824 Q1650.18 40.3308 1650.18 46.9338 L1650.18 72.576 L1642.68 72.576 L1642.68 27.2059 L1650.18 27.2059 L1650.18 34.2544 Q1652.73 30.082 1656.29 28.0971 Q1659.86 26.1121 1664.76 26.1121 Q1669.7 26.1121 1673.14 28.6237 Q1676.63 31.1352 1678.29 35.9153 Z\" fill=\"#000000\" fill-rule=\"evenodd\" fill-opacity=\"1\" /><path clip-path=\"url(#clip270)\" d=\"M1744.4 49.7694 Q1735.37 49.7694 1731.88 51.8354 Q1728.4 53.9013 1728.4 58.8839 Q1728.4 62.8538 1730.99 65.2034 Q1733.62 67.5124 1738.12 67.5124 Q1744.32 67.5124 1748.05 63.1374 Q1751.81 58.7219 1751.81 51.4303 L1751.81 49.7694 L1744.4 49.7694 M1759.27 46.6907 L1759.27 72.576 L1751.81 72.576 L1751.81 65.6895 Q1749.26 69.8214 1745.45 71.8063 Q1741.64 73.7508 1736.14 73.7508 Q1729.17 73.7508 1725.04 69.8619 Q1720.94 65.9325 1720.94 59.3701 Q1720.94 51.7138 1726.05 47.825 Q1731.19 43.9361 1741.36 43.9361 L1751.81 43.9361 L1751.81 43.2069 Q1751.81 38.0623 1748.41 35.2672 Q1745.05 32.4315 1738.93 32.4315 Q1735.04 32.4315 1731.36 33.3632 Q1727.67 34.295 1724.27 36.1584 L1724.27 29.2718 Q1728.36 27.692 1732.21 26.9223 Q1736.05 26.1121 1739.7 26.1121 Q1749.54 26.1121 1754.41 31.2163 Q1759.27 36.3204 1759.27 46.6907 Z\" fill=\"#000000\" fill-rule=\"evenodd\" fill-opacity=\"1\" /><path clip-path=\"url(#clip270)\" d=\"M1774.62 9.54393 L1782.07 9.54393 L1782.07 72.576 L1774.62 72.576 L1774.62 9.54393 Z\" fill=\"#000000\" fill-rule=\"evenodd\" fill-opacity=\"1\" /><path clip-path=\"url(#clip270)\" d=\"M1859.36 35.9153 Q1862.16 30.8922 1866.05 28.5022 Q1869.94 26.1121 1875.2 26.1121 Q1882.29 26.1121 1886.14 31.0947 Q1889.99 36.0368 1889.99 45.1919 L1889.99 72.576 L1882.49 72.576 L1882.49 45.4349 Q1882.49 38.913 1880.19 35.7533 Q1877.88 32.5936 1873.14 32.5936 Q1867.34 32.5936 1863.98 36.4419 Q1860.62 40.2903 1860.62 46.9338 L1860.62 72.576 L1853.13 72.576 L1853.13 45.4349 Q1853.13 38.8725 1850.82 35.7533 Q1848.51 32.5936 1843.69 32.5936 Q1837.98 32.5936 1834.61 36.4824 Q1831.25 40.3308 1831.25 46.9338 L1831.25 72.576 L1823.76 72.576 L1823.76 27.2059 L1831.25 27.2059 L1831.25 34.2544 Q1833.8 30.082 1837.37 28.0971 Q1840.93 26.1121 1845.83 26.1121 Q1850.78 26.1121 1854.22 28.6237 Q1857.7 31.1352 1859.36 35.9153 Z\" fill=\"#000000\" fill-rule=\"evenodd\" fill-opacity=\"1\" /><path clip-path=\"url(#clip270)\" d=\"M1925.47 49.7694 Q1916.44 49.7694 1912.96 51.8354 Q1909.47 53.9013 1909.47 58.8839 Q1909.47 62.8538 1912.07 65.2034 Q1914.7 67.5124 1919.2 67.5124 Q1925.39 67.5124 1929.12 63.1374 Q1932.89 58.7219 1932.89 51.4303 L1932.89 49.7694 L1925.47 49.7694 M1940.34 46.6907 L1940.34 72.576 L1932.89 72.576 L1932.89 65.6895 Q1930.34 69.8214 1926.53 71.8063 Q1922.72 73.7508 1917.21 73.7508 Q1910.24 73.7508 1906.11 69.8619 Q1902.02 65.9325 1902.02 59.3701 Q1902.02 51.7138 1907.12 47.825 Q1912.27 43.9361 1922.44 43.9361 L1932.89 43.9361 L1932.89 43.2069 Q1932.89 38.0623 1929.49 35.2672 Q1926.12 32.4315 1920.01 32.4315 Q1916.12 32.4315 1912.43 33.3632 Q1908.74 34.295 1905.34 36.1584 L1905.34 29.2718 Q1909.43 27.692 1913.28 26.9223 Q1917.13 26.1121 1920.78 26.1121 Q1930.62 26.1121 1935.48 31.2163 Q1940.34 36.3204 1940.34 46.6907 Z\" fill=\"#000000\" fill-rule=\"evenodd\" fill-opacity=\"1\" /><path clip-path=\"url(#clip270)\" d=\"M1963.07 14.324 L1963.07 27.2059 L1978.42 27.2059 L1978.42 32.9987 L1963.07 32.9987 L1963.07 57.6282 Q1963.07 63.1779 1964.57 64.7578 Q1966.11 66.3376 1970.76 66.3376 L1978.42 66.3376 L1978.42 72.576 L1970.76 72.576 Q1962.14 72.576 1958.85 69.3758 Q1955.57 66.1351 1955.57 57.6282 L1955.57 32.9987 L1950.1 32.9987 L1950.1 27.2059 L1955.57 27.2059 L1955.57 14.324 L1963.07 14.324 Z\" fill=\"#000000\" fill-rule=\"evenodd\" fill-opacity=\"1\" /><path clip-path=\"url(#clip270)\" d=\"M2014.51 34.1734 Q2013.26 33.4443 2011.76 33.1202 Q2010.3 32.7556 2008.52 32.7556 Q2002.2 32.7556 1998.8 36.8875 Q1995.43 40.9789 1995.43 48.6757 L1995.43 72.576 L1987.94 72.576 L1987.94 27.2059 L1995.43 27.2059 L1995.43 34.2544 Q1997.78 30.1225 2001.55 28.1376 Q2005.32 26.1121 2010.71 26.1121 Q2011.48 26.1121 2012.41 26.2337 Q2013.34 26.3147 2014.47 26.5172 L2014.51 34.1734 Z\" fill=\"#000000\" fill-rule=\"evenodd\" fill-opacity=\"1\" /><path clip-path=\"url(#clip270)\" d=\"M2022.33 27.2059 L2029.79 27.2059 L2029.79 72.576 L2022.33 72.576 L2022.33 27.2059 M2022.33 9.54393 L2029.79 9.54393 L2029.79 18.9825 L2022.33 18.9825 L2022.33 9.54393 Z\" fill=\"#000000\" fill-rule=\"evenodd\" fill-opacity=\"1\" /><path clip-path=\"url(#clip270)\" d=\"M2083.1 27.2059 L2066.69 49.2833 L2083.95 72.576 L2075.16 72.576 L2061.95 54.752 L2048.74 72.576 L2039.95 72.576 L2057.57 48.8377 L2041.45 27.2059 L2050.24 27.2059 L2062.27 43.369 L2074.31 27.2059 L2083.1 27.2059 Z\" fill=\"#000000\" fill-rule=\"evenodd\" fill-opacity=\"1\" /><path clip-path=\"url(#clip270)\" d=\"M2128.06 65.7705 L2128.06 89.8329 L2120.57 89.8329 L2120.57 27.2059 L2128.06 27.2059 L2128.06 34.0924 Q2130.41 30.0415 2133.98 28.0971 Q2137.58 26.1121 2142.56 26.1121 Q2150.83 26.1121 2155.97 32.6746 Q2161.16 39.2371 2161.16 49.9314 Q2161.16 60.6258 2155.97 67.1883 Q2150.83 73.7508 2142.56 73.7508 Q2137.58 73.7508 2133.98 71.8063 Q2130.41 69.8214 2128.06 65.7705 M2153.42 49.9314 Q2153.42 41.7081 2150.02 37.0496 Q2146.65 32.3505 2140.74 32.3505 Q2134.83 32.3505 2131.42 37.0496 Q2128.06 41.7081 2128.06 49.9314 Q2128.06 58.1548 2131.42 62.8538 Q2134.83 67.5124 2140.74 67.5124 Q2146.65 67.5124 2150.02 62.8538 Q2153.42 58.1548 2153.42 49.9314 Z\" fill=\"#000000\" fill-rule=\"evenodd\" fill-opacity=\"1\" /><path clip-path=\"url(#clip270)\" d=\"M2194.13 49.7694 Q2185.1 49.7694 2181.61 51.8354 Q2178.13 53.9013 2178.13 58.8839 Q2178.13 62.8538 2180.72 65.2034 Q2183.36 67.5124 2187.85 67.5124 Q2194.05 67.5124 2197.78 63.1374 Q2201.54 58.7219 2201.54 51.4303 L2201.54 49.7694 L2194.13 49.7694 M2209 46.6907 L2209 72.576 L2201.54 72.576 L2201.54 65.6895 Q2198.99 69.8214 2195.18 71.8063 Q2191.38 73.7508 2185.87 73.7508 Q2178.9 73.7508 2174.77 69.8619 Q2170.68 65.9325 2170.68 59.3701 Q2170.68 51.7138 2175.78 47.825 Q2180.93 43.9361 2191.09 43.9361 L2201.54 43.9361 L2201.54 43.2069 Q2201.54 38.0623 2198.14 35.2672 Q2194.78 32.4315 2188.66 32.4315 Q2184.77 32.4315 2181.09 33.3632 Q2177.4 34.295 2174 36.1584 L2174 29.2718 Q2178.09 27.692 2181.94 26.9223 Q2185.79 26.1121 2189.43 26.1121 Q2199.28 26.1121 2204.14 31.2163 Q2209 36.3204 2209 46.6907 Z\" fill=\"#000000\" fill-rule=\"evenodd\" fill-opacity=\"1\" /><path clip-path=\"url(#clip270)\" d=\"M2224.35 27.2059 L2231.8 27.2059 L2231.8 72.576 L2224.35 72.576 L2224.35 27.2059 M2224.35 9.54393 L2231.8 9.54393 L2231.8 18.9825 L2224.35 18.9825 L2224.35 9.54393 Z\" fill=\"#000000\" fill-rule=\"evenodd\" fill-opacity=\"1\" /><path clip-path=\"url(#clip270)\" d=\"M2273.69 34.1734 Q2272.43 33.4443 2270.94 33.1202 Q2269.48 32.7556 2267.7 32.7556 Q2261.38 32.7556 2257.97 36.8875 Q2254.61 40.9789 2254.61 48.6757 L2254.61 72.576 L2247.12 72.576 L2247.12 27.2059 L2254.61 27.2059 L2254.61 34.2544 Q2256.96 30.1225 2260.73 28.1376 Q2264.5 26.1121 2269.88 26.1121 Q2270.65 26.1121 2271.58 26.2337 Q2272.52 26.3147 2273.65 26.5172 L2273.69 34.1734 Z\" fill=\"#000000\" fill-rule=\"evenodd\" fill-opacity=\"1\" /><path clip-path=\"url(#clip270)\" d=\"M2310.43 28.5427 L2310.43 35.5912 Q2307.27 33.9709 2303.87 33.1607 Q2300.47 32.3505 2296.82 32.3505 Q2291.27 32.3505 2288.48 34.0519 Q2285.72 35.7533 2285.72 39.156 Q2285.72 41.7486 2287.71 43.2475 Q2289.69 44.7058 2295.69 46.0426 L2298.24 46.6097 Q2306.18 48.3111 2309.5 51.4303 Q2312.86 54.509 2312.86 60.0587 Q2312.86 66.3781 2307.84 70.0644 Q2302.86 73.7508 2294.11 73.7508 Q2290.46 73.7508 2286.49 73.0216 Q2282.56 72.3329 2278.19 70.9151 L2278.19 63.2184 Q2282.32 65.3654 2286.33 66.4591 Q2290.34 67.5124 2294.27 67.5124 Q2299.54 67.5124 2302.37 65.73 Q2305.21 63.9071 2305.21 60.6258 Q2305.21 57.5877 2303.14 55.9673 Q2301.12 54.3469 2294.19 52.8481 L2291.6 52.2405 Q2284.67 50.7821 2281.59 47.7845 Q2278.51 44.7463 2278.51 39.4801 Q2278.51 33.0797 2283.05 29.5959 Q2287.59 26.1121 2295.93 26.1121 Q2300.06 26.1121 2303.71 26.7198 Q2307.35 27.3274 2310.43 28.5427 Z\" fill=\"#000000\" fill-rule=\"evenodd\" fill-opacity=\"1\" /><path clip-path=\"url(#clip270)\" d=\"M2323.56 9.62495 L2330.04 9.62495 Q2336.12 19.1851 2339.11 28.3401 Q2342.15 37.4952 2342.15 46.5287 Q2342.15 55.6027 2339.11 64.7983 Q2336.12 73.9938 2330.04 83.5134 L2323.56 83.5134 Q2328.95 74.2369 2331.58 65.0818 Q2334.25 55.8863 2334.25 46.5287 Q2334.25 37.1711 2331.58 28.0566 Q2328.95 18.942 2323.56 9.62495 Z\" fill=\"#000000\" fill-rule=\"evenodd\" fill-opacity=\"1\" /><path clip-path=\"url(#clip272)\" d=\"\nM262.363 1062.13 L262.363 1447.87 L272.725 1447.87 L272.725 1062.13 L262.363 1062.13 L262.363 1062.13  Z\n  \" fill=\"#009af9\" fill-rule=\"evenodd\" fill-opacity=\"0.1\"/>\n<polyline clip-path=\"url(#clip272)\" style=\"stroke:#000000; stroke-linecap:butt; stroke-linejoin:round; stroke-width:4; stroke-opacity:1; fill:none\" points=\"\n  262.363,1062.13 262.363,1447.87 272.725,1447.87 272.725,1062.13 262.363,1062.13 \n  \"/>\n<path clip-path=\"url(#clip272)\" d=\"\nM272.725 869.251 L272.725 1447.87 L283.086 1447.87 L283.086 869.251 L272.725 869.251 L272.725 869.251  Z\n  \" fill=\"#009af9\" fill-rule=\"evenodd\" fill-opacity=\"0.1\"/>\n<polyline clip-path=\"url(#clip272)\" style=\"stroke:#000000; stroke-linecap:butt; stroke-linejoin:round; stroke-width:4; stroke-opacity:1; fill:none\" points=\"\n  272.725,869.251 272.725,1447.87 283.086,1447.87 283.086,869.251 272.725,869.251 \n  \"/>\n<path clip-path=\"url(#clip272)\" d=\"\nM283.086 997.834 L283.086 1447.87 L293.448 1447.87 L293.448 997.834 L283.086 997.834 L283.086 997.834  Z\n  \" fill=\"#009af9\" fill-rule=\"evenodd\" fill-opacity=\"0.1\"/>\n<polyline clip-path=\"url(#clip272)\" style=\"stroke:#000000; stroke-linecap:butt; stroke-linejoin:round; stroke-width:4; stroke-opacity:1; fill:none\" points=\"\n  283.086,997.834 283.086,1447.87 293.448,1447.87 293.448,997.834 283.086,997.834 \n  \"/>\n<path clip-path=\"url(#clip272)\" d=\"\nM293.448 933.543 L293.448 1447.87 L303.81 1447.87 L303.81 933.543 L293.448 933.543 L293.448 933.543  Z\n  \" fill=\"#009af9\" fill-rule=\"evenodd\" fill-opacity=\"0.1\"/>\n<polyline clip-path=\"url(#clip272)\" style=\"stroke:#000000; stroke-linecap:butt; stroke-linejoin:round; stroke-width:4; stroke-opacity:1; fill:none\" points=\"\n  293.448,933.543 293.448,1447.87 303.81,1447.87 303.81,933.543 293.448,933.543 \n  \"/>\n<path clip-path=\"url(#clip272)\" d=\"\nM303.81 1126.42 L303.81 1447.87 L314.171 1447.87 L314.171 1126.42 L303.81 1126.42 L303.81 1126.42  Z\n  \" fill=\"#009af9\" fill-rule=\"evenodd\" fill-opacity=\"0.1\"/>\n<polyline clip-path=\"url(#clip272)\" style=\"stroke:#000000; stroke-linecap:butt; stroke-linejoin:round; stroke-width:4; stroke-opacity:1; fill:none\" points=\"\n  303.81,1126.42 303.81,1447.87 314.171,1447.87 314.171,1126.42 303.81,1126.42 \n  \"/>\n<path clip-path=\"url(#clip272)\" d=\"\nM314.171 997.834 L314.171 1447.87 L324.533 1447.87 L324.533 997.834 L314.171 997.834 L314.171 997.834  Z\n  \" fill=\"#009af9\" fill-rule=\"evenodd\" fill-opacity=\"0.1\"/>\n<polyline clip-path=\"url(#clip272)\" style=\"stroke:#000000; stroke-linecap:butt; stroke-linejoin:round; stroke-width:4; stroke-opacity:1; fill:none\" points=\"\n  314.171,997.834 314.171,1447.87 324.533,1447.87 324.533,997.834 314.171,997.834 \n  \"/>\n<path clip-path=\"url(#clip272)\" d=\"\nM324.533 1126.42 L324.533 1447.87 L334.895 1447.87 L334.895 1126.42 L324.533 1126.42 L324.533 1126.42  Z\n  \" fill=\"#009af9\" fill-rule=\"evenodd\" fill-opacity=\"0.1\"/>\n<polyline clip-path=\"url(#clip272)\" style=\"stroke:#000000; stroke-linecap:butt; stroke-linejoin:round; stroke-width:4; stroke-opacity:1; fill:none\" points=\"\n  324.533,1126.42 324.533,1447.87 334.895,1447.87 334.895,1126.42 324.533,1126.42 \n  \"/>\n<path clip-path=\"url(#clip272)\" d=\"\nM334.895 1126.42 L334.895 1447.87 L345.257 1447.87 L345.257 1126.42 L334.895 1126.42 L334.895 1126.42  Z\n  \" fill=\"#009af9\" fill-rule=\"evenodd\" fill-opacity=\"0.1\"/>\n<polyline clip-path=\"url(#clip272)\" style=\"stroke:#000000; stroke-linecap:butt; stroke-linejoin:round; stroke-width:4; stroke-opacity:1; fill:none\" points=\"\n  334.895,1126.42 334.895,1447.87 345.257,1447.87 345.257,1126.42 334.895,1126.42 \n  \"/>\n<path clip-path=\"url(#clip272)\" d=\"\nM345.257 1190.71 L345.257 1447.87 L355.618 1447.87 L355.618 1190.71 L345.257 1190.71 L345.257 1190.71  Z\n  \" fill=\"#009af9\" fill-rule=\"evenodd\" fill-opacity=\"0.1\"/>\n<polyline clip-path=\"url(#clip272)\" style=\"stroke:#000000; stroke-linecap:butt; stroke-linejoin:round; stroke-width:4; stroke-opacity:1; fill:none\" points=\"\n  345.257,1190.71 345.257,1447.87 355.618,1447.87 355.618,1190.71 345.257,1190.71 \n  \"/>\n<path clip-path=\"url(#clip272)\" d=\"\nM355.618 1126.42 L355.618 1447.87 L365.98 1447.87 L365.98 1126.42 L355.618 1126.42 L355.618 1126.42  Z\n  \" fill=\"#009af9\" fill-rule=\"evenodd\" fill-opacity=\"0.1\"/>\n<polyline clip-path=\"url(#clip272)\" style=\"stroke:#000000; stroke-linecap:butt; stroke-linejoin:round; stroke-width:4; stroke-opacity:1; fill:none\" points=\"\n  355.618,1126.42 355.618,1447.87 365.98,1447.87 365.98,1126.42 355.618,1126.42 \n  \"/>\n<path clip-path=\"url(#clip272)\" d=\"\nM365.98 1319.29 L365.98 1447.87 L376.342 1447.87 L376.342 1319.29 L365.98 1319.29 L365.98 1319.29  Z\n  \" fill=\"#009af9\" fill-rule=\"evenodd\" fill-opacity=\"0.1\"/>\n<polyline clip-path=\"url(#clip272)\" style=\"stroke:#000000; stroke-linecap:butt; stroke-linejoin:round; stroke-width:4; stroke-opacity:1; fill:none\" points=\"\n  365.98,1319.29 365.98,1447.87 376.342,1447.87 376.342,1319.29 365.98,1319.29 \n  \"/>\n<path clip-path=\"url(#clip272)\" d=\"\nM376.342 1255 L376.342 1447.87 L386.703 1447.87 L386.703 1255 L376.342 1255 L376.342 1255  Z\n  \" fill=\"#009af9\" fill-rule=\"evenodd\" fill-opacity=\"0.1\"/>\n<polyline clip-path=\"url(#clip272)\" style=\"stroke:#000000; stroke-linecap:butt; stroke-linejoin:round; stroke-width:4; stroke-opacity:1; fill:none\" points=\"\n  376.342,1255 376.342,1447.87 386.703,1447.87 386.703,1255 376.342,1255 \n  \"/>\n<path clip-path=\"url(#clip272)\" d=\"\nM386.703 1319.29 L386.703 1447.87 L397.065 1447.87 L397.065 1319.29 L386.703 1319.29 L386.703 1319.29  Z\n  \" fill=\"#009af9\" fill-rule=\"evenodd\" fill-opacity=\"0.1\"/>\n<polyline clip-path=\"url(#clip272)\" style=\"stroke:#000000; stroke-linecap:butt; stroke-linejoin:round; stroke-width:4; stroke-opacity:1; fill:none\" points=\"\n  386.703,1319.29 386.703,1447.87 397.065,1447.87 397.065,1319.29 386.703,1319.29 \n  \"/>\n<path clip-path=\"url(#clip272)\" d=\"\nM397.065 1383.58 L397.065 1447.87 L407.427 1447.87 L407.427 1383.58 L397.065 1383.58 L397.065 1383.58  Z\n  \" fill=\"#009af9\" fill-rule=\"evenodd\" fill-opacity=\"0.1\"/>\n<polyline clip-path=\"url(#clip272)\" style=\"stroke:#000000; stroke-linecap:butt; stroke-linejoin:round; stroke-width:4; stroke-opacity:1; fill:none\" points=\"\n  397.065,1383.58 397.065,1447.87 407.427,1447.87 407.427,1383.58 397.065,1383.58 \n  \"/>\n<path clip-path=\"url(#clip272)\" d=\"\nM407.427 1319.29 L407.427 1447.87 L417.789 1447.87 L417.789 1319.29 L407.427 1319.29 L407.427 1319.29  Z\n  \" fill=\"#009af9\" fill-rule=\"evenodd\" fill-opacity=\"0.1\"/>\n<polyline clip-path=\"url(#clip272)\" style=\"stroke:#000000; stroke-linecap:butt; stroke-linejoin:round; stroke-width:4; stroke-opacity:1; fill:none\" points=\"\n  407.427,1319.29 407.427,1447.87 417.789,1447.87 417.789,1319.29 407.427,1319.29 \n  \"/>\n<path clip-path=\"url(#clip272)\" d=\"\nM417.789 1447.87 L417.789 1447.87 L428.15 1447.87 L428.15 1447.87 L417.789 1447.87 L417.789 1447.87  Z\n  \" fill=\"#009af9\" fill-rule=\"evenodd\" fill-opacity=\"0.1\"/>\n<polyline clip-path=\"url(#clip272)\" style=\"stroke:#000000; stroke-linecap:butt; stroke-linejoin:round; stroke-width:4; stroke-opacity:1; fill:none\" points=\"\n  417.789,1447.87 417.789,1447.87 428.15,1447.87 417.789,1447.87 \n  \"/>\n<path clip-path=\"url(#clip272)\" d=\"\nM428.15 1190.71 L428.15 1447.87 L438.512 1447.87 L438.512 1190.71 L428.15 1190.71 L428.15 1190.71  Z\n  \" fill=\"#009af9\" fill-rule=\"evenodd\" fill-opacity=\"0.1\"/>\n<polyline clip-path=\"url(#clip272)\" style=\"stroke:#000000; stroke-linecap:butt; stroke-linejoin:round; stroke-width:4; stroke-opacity:1; fill:none\" points=\"\n  428.15,1190.71 428.15,1447.87 438.512,1447.87 438.512,1190.71 428.15,1190.71 \n  \"/>\n<path clip-path=\"url(#clip272)\" d=\"\nM438.512 1255 L438.512 1447.87 L448.874 1447.87 L448.874 1255 L438.512 1255 L438.512 1255  Z\n  \" fill=\"#009af9\" fill-rule=\"evenodd\" fill-opacity=\"0.1\"/>\n<polyline clip-path=\"url(#clip272)\" style=\"stroke:#000000; stroke-linecap:butt; stroke-linejoin:round; stroke-width:4; stroke-opacity:1; fill:none\" points=\"\n  438.512,1255 438.512,1447.87 448.874,1447.87 448.874,1255 438.512,1255 \n  \"/>\n<path clip-path=\"url(#clip272)\" d=\"\nM448.874 1319.29 L448.874 1447.87 L459.235 1447.87 L459.235 1319.29 L448.874 1319.29 L448.874 1319.29  Z\n  \" fill=\"#009af9\" fill-rule=\"evenodd\" fill-opacity=\"0.1\"/>\n<polyline clip-path=\"url(#clip272)\" style=\"stroke:#000000; stroke-linecap:butt; stroke-linejoin:round; stroke-width:4; stroke-opacity:1; fill:none\" points=\"\n  448.874,1319.29 448.874,1447.87 459.235,1447.87 459.235,1319.29 448.874,1319.29 \n  \"/>\n<path clip-path=\"url(#clip272)\" d=\"\nM459.235 1383.58 L459.235 1447.87 L469.597 1447.87 L469.597 1383.58 L459.235 1383.58 L459.235 1383.58  Z\n  \" fill=\"#009af9\" fill-rule=\"evenodd\" fill-opacity=\"0.1\"/>\n<polyline clip-path=\"url(#clip272)\" style=\"stroke:#000000; stroke-linecap:butt; stroke-linejoin:round; stroke-width:4; stroke-opacity:1; fill:none\" points=\"\n  459.235,1383.58 459.235,1447.87 469.597,1447.87 469.597,1383.58 459.235,1383.58 \n  \"/>\n<path clip-path=\"url(#clip272)\" d=\"\nM469.597 1383.58 L469.597 1447.87 L479.959 1447.87 L479.959 1383.58 L469.597 1383.58 L469.597 1383.58  Z\n  \" fill=\"#009af9\" fill-rule=\"evenodd\" fill-opacity=\"0.1\"/>\n<polyline clip-path=\"url(#clip272)\" style=\"stroke:#000000; stroke-linecap:butt; stroke-linejoin:round; stroke-width:4; stroke-opacity:1; fill:none\" points=\"\n  469.597,1383.58 469.597,1447.87 479.959,1447.87 479.959,1383.58 469.597,1383.58 \n  \"/>\n<path clip-path=\"url(#clip272)\" d=\"\nM479.959 1447.87 L479.959 1447.87 L490.321 1447.87 L490.321 1447.87 L479.959 1447.87 L479.959 1447.87  Z\n  \" fill=\"#009af9\" fill-rule=\"evenodd\" fill-opacity=\"0.1\"/>\n<polyline clip-path=\"url(#clip272)\" style=\"stroke:#000000; stroke-linecap:butt; stroke-linejoin:round; stroke-width:4; stroke-opacity:1; fill:none\" points=\"\n  479.959,1447.87 479.959,1447.87 490.321,1447.87 479.959,1447.87 \n  \"/>\n<path clip-path=\"url(#clip272)\" d=\"\nM490.321 1447.87 L490.321 1447.87 L500.682 1447.87 L500.682 1447.87 L490.321 1447.87 L490.321 1447.87  Z\n  \" fill=\"#009af9\" fill-rule=\"evenodd\" fill-opacity=\"0.1\"/>\n<polyline clip-path=\"url(#clip272)\" style=\"stroke:#000000; stroke-linecap:butt; stroke-linejoin:round; stroke-width:4; stroke-opacity:1; fill:none\" points=\"\n  490.321,1447.87 490.321,1447.87 500.682,1447.87 490.321,1447.87 \n  \"/>\n<path clip-path=\"url(#clip272)\" d=\"\nM500.682 1383.58 L500.682 1447.87 L511.044 1447.87 L511.044 1383.58 L500.682 1383.58 L500.682 1383.58  Z\n  \" fill=\"#009af9\" fill-rule=\"evenodd\" fill-opacity=\"0.1\"/>\n<polyline clip-path=\"url(#clip272)\" style=\"stroke:#000000; stroke-linecap:butt; stroke-linejoin:round; stroke-width:4; stroke-opacity:1; fill:none\" points=\"\n  500.682,1383.58 500.682,1447.87 511.044,1447.87 511.044,1383.58 500.682,1383.58 \n  \"/>\n<path clip-path=\"url(#clip272)\" d=\"\nM511.044 1255 L511.044 1447.87 L521.406 1447.87 L521.406 1255 L511.044 1255 L511.044 1255  Z\n  \" fill=\"#009af9\" fill-rule=\"evenodd\" fill-opacity=\"0.1\"/>\n<polyline clip-path=\"url(#clip272)\" style=\"stroke:#000000; stroke-linecap:butt; stroke-linejoin:round; stroke-width:4; stroke-opacity:1; fill:none\" points=\"\n  511.044,1255 511.044,1447.87 521.406,1447.87 521.406,1255 511.044,1255 \n  \"/>\n<path clip-path=\"url(#clip272)\" d=\"\nM521.406 1447.87 L521.406 1447.87 L531.767 1447.87 L531.767 1447.87 L521.406 1447.87 L521.406 1447.87  Z\n  \" fill=\"#009af9\" fill-rule=\"evenodd\" fill-opacity=\"0.1\"/>\n<polyline clip-path=\"url(#clip272)\" style=\"stroke:#000000; stroke-linecap:butt; stroke-linejoin:round; stroke-width:4; stroke-opacity:1; fill:none\" points=\"\n  521.406,1447.87 521.406,1447.87 531.767,1447.87 521.406,1447.87 \n  \"/>\n<path clip-path=\"url(#clip272)\" d=\"\nM531.767 1447.87 L531.767 1447.87 L542.129 1447.87 L542.129 1447.87 L531.767 1447.87 L531.767 1447.87  Z\n  \" fill=\"#009af9\" fill-rule=\"evenodd\" fill-opacity=\"0.1\"/>\n<polyline clip-path=\"url(#clip272)\" style=\"stroke:#000000; stroke-linecap:butt; stroke-linejoin:round; stroke-width:4; stroke-opacity:1; fill:none\" points=\"\n  531.767,1447.87 531.767,1447.87 542.129,1447.87 531.767,1447.87 \n  \"/>\n<path clip-path=\"url(#clip272)\" d=\"\nM542.129 1447.87 L542.129 1447.87 L552.491 1447.87 L552.491 1447.87 L542.129 1447.87 L542.129 1447.87  Z\n  \" fill=\"#009af9\" fill-rule=\"evenodd\" fill-opacity=\"0.1\"/>\n<polyline clip-path=\"url(#clip272)\" style=\"stroke:#000000; stroke-linecap:butt; stroke-linejoin:round; stroke-width:4; stroke-opacity:1; fill:none\" points=\"\n  542.129,1447.87 542.129,1447.87 552.491,1447.87 542.129,1447.87 \n  \"/>\n<path clip-path=\"url(#clip272)\" d=\"\nM552.491 1383.58 L552.491 1447.87 L562.853 1447.87 L562.853 1383.58 L552.491 1383.58 L552.491 1383.58  Z\n  \" fill=\"#009af9\" fill-rule=\"evenodd\" fill-opacity=\"0.1\"/>\n<polyline clip-path=\"url(#clip272)\" style=\"stroke:#000000; stroke-linecap:butt; stroke-linejoin:round; stroke-width:4; stroke-opacity:1; fill:none\" points=\"\n  552.491,1383.58 552.491,1447.87 562.853,1447.87 562.853,1383.58 552.491,1383.58 \n  \"/>\n<path clip-path=\"url(#clip272)\" d=\"\nM562.853 1383.58 L562.853 1447.87 L573.214 1447.87 L573.214 1383.58 L562.853 1383.58 L562.853 1383.58  Z\n  \" fill=\"#009af9\" fill-rule=\"evenodd\" fill-opacity=\"0.1\"/>\n<polyline clip-path=\"url(#clip272)\" style=\"stroke:#000000; stroke-linecap:butt; stroke-linejoin:round; stroke-width:4; stroke-opacity:1; fill:none\" points=\"\n  562.853,1383.58 562.853,1447.87 573.214,1447.87 573.214,1383.58 562.853,1383.58 \n  \"/>\n<path clip-path=\"url(#clip272)\" d=\"\nM573.214 1447.87 L573.214 1447.87 L583.576 1447.87 L583.576 1447.87 L573.214 1447.87 L573.214 1447.87  Z\n  \" fill=\"#009af9\" fill-rule=\"evenodd\" fill-opacity=\"0.1\"/>\n<polyline clip-path=\"url(#clip272)\" style=\"stroke:#000000; stroke-linecap:butt; stroke-linejoin:round; stroke-width:4; stroke-opacity:1; fill:none\" points=\"\n  573.214,1447.87 573.214,1447.87 583.576,1447.87 573.214,1447.87 \n  \"/>\n<path clip-path=\"url(#clip272)\" d=\"\nM583.576 1383.58 L583.576 1447.87 L593.938 1447.87 L593.938 1383.58 L583.576 1383.58 L583.576 1383.58  Z\n  \" fill=\"#009af9\" fill-rule=\"evenodd\" fill-opacity=\"0.1\"/>\n<polyline clip-path=\"url(#clip272)\" style=\"stroke:#000000; stroke-linecap:butt; stroke-linejoin:round; stroke-width:4; stroke-opacity:1; fill:none\" points=\"\n  583.576,1383.58 583.576,1447.87 593.938,1447.87 593.938,1383.58 583.576,1383.58 \n  \"/>\n<path clip-path=\"url(#clip272)\" d=\"\nM593.938 1383.58 L593.938 1447.87 L604.299 1447.87 L604.299 1383.58 L593.938 1383.58 L593.938 1383.58  Z\n  \" fill=\"#009af9\" fill-rule=\"evenodd\" fill-opacity=\"0.1\"/>\n<polyline clip-path=\"url(#clip272)\" style=\"stroke:#000000; stroke-linecap:butt; stroke-linejoin:round; stroke-width:4; stroke-opacity:1; fill:none\" points=\"\n  593.938,1383.58 593.938,1447.87 604.299,1447.87 604.299,1383.58 593.938,1383.58 \n  \"/>\n<path clip-path=\"url(#clip272)\" d=\"\nM604.299 1383.58 L604.299 1447.87 L614.661 1447.87 L614.661 1383.58 L604.299 1383.58 L604.299 1383.58  Z\n  \" fill=\"#009af9\" fill-rule=\"evenodd\" fill-opacity=\"0.1\"/>\n<polyline clip-path=\"url(#clip272)\" style=\"stroke:#000000; stroke-linecap:butt; stroke-linejoin:round; stroke-width:4; stroke-opacity:1; fill:none\" points=\"\n  604.299,1383.58 604.299,1447.87 614.661,1447.87 614.661,1383.58 604.299,1383.58 \n  \"/>\n<path clip-path=\"url(#clip272)\" d=\"\nM614.661 1383.58 L614.661 1447.87 L625.023 1447.87 L625.023 1383.58 L614.661 1383.58 L614.661 1383.58  Z\n  \" fill=\"#009af9\" fill-rule=\"evenodd\" fill-opacity=\"0.1\"/>\n<polyline clip-path=\"url(#clip272)\" style=\"stroke:#000000; stroke-linecap:butt; stroke-linejoin:round; stroke-width:4; stroke-opacity:1; fill:none\" points=\"\n  614.661,1383.58 614.661,1447.87 625.023,1447.87 625.023,1383.58 614.661,1383.58 \n  \"/>\n<path clip-path=\"url(#clip272)\" d=\"\nM625.023 1447.87 L625.023 1447.87 L635.385 1447.87 L635.385 1447.87 L625.023 1447.87 L625.023 1447.87  Z\n  \" fill=\"#009af9\" fill-rule=\"evenodd\" fill-opacity=\"0.1\"/>\n<polyline clip-path=\"url(#clip272)\" style=\"stroke:#000000; stroke-linecap:butt; stroke-linejoin:round; stroke-width:4; stroke-opacity:1; fill:none\" points=\"\n  625.023,1447.87 625.023,1447.87 635.385,1447.87 625.023,1447.87 \n  \"/>\n<path clip-path=\"url(#clip272)\" d=\"\nM635.385 1447.87 L635.385 1447.87 L645.746 1447.87 L645.746 1447.87 L635.385 1447.87 L635.385 1447.87  Z\n  \" fill=\"#009af9\" fill-rule=\"evenodd\" fill-opacity=\"0.1\"/>\n<polyline clip-path=\"url(#clip272)\" style=\"stroke:#000000; stroke-linecap:butt; stroke-linejoin:round; stroke-width:4; stroke-opacity:1; fill:none\" points=\"\n  635.385,1447.87 635.385,1447.87 645.746,1447.87 635.385,1447.87 \n  \"/>\n<path clip-path=\"url(#clip272)\" d=\"\nM645.746 1447.87 L645.746 1447.87 L656.108 1447.87 L656.108 1447.87 L645.746 1447.87 L645.746 1447.87  Z\n  \" fill=\"#009af9\" fill-rule=\"evenodd\" fill-opacity=\"0.1\"/>\n<polyline clip-path=\"url(#clip272)\" style=\"stroke:#000000; stroke-linecap:butt; stroke-linejoin:round; stroke-width:4; stroke-opacity:1; fill:none\" points=\"\n  645.746,1447.87 645.746,1447.87 656.108,1447.87 645.746,1447.87 \n  \"/>\n<path clip-path=\"url(#clip272)\" d=\"\nM656.108 1447.87 L656.108 1447.87 L666.47 1447.87 L666.47 1447.87 L656.108 1447.87 L656.108 1447.87  Z\n  \" fill=\"#009af9\" fill-rule=\"evenodd\" fill-opacity=\"0.1\"/>\n<polyline clip-path=\"url(#clip272)\" style=\"stroke:#000000; stroke-linecap:butt; stroke-linejoin:round; stroke-width:4; stroke-opacity:1; fill:none\" points=\"\n  656.108,1447.87 656.108,1447.87 666.47,1447.87 656.108,1447.87 \n  \"/>\n<path clip-path=\"url(#clip272)\" d=\"\nM666.47 1447.87 L666.47 1447.87 L676.831 1447.87 L676.831 1447.87 L666.47 1447.87 L666.47 1447.87  Z\n  \" fill=\"#009af9\" fill-rule=\"evenodd\" fill-opacity=\"0.1\"/>\n<polyline clip-path=\"url(#clip272)\" style=\"stroke:#000000; stroke-linecap:butt; stroke-linejoin:round; stroke-width:4; stroke-opacity:1; fill:none\" points=\"\n  666.47,1447.87 666.47,1447.87 676.831,1447.87 666.47,1447.87 \n  \"/>\n<path clip-path=\"url(#clip272)\" d=\"\nM676.831 1447.87 L676.831 1447.87 L687.193 1447.87 L687.193 1447.87 L676.831 1447.87 L676.831 1447.87  Z\n  \" fill=\"#009af9\" fill-rule=\"evenodd\" fill-opacity=\"0.1\"/>\n<polyline clip-path=\"url(#clip272)\" style=\"stroke:#000000; stroke-linecap:butt; stroke-linejoin:round; stroke-width:4; stroke-opacity:1; fill:none\" points=\"\n  676.831,1447.87 676.831,1447.87 687.193,1447.87 676.831,1447.87 \n  \"/>\n<path clip-path=\"url(#clip272)\" d=\"\nM687.193 1447.87 L687.193 1447.87 L697.555 1447.87 L697.555 1447.87 L687.193 1447.87 L687.193 1447.87  Z\n  \" fill=\"#009af9\" fill-rule=\"evenodd\" fill-opacity=\"0.1\"/>\n<polyline clip-path=\"url(#clip272)\" style=\"stroke:#000000; stroke-linecap:butt; stroke-linejoin:round; stroke-width:4; stroke-opacity:1; fill:none\" points=\"\n  687.193,1447.87 687.193,1447.87 697.555,1447.87 687.193,1447.87 \n  \"/>\n<path clip-path=\"url(#clip272)\" d=\"\nM697.555 1383.58 L697.555 1447.87 L707.917 1447.87 L707.917 1383.58 L697.555 1383.58 L697.555 1383.58  Z\n  \" fill=\"#009af9\" fill-rule=\"evenodd\" fill-opacity=\"0.1\"/>\n<polyline clip-path=\"url(#clip272)\" style=\"stroke:#000000; stroke-linecap:butt; stroke-linejoin:round; stroke-width:4; stroke-opacity:1; fill:none\" points=\"\n  697.555,1383.58 697.555,1447.87 707.917,1447.87 707.917,1383.58 697.555,1383.58 \n  \"/>\n<path clip-path=\"url(#clip272)\" d=\"\nM707.917 1447.87 L707.917 1447.87 L718.278 1447.87 L718.278 1447.87 L707.917 1447.87 L707.917 1447.87  Z\n  \" fill=\"#009af9\" fill-rule=\"evenodd\" fill-opacity=\"0.1\"/>\n<polyline clip-path=\"url(#clip272)\" style=\"stroke:#000000; stroke-linecap:butt; stroke-linejoin:round; stroke-width:4; stroke-opacity:1; fill:none\" points=\"\n  707.917,1447.87 707.917,1447.87 718.278,1447.87 707.917,1447.87 \n  \"/>\n<path clip-path=\"url(#clip272)\" d=\"\nM718.278 1447.87 L718.278 1447.87 L728.64 1447.87 L728.64 1447.87 L718.278 1447.87 L718.278 1447.87  Z\n  \" fill=\"#009af9\" fill-rule=\"evenodd\" fill-opacity=\"0.1\"/>\n<polyline clip-path=\"url(#clip272)\" style=\"stroke:#000000; stroke-linecap:butt; stroke-linejoin:round; stroke-width:4; stroke-opacity:1; fill:none\" points=\"\n  718.278,1447.87 718.278,1447.87 728.64,1447.87 718.278,1447.87 \n  \"/>\n<path clip-path=\"url(#clip272)\" d=\"\nM728.64 1447.87 L728.64 1447.87 L739.002 1447.87 L739.002 1447.87 L728.64 1447.87 L728.64 1447.87  Z\n  \" fill=\"#009af9\" fill-rule=\"evenodd\" fill-opacity=\"0.1\"/>\n<polyline clip-path=\"url(#clip272)\" style=\"stroke:#000000; stroke-linecap:butt; stroke-linejoin:round; stroke-width:4; stroke-opacity:1; fill:none\" points=\"\n  728.64,1447.87 728.64,1447.87 739.002,1447.87 728.64,1447.87 \n  \"/>\n<path clip-path=\"url(#clip272)\" d=\"\nM739.002 1383.58 L739.002 1447.87 L749.363 1447.87 L749.363 1383.58 L739.002 1383.58 L739.002 1383.58  Z\n  \" fill=\"#009af9\" fill-rule=\"evenodd\" fill-opacity=\"0.1\"/>\n<polyline clip-path=\"url(#clip272)\" style=\"stroke:#000000; stroke-linecap:butt; stroke-linejoin:round; stroke-width:4; stroke-opacity:1; fill:none\" points=\"\n  739.002,1383.58 739.002,1447.87 749.363,1447.87 749.363,1383.58 739.002,1383.58 \n  \"/>\n<path clip-path=\"url(#clip272)\" d=\"\nM749.363 1447.87 L749.363 1447.87 L759.725 1447.87 L759.725 1447.87 L749.363 1447.87 L749.363 1447.87  Z\n  \" fill=\"#009af9\" fill-rule=\"evenodd\" fill-opacity=\"0.1\"/>\n<polyline clip-path=\"url(#clip272)\" style=\"stroke:#000000; stroke-linecap:butt; stroke-linejoin:round; stroke-width:4; stroke-opacity:1; fill:none\" points=\"\n  749.363,1447.87 749.363,1447.87 759.725,1447.87 749.363,1447.87 \n  \"/>\n<path clip-path=\"url(#clip272)\" d=\"\nM759.725 1447.87 L759.725 1447.87 L770.087 1447.87 L770.087 1447.87 L759.725 1447.87 L759.725 1447.87  Z\n  \" fill=\"#009af9\" fill-rule=\"evenodd\" fill-opacity=\"0.1\"/>\n<polyline clip-path=\"url(#clip272)\" style=\"stroke:#000000; stroke-linecap:butt; stroke-linejoin:round; stroke-width:4; stroke-opacity:1; fill:none\" points=\"\n  759.725,1447.87 759.725,1447.87 770.087,1447.87 759.725,1447.87 \n  \"/>\n<path clip-path=\"url(#clip272)\" d=\"\nM770.087 1447.87 L770.087 1447.87 L780.449 1447.87 L780.449 1447.87 L770.087 1447.87 L770.087 1447.87  Z\n  \" fill=\"#009af9\" fill-rule=\"evenodd\" fill-opacity=\"0.1\"/>\n<polyline clip-path=\"url(#clip272)\" style=\"stroke:#000000; stroke-linecap:butt; stroke-linejoin:round; stroke-width:4; stroke-opacity:1; fill:none\" points=\"\n  770.087,1447.87 770.087,1447.87 780.449,1447.87 770.087,1447.87 \n  \"/>\n<path clip-path=\"url(#clip272)\" d=\"\nM780.449 1447.87 L780.449 1447.87 L790.81 1447.87 L790.81 1447.87 L780.449 1447.87 L780.449 1447.87  Z\n  \" fill=\"#009af9\" fill-rule=\"evenodd\" fill-opacity=\"0.1\"/>\n<polyline clip-path=\"url(#clip272)\" style=\"stroke:#000000; stroke-linecap:butt; stroke-linejoin:round; stroke-width:4; stroke-opacity:1; fill:none\" points=\"\n  780.449,1447.87 780.449,1447.87 790.81,1447.87 780.449,1447.87 \n  \"/>\n<path clip-path=\"url(#clip272)\" d=\"\nM790.81 1447.87 L790.81 1447.87 L801.172 1447.87 L801.172 1447.87 L790.81 1447.87 L790.81 1447.87  Z\n  \" fill=\"#009af9\" fill-rule=\"evenodd\" fill-opacity=\"0.1\"/>\n<polyline clip-path=\"url(#clip272)\" style=\"stroke:#000000; stroke-linecap:butt; stroke-linejoin:round; stroke-width:4; stroke-opacity:1; fill:none\" points=\"\n  790.81,1447.87 790.81,1447.87 801.172,1447.87 790.81,1447.87 \n  \"/>\n<path clip-path=\"url(#clip272)\" d=\"\nM801.172 1447.87 L801.172 1447.87 L811.534 1447.87 L811.534 1447.87 L801.172 1447.87 L801.172 1447.87  Z\n  \" fill=\"#009af9\" fill-rule=\"evenodd\" fill-opacity=\"0.1\"/>\n<polyline clip-path=\"url(#clip272)\" style=\"stroke:#000000; stroke-linecap:butt; stroke-linejoin:round; stroke-width:4; stroke-opacity:1; fill:none\" points=\"\n  801.172,1447.87 801.172,1447.87 811.534,1447.87 801.172,1447.87 \n  \"/>\n<path clip-path=\"url(#clip272)\" d=\"\nM811.534 1447.87 L811.534 1447.87 L821.895 1447.87 L821.895 1447.87 L811.534 1447.87 L811.534 1447.87  Z\n  \" fill=\"#009af9\" fill-rule=\"evenodd\" fill-opacity=\"0.1\"/>\n<polyline clip-path=\"url(#clip272)\" style=\"stroke:#000000; stroke-linecap:butt; stroke-linejoin:round; stroke-width:4; stroke-opacity:1; fill:none\" points=\"\n  811.534,1447.87 811.534,1447.87 821.895,1447.87 811.534,1447.87 \n  \"/>\n<path clip-path=\"url(#clip272)\" d=\"\nM821.895 1447.87 L821.895 1447.87 L832.257 1447.87 L832.257 1447.87 L821.895 1447.87 L821.895 1447.87  Z\n  \" fill=\"#009af9\" fill-rule=\"evenodd\" fill-opacity=\"0.1\"/>\n<polyline clip-path=\"url(#clip272)\" style=\"stroke:#000000; stroke-linecap:butt; stroke-linejoin:round; stroke-width:4; stroke-opacity:1; fill:none\" points=\"\n  821.895,1447.87 821.895,1447.87 832.257,1447.87 821.895,1447.87 \n  \"/>\n<path clip-path=\"url(#clip272)\" d=\"\nM832.257 1447.87 L832.257 1447.87 L842.619 1447.87 L842.619 1447.87 L832.257 1447.87 L832.257 1447.87  Z\n  \" fill=\"#009af9\" fill-rule=\"evenodd\" fill-opacity=\"0.1\"/>\n<polyline clip-path=\"url(#clip272)\" style=\"stroke:#000000; stroke-linecap:butt; stroke-linejoin:round; stroke-width:4; stroke-opacity:1; fill:none\" points=\"\n  832.257,1447.87 832.257,1447.87 842.619,1447.87 832.257,1447.87 \n  \"/>\n<path clip-path=\"url(#clip272)\" d=\"\nM842.619 1447.87 L842.619 1447.87 L852.981 1447.87 L852.981 1447.87 L842.619 1447.87 L842.619 1447.87  Z\n  \" fill=\"#009af9\" fill-rule=\"evenodd\" fill-opacity=\"0.1\"/>\n<polyline clip-path=\"url(#clip272)\" style=\"stroke:#000000; stroke-linecap:butt; stroke-linejoin:round; stroke-width:4; stroke-opacity:1; fill:none\" points=\"\n  842.619,1447.87 842.619,1447.87 852.981,1447.87 842.619,1447.87 \n  \"/>\n<path clip-path=\"url(#clip272)\" d=\"\nM852.981 1447.87 L852.981 1447.87 L863.342 1447.87 L863.342 1447.87 L852.981 1447.87 L852.981 1447.87  Z\n  \" fill=\"#009af9\" fill-rule=\"evenodd\" fill-opacity=\"0.1\"/>\n<polyline clip-path=\"url(#clip272)\" style=\"stroke:#000000; stroke-linecap:butt; stroke-linejoin:round; stroke-width:4; stroke-opacity:1; fill:none\" points=\"\n  852.981,1447.87 852.981,1447.87 863.342,1447.87 852.981,1447.87 \n  \"/>\n<path clip-path=\"url(#clip272)\" d=\"\nM863.342 1383.58 L863.342 1447.87 L873.704 1447.87 L873.704 1383.58 L863.342 1383.58 L863.342 1383.58  Z\n  \" fill=\"#009af9\" fill-rule=\"evenodd\" fill-opacity=\"0.1\"/>\n<polyline clip-path=\"url(#clip272)\" style=\"stroke:#000000; stroke-linecap:butt; stroke-linejoin:round; stroke-width:4; stroke-opacity:1; fill:none\" points=\"\n  863.342,1383.58 863.342,1447.87 873.704,1447.87 873.704,1383.58 863.342,1383.58 \n  \"/>\n<path clip-path=\"url(#clip272)\" d=\"\nM873.704 1447.87 L873.704 1447.87 L884.066 1447.87 L884.066 1447.87 L873.704 1447.87 L873.704 1447.87  Z\n  \" fill=\"#009af9\" fill-rule=\"evenodd\" fill-opacity=\"0.1\"/>\n<polyline clip-path=\"url(#clip272)\" style=\"stroke:#000000; stroke-linecap:butt; stroke-linejoin:round; stroke-width:4; stroke-opacity:1; fill:none\" points=\"\n  873.704,1447.87 873.704,1447.87 884.066,1447.87 873.704,1447.87 \n  \"/>\n<path clip-path=\"url(#clip272)\" d=\"\nM884.066 1447.87 L884.066 1447.87 L894.427 1447.87 L894.427 1447.87 L884.066 1447.87 L884.066 1447.87  Z\n  \" fill=\"#009af9\" fill-rule=\"evenodd\" fill-opacity=\"0.1\"/>\n<polyline clip-path=\"url(#clip272)\" style=\"stroke:#000000; stroke-linecap:butt; stroke-linejoin:round; stroke-width:4; stroke-opacity:1; fill:none\" points=\"\n  884.066,1447.87 884.066,1447.87 894.427,1447.87 884.066,1447.87 \n  \"/>\n<path clip-path=\"url(#clip272)\" d=\"\nM894.427 1447.87 L894.427 1447.87 L904.789 1447.87 L904.789 1447.87 L894.427 1447.87 L894.427 1447.87  Z\n  \" fill=\"#009af9\" fill-rule=\"evenodd\" fill-opacity=\"0.1\"/>\n<polyline clip-path=\"url(#clip272)\" style=\"stroke:#000000; stroke-linecap:butt; stroke-linejoin:round; stroke-width:4; stroke-opacity:1; fill:none\" points=\"\n  894.427,1447.87 894.427,1447.87 904.789,1447.87 894.427,1447.87 \n  \"/>\n<path clip-path=\"url(#clip272)\" d=\"\nM904.789 1447.87 L904.789 1447.87 L915.151 1447.87 L915.151 1447.87 L904.789 1447.87 L904.789 1447.87  Z\n  \" fill=\"#009af9\" fill-rule=\"evenodd\" fill-opacity=\"0.1\"/>\n<polyline clip-path=\"url(#clip272)\" style=\"stroke:#000000; stroke-linecap:butt; stroke-linejoin:round; stroke-width:4; stroke-opacity:1; fill:none\" points=\"\n  904.789,1447.87 904.789,1447.87 915.151,1447.87 904.789,1447.87 \n  \"/>\n<path clip-path=\"url(#clip272)\" d=\"\nM915.151 1447.87 L915.151 1447.87 L925.513 1447.87 L925.513 1447.87 L915.151 1447.87 L915.151 1447.87  Z\n  \" fill=\"#009af9\" fill-rule=\"evenodd\" fill-opacity=\"0.1\"/>\n<polyline clip-path=\"url(#clip272)\" style=\"stroke:#000000; stroke-linecap:butt; stroke-linejoin:round; stroke-width:4; stroke-opacity:1; fill:none\" points=\"\n  915.151,1447.87 915.151,1447.87 925.513,1447.87 915.151,1447.87 \n  \"/>\n<path clip-path=\"url(#clip272)\" d=\"\nM925.513 1447.87 L925.513 1447.87 L935.874 1447.87 L935.874 1447.87 L925.513 1447.87 L925.513 1447.87  Z\n  \" fill=\"#009af9\" fill-rule=\"evenodd\" fill-opacity=\"0.1\"/>\n<polyline clip-path=\"url(#clip272)\" style=\"stroke:#000000; stroke-linecap:butt; stroke-linejoin:round; stroke-width:4; stroke-opacity:1; fill:none\" points=\"\n  925.513,1447.87 925.513,1447.87 935.874,1447.87 925.513,1447.87 \n  \"/>\n<path clip-path=\"url(#clip272)\" d=\"\nM935.874 1447.87 L935.874 1447.87 L946.236 1447.87 L946.236 1447.87 L935.874 1447.87 L935.874 1447.87  Z\n  \" fill=\"#009af9\" fill-rule=\"evenodd\" fill-opacity=\"0.1\"/>\n<polyline clip-path=\"url(#clip272)\" style=\"stroke:#000000; stroke-linecap:butt; stroke-linejoin:round; stroke-width:4; stroke-opacity:1; fill:none\" points=\"\n  935.874,1447.87 935.874,1447.87 946.236,1447.87 935.874,1447.87 \n  \"/>\n<path clip-path=\"url(#clip272)\" d=\"\nM946.236 1447.87 L946.236 1447.87 L956.598 1447.87 L956.598 1447.87 L946.236 1447.87 L946.236 1447.87  Z\n  \" fill=\"#009af9\" fill-rule=\"evenodd\" fill-opacity=\"0.1\"/>\n<polyline clip-path=\"url(#clip272)\" style=\"stroke:#000000; stroke-linecap:butt; stroke-linejoin:round; stroke-width:4; stroke-opacity:1; fill:none\" points=\"\n  946.236,1447.87 946.236,1447.87 956.598,1447.87 946.236,1447.87 \n  \"/>\n<path clip-path=\"url(#clip272)\" d=\"\nM956.598 1447.87 L956.598 1447.87 L966.959 1447.87 L966.959 1447.87 L956.598 1447.87 L956.598 1447.87  Z\n  \" fill=\"#009af9\" fill-rule=\"evenodd\" fill-opacity=\"0.1\"/>\n<polyline clip-path=\"url(#clip272)\" style=\"stroke:#000000; stroke-linecap:butt; stroke-linejoin:round; stroke-width:4; stroke-opacity:1; fill:none\" points=\"\n  956.598,1447.87 956.598,1447.87 966.959,1447.87 956.598,1447.87 \n  \"/>\n<path clip-path=\"url(#clip272)\" d=\"\nM966.959 1447.87 L966.959 1447.87 L977.321 1447.87 L977.321 1447.87 L966.959 1447.87 L966.959 1447.87  Z\n  \" fill=\"#009af9\" fill-rule=\"evenodd\" fill-opacity=\"0.1\"/>\n<polyline clip-path=\"url(#clip272)\" style=\"stroke:#000000; stroke-linecap:butt; stroke-linejoin:round; stroke-width:4; stroke-opacity:1; fill:none\" points=\"\n  966.959,1447.87 966.959,1447.87 977.321,1447.87 966.959,1447.87 \n  \"/>\n<path clip-path=\"url(#clip272)\" d=\"\nM977.321 1383.58 L977.321 1447.87 L987.683 1447.87 L987.683 1383.58 L977.321 1383.58 L977.321 1383.58  Z\n  \" fill=\"#009af9\" fill-rule=\"evenodd\" fill-opacity=\"0.1\"/>\n<polyline clip-path=\"url(#clip272)\" style=\"stroke:#000000; stroke-linecap:butt; stroke-linejoin:round; stroke-width:4; stroke-opacity:1; fill:none\" points=\"\n  977.321,1383.58 977.321,1447.87 987.683,1447.87 987.683,1383.58 977.321,1383.58 \n  \"/>\n<path clip-path=\"url(#clip272)\" d=\"\nM987.683 1447.87 L987.683 1447.87 L998.045 1447.87 L998.045 1447.87 L987.683 1447.87 L987.683 1447.87  Z\n  \" fill=\"#009af9\" fill-rule=\"evenodd\" fill-opacity=\"0.1\"/>\n<polyline clip-path=\"url(#clip272)\" style=\"stroke:#000000; stroke-linecap:butt; stroke-linejoin:round; stroke-width:4; stroke-opacity:1; fill:none\" points=\"\n  987.683,1447.87 987.683,1447.87 998.045,1447.87 987.683,1447.87 \n  \"/>\n<path clip-path=\"url(#clip272)\" d=\"\nM998.045 1447.87 L998.045 1447.87 L1008.41 1447.87 L1008.41 1447.87 L998.045 1447.87 L998.045 1447.87  Z\n  \" fill=\"#009af9\" fill-rule=\"evenodd\" fill-opacity=\"0.1\"/>\n<polyline clip-path=\"url(#clip272)\" style=\"stroke:#000000; stroke-linecap:butt; stroke-linejoin:round; stroke-width:4; stroke-opacity:1; fill:none\" points=\"\n  998.045,1447.87 998.045,1447.87 1008.41,1447.87 998.045,1447.87 \n  \"/>\n<path clip-path=\"url(#clip272)\" d=\"\nM1008.41 1447.87 L1008.41 1447.87 L1018.77 1447.87 L1018.77 1447.87 L1008.41 1447.87 L1008.41 1447.87  Z\n  \" fill=\"#009af9\" fill-rule=\"evenodd\" fill-opacity=\"0.1\"/>\n<polyline clip-path=\"url(#clip272)\" style=\"stroke:#000000; stroke-linecap:butt; stroke-linejoin:round; stroke-width:4; stroke-opacity:1; fill:none\" points=\"\n  1008.41,1447.87 1008.41,1447.87 1018.77,1447.87 1008.41,1447.87 \n  \"/>\n<path clip-path=\"url(#clip272)\" d=\"\nM1018.77 1447.87 L1018.77 1447.87 L1029.13 1447.87 L1029.13 1447.87 L1018.77 1447.87 L1018.77 1447.87  Z\n  \" fill=\"#009af9\" fill-rule=\"evenodd\" fill-opacity=\"0.1\"/>\n<polyline clip-path=\"url(#clip272)\" style=\"stroke:#000000; stroke-linecap:butt; stroke-linejoin:round; stroke-width:4; stroke-opacity:1; fill:none\" points=\"\n  1018.77,1447.87 1018.77,1447.87 1029.13,1447.87 1018.77,1447.87 \n  \"/>\n<path clip-path=\"url(#clip272)\" d=\"\nM1029.13 1447.87 L1029.13 1447.87 L1039.49 1447.87 L1039.49 1447.87 L1029.13 1447.87 L1029.13 1447.87  Z\n  \" fill=\"#009af9\" fill-rule=\"evenodd\" fill-opacity=\"0.1\"/>\n<polyline clip-path=\"url(#clip272)\" style=\"stroke:#000000; stroke-linecap:butt; stroke-linejoin:round; stroke-width:4; stroke-opacity:1; fill:none\" points=\"\n  1029.13,1447.87 1029.13,1447.87 1039.49,1447.87 1029.13,1447.87 \n  \"/>\n<path clip-path=\"url(#clip272)\" d=\"\nM1039.49 1319.29 L1039.49 1447.87 L1049.85 1447.87 L1049.85 1319.29 L1039.49 1319.29 L1039.49 1319.29  Z\n  \" fill=\"#009af9\" fill-rule=\"evenodd\" fill-opacity=\"0.1\"/>\n<polyline clip-path=\"url(#clip272)\" style=\"stroke:#000000; stroke-linecap:butt; stroke-linejoin:round; stroke-width:4; stroke-opacity:1; fill:none\" points=\"\n  1039.49,1319.29 1039.49,1447.87 1049.85,1447.87 1049.85,1319.29 1039.49,1319.29 \n  \"/>\n<path clip-path=\"url(#clip272)\" d=\"\nM1049.85 1447.87 L1049.85 1447.87 L1060.21 1447.87 L1060.21 1447.87 L1049.85 1447.87 L1049.85 1447.87  Z\n  \" fill=\"#009af9\" fill-rule=\"evenodd\" fill-opacity=\"0.1\"/>\n<polyline clip-path=\"url(#clip272)\" style=\"stroke:#000000; stroke-linecap:butt; stroke-linejoin:round; stroke-width:4; stroke-opacity:1; fill:none\" points=\"\n  1049.85,1447.87 1049.85,1447.87 1060.21,1447.87 1049.85,1447.87 \n  \"/>\n<path clip-path=\"url(#clip272)\" d=\"\nM1060.21 1447.87 L1060.21 1447.87 L1070.58 1447.87 L1070.58 1447.87 L1060.21 1447.87 L1060.21 1447.87  Z\n  \" fill=\"#009af9\" fill-rule=\"evenodd\" fill-opacity=\"0.1\"/>\n<polyline clip-path=\"url(#clip272)\" style=\"stroke:#000000; stroke-linecap:butt; stroke-linejoin:round; stroke-width:4; stroke-opacity:1; fill:none\" points=\"\n  1060.21,1447.87 1060.21,1447.87 1070.58,1447.87 1060.21,1447.87 \n  \"/>\n<path clip-path=\"url(#clip272)\" d=\"\nM1070.58 1447.87 L1070.58 1447.87 L1080.94 1447.87 L1080.94 1447.87 L1070.58 1447.87 L1070.58 1447.87  Z\n  \" fill=\"#009af9\" fill-rule=\"evenodd\" fill-opacity=\"0.1\"/>\n<polyline clip-path=\"url(#clip272)\" style=\"stroke:#000000; stroke-linecap:butt; stroke-linejoin:round; stroke-width:4; stroke-opacity:1; fill:none\" points=\"\n  1070.58,1447.87 1070.58,1447.87 1080.94,1447.87 1070.58,1447.87 \n  \"/>\n<path clip-path=\"url(#clip272)\" d=\"\nM1080.94 1447.87 L1080.94 1447.87 L1091.3 1447.87 L1091.3 1447.87 L1080.94 1447.87 L1080.94 1447.87  Z\n  \" fill=\"#009af9\" fill-rule=\"evenodd\" fill-opacity=\"0.1\"/>\n<polyline clip-path=\"url(#clip272)\" style=\"stroke:#000000; stroke-linecap:butt; stroke-linejoin:round; stroke-width:4; stroke-opacity:1; fill:none\" points=\"\n  1080.94,1447.87 1080.94,1447.87 1091.3,1447.87 1080.94,1447.87 \n  \"/>\n<path clip-path=\"url(#clip272)\" d=\"\nM1091.3 1447.87 L1091.3 1447.87 L1101.66 1447.87 L1101.66 1447.87 L1091.3 1447.87 L1091.3 1447.87  Z\n  \" fill=\"#009af9\" fill-rule=\"evenodd\" fill-opacity=\"0.1\"/>\n<polyline clip-path=\"url(#clip272)\" style=\"stroke:#000000; stroke-linecap:butt; stroke-linejoin:round; stroke-width:4; stroke-opacity:1; fill:none\" points=\"\n  1091.3,1447.87 1091.3,1447.87 1101.66,1447.87 1091.3,1447.87 \n  \"/>\n<path clip-path=\"url(#clip272)\" d=\"\nM1101.66 1447.87 L1101.66 1447.87 L1112.02 1447.87 L1112.02 1447.87 L1101.66 1447.87 L1101.66 1447.87  Z\n  \" fill=\"#009af9\" fill-rule=\"evenodd\" fill-opacity=\"0.1\"/>\n<polyline clip-path=\"url(#clip272)\" style=\"stroke:#000000; stroke-linecap:butt; stroke-linejoin:round; stroke-width:4; stroke-opacity:1; fill:none\" points=\"\n  1101.66,1447.87 1101.66,1447.87 1112.02,1447.87 1101.66,1447.87 \n  \"/>\n<path clip-path=\"url(#clip272)\" d=\"\nM1112.02 1447.87 L1112.02 1447.87 L1122.39 1447.87 L1122.39 1447.87 L1112.02 1447.87 L1112.02 1447.87  Z\n  \" fill=\"#009af9\" fill-rule=\"evenodd\" fill-opacity=\"0.1\"/>\n<polyline clip-path=\"url(#clip272)\" style=\"stroke:#000000; stroke-linecap:butt; stroke-linejoin:round; stroke-width:4; stroke-opacity:1; fill:none\" points=\"\n  1112.02,1447.87 1112.02,1447.87 1122.39,1447.87 1112.02,1447.87 \n  \"/>\n<path clip-path=\"url(#clip272)\" d=\"\nM1122.39 1447.87 L1122.39 1447.87 L1132.75 1447.87 L1132.75 1447.87 L1122.39 1447.87 L1122.39 1447.87  Z\n  \" fill=\"#009af9\" fill-rule=\"evenodd\" fill-opacity=\"0.1\"/>\n<polyline clip-path=\"url(#clip272)\" style=\"stroke:#000000; stroke-linecap:butt; stroke-linejoin:round; stroke-width:4; stroke-opacity:1; fill:none\" points=\"\n  1122.39,1447.87 1122.39,1447.87 1132.75,1447.87 1122.39,1447.87 \n  \"/>\n<path clip-path=\"url(#clip272)\" d=\"\nM1132.75 1447.87 L1132.75 1447.87 L1143.11 1447.87 L1143.11 1447.87 L1132.75 1447.87 L1132.75 1447.87  Z\n  \" fill=\"#009af9\" fill-rule=\"evenodd\" fill-opacity=\"0.1\"/>\n<polyline clip-path=\"url(#clip272)\" style=\"stroke:#000000; stroke-linecap:butt; stroke-linejoin:round; stroke-width:4; stroke-opacity:1; fill:none\" points=\"\n  1132.75,1447.87 1132.75,1447.87 1143.11,1447.87 1132.75,1447.87 \n  \"/>\n<path clip-path=\"url(#clip272)\" d=\"\nM1143.11 1447.87 L1143.11 1447.87 L1153.47 1447.87 L1153.47 1447.87 L1143.11 1447.87 L1143.11 1447.87  Z\n  \" fill=\"#009af9\" fill-rule=\"evenodd\" fill-opacity=\"0.1\"/>\n<polyline clip-path=\"url(#clip272)\" style=\"stroke:#000000; stroke-linecap:butt; stroke-linejoin:round; stroke-width:4; stroke-opacity:1; fill:none\" points=\"\n  1143.11,1447.87 1143.11,1447.87 1153.47,1447.87 1143.11,1447.87 \n  \"/>\n<path clip-path=\"url(#clip272)\" d=\"\nM1153.47 1447.87 L1153.47 1447.87 L1163.83 1447.87 L1163.83 1447.87 L1153.47 1447.87 L1153.47 1447.87  Z\n  \" fill=\"#009af9\" fill-rule=\"evenodd\" fill-opacity=\"0.1\"/>\n<polyline clip-path=\"url(#clip272)\" style=\"stroke:#000000; stroke-linecap:butt; stroke-linejoin:round; stroke-width:4; stroke-opacity:1; fill:none\" points=\"\n  1153.47,1447.87 1153.47,1447.87 1163.83,1447.87 1153.47,1447.87 \n  \"/>\n<path clip-path=\"url(#clip272)\" d=\"\nM1163.83 1447.87 L1163.83 1447.87 L1174.19 1447.87 L1174.19 1447.87 L1163.83 1447.87 L1163.83 1447.87  Z\n  \" fill=\"#009af9\" fill-rule=\"evenodd\" fill-opacity=\"0.1\"/>\n<polyline clip-path=\"url(#clip272)\" style=\"stroke:#000000; stroke-linecap:butt; stroke-linejoin:round; stroke-width:4; stroke-opacity:1; fill:none\" points=\"\n  1163.83,1447.87 1163.83,1447.87 1174.19,1447.87 1163.83,1447.87 \n  \"/>\n<path clip-path=\"url(#clip272)\" d=\"\nM1174.19 1447.87 L1174.19 1447.87 L1184.56 1447.87 L1184.56 1447.87 L1174.19 1447.87 L1174.19 1447.87  Z\n  \" fill=\"#009af9\" fill-rule=\"evenodd\" fill-opacity=\"0.1\"/>\n<polyline clip-path=\"url(#clip272)\" style=\"stroke:#000000; stroke-linecap:butt; stroke-linejoin:round; stroke-width:4; stroke-opacity:1; fill:none\" points=\"\n  1174.19,1447.87 1174.19,1447.87 1184.56,1447.87 1174.19,1447.87 \n  \"/>\n<path clip-path=\"url(#clip272)\" d=\"\nM1184.56 1447.87 L1184.56 1447.87 L1194.92 1447.87 L1194.92 1447.87 L1184.56 1447.87 L1184.56 1447.87  Z\n  \" fill=\"#009af9\" fill-rule=\"evenodd\" fill-opacity=\"0.1\"/>\n<polyline clip-path=\"url(#clip272)\" style=\"stroke:#000000; stroke-linecap:butt; stroke-linejoin:round; stroke-width:4; stroke-opacity:1; fill:none\" points=\"\n  1184.56,1447.87 1184.56,1447.87 1194.92,1447.87 1184.56,1447.87 \n  \"/>\n<path clip-path=\"url(#clip272)\" d=\"\nM1194.92 1447.87 L1194.92 1447.87 L1205.28 1447.87 L1205.28 1447.87 L1194.92 1447.87 L1194.92 1447.87  Z\n  \" fill=\"#009af9\" fill-rule=\"evenodd\" fill-opacity=\"0.1\"/>\n<polyline clip-path=\"url(#clip272)\" style=\"stroke:#000000; stroke-linecap:butt; stroke-linejoin:round; stroke-width:4; stroke-opacity:1; fill:none\" points=\"\n  1194.92,1447.87 1194.92,1447.87 1205.28,1447.87 1194.92,1447.87 \n  \"/>\n<path clip-path=\"url(#clip272)\" d=\"\nM1205.28 1383.58 L1205.28 1447.87 L1215.64 1447.87 L1215.64 1383.58 L1205.28 1383.58 L1205.28 1383.58  Z\n  \" fill=\"#009af9\" fill-rule=\"evenodd\" fill-opacity=\"0.1\"/>\n<polyline clip-path=\"url(#clip272)\" style=\"stroke:#000000; stroke-linecap:butt; stroke-linejoin:round; stroke-width:4; stroke-opacity:1; fill:none\" points=\"\n  1205.28,1383.58 1205.28,1447.87 1215.64,1447.87 1215.64,1383.58 1205.28,1383.58 \n  \"/>\n<path clip-path=\"url(#clip272)\" d=\"\nM1215.64 1447.87 L1215.64 1447.87 L1226 1447.87 L1226 1447.87 L1215.64 1447.87 L1215.64 1447.87  Z\n  \" fill=\"#009af9\" fill-rule=\"evenodd\" fill-opacity=\"0.1\"/>\n<polyline clip-path=\"url(#clip272)\" style=\"stroke:#000000; stroke-linecap:butt; stroke-linejoin:round; stroke-width:4; stroke-opacity:1; fill:none\" points=\"\n  1215.64,1447.87 1215.64,1447.87 1226,1447.87 1215.64,1447.87 \n  \"/>\n<path clip-path=\"url(#clip272)\" d=\"\nM1226 1447.87 L1226 1447.87 L1236.36 1447.87 L1236.36 1447.87 L1226 1447.87 L1226 1447.87  Z\n  \" fill=\"#009af9\" fill-rule=\"evenodd\" fill-opacity=\"0.1\"/>\n<polyline clip-path=\"url(#clip272)\" style=\"stroke:#000000; stroke-linecap:butt; stroke-linejoin:round; stroke-width:4; stroke-opacity:1; fill:none\" points=\"\n  1226,1447.87 1226,1447.87 1236.36,1447.87 1226,1447.87 \n  \"/>\n<path clip-path=\"url(#clip272)\" d=\"\nM1236.36 1447.87 L1236.36 1447.87 L1246.73 1447.87 L1246.73 1447.87 L1236.36 1447.87 L1236.36 1447.87  Z\n  \" fill=\"#009af9\" fill-rule=\"evenodd\" fill-opacity=\"0.1\"/>\n<polyline clip-path=\"url(#clip272)\" style=\"stroke:#000000; stroke-linecap:butt; stroke-linejoin:round; stroke-width:4; stroke-opacity:1; fill:none\" points=\"\n  1236.36,1447.87 1236.36,1447.87 1246.73,1447.87 1236.36,1447.87 \n  \"/>\n<path clip-path=\"url(#clip272)\" d=\"\nM1246.73 1447.87 L1246.73 1447.87 L1257.09 1447.87 L1257.09 1447.87 L1246.73 1447.87 L1246.73 1447.87  Z\n  \" fill=\"#009af9\" fill-rule=\"evenodd\" fill-opacity=\"0.1\"/>\n<polyline clip-path=\"url(#clip272)\" style=\"stroke:#000000; stroke-linecap:butt; stroke-linejoin:round; stroke-width:4; stroke-opacity:1; fill:none\" points=\"\n  1246.73,1447.87 1246.73,1447.87 1257.09,1447.87 1246.73,1447.87 \n  \"/>\n<path clip-path=\"url(#clip272)\" d=\"\nM1257.09 1447.87 L1257.09 1447.87 L1267.45 1447.87 L1267.45 1447.87 L1257.09 1447.87 L1257.09 1447.87  Z\n  \" fill=\"#009af9\" fill-rule=\"evenodd\" fill-opacity=\"0.1\"/>\n<polyline clip-path=\"url(#clip272)\" style=\"stroke:#000000; stroke-linecap:butt; stroke-linejoin:round; stroke-width:4; stroke-opacity:1; fill:none\" points=\"\n  1257.09,1447.87 1257.09,1447.87 1267.45,1447.87 1257.09,1447.87 \n  \"/>\n<path clip-path=\"url(#clip272)\" d=\"\nM1267.45 1447.87 L1267.45 1447.87 L1277.81 1447.87 L1277.81 1447.87 L1267.45 1447.87 L1267.45 1447.87  Z\n  \" fill=\"#009af9\" fill-rule=\"evenodd\" fill-opacity=\"0.1\"/>\n<polyline clip-path=\"url(#clip272)\" style=\"stroke:#000000; stroke-linecap:butt; stroke-linejoin:round; stroke-width:4; stroke-opacity:1; fill:none\" points=\"\n  1267.45,1447.87 1267.45,1447.87 1277.81,1447.87 1267.45,1447.87 \n  \"/>\n<path clip-path=\"url(#clip272)\" d=\"\nM1277.81 1447.87 L1277.81 1447.87 L1288.17 1447.87 L1288.17 1447.87 L1277.81 1447.87 L1277.81 1447.87  Z\n  \" fill=\"#009af9\" fill-rule=\"evenodd\" fill-opacity=\"0.1\"/>\n<polyline clip-path=\"url(#clip272)\" style=\"stroke:#000000; stroke-linecap:butt; stroke-linejoin:round; stroke-width:4; stroke-opacity:1; fill:none\" points=\"\n  1277.81,1447.87 1277.81,1447.87 1288.17,1447.87 1277.81,1447.87 \n  \"/>\n<path clip-path=\"url(#clip272)\" d=\"\nM1288.17 1447.87 L1288.17 1447.87 L1298.53 1447.87 L1298.53 1447.87 L1288.17 1447.87 L1288.17 1447.87  Z\n  \" fill=\"#009af9\" fill-rule=\"evenodd\" fill-opacity=\"0.1\"/>\n<polyline clip-path=\"url(#clip272)\" style=\"stroke:#000000; stroke-linecap:butt; stroke-linejoin:round; stroke-width:4; stroke-opacity:1; fill:none\" points=\"\n  1288.17,1447.87 1288.17,1447.87 1298.53,1447.87 1288.17,1447.87 \n  \"/>\n<path clip-path=\"url(#clip272)\" d=\"\nM1298.53 1447.87 L1298.53 1447.87 L1308.9 1447.87 L1308.9 1447.87 L1298.53 1447.87 L1298.53 1447.87  Z\n  \" fill=\"#009af9\" fill-rule=\"evenodd\" fill-opacity=\"0.1\"/>\n<polyline clip-path=\"url(#clip272)\" style=\"stroke:#000000; stroke-linecap:butt; stroke-linejoin:round; stroke-width:4; stroke-opacity:1; fill:none\" points=\"\n  1298.53,1447.87 1298.53,1447.87 1308.9,1447.87 1298.53,1447.87 \n  \"/>\n<path clip-path=\"url(#clip272)\" d=\"\nM1308.9 1447.87 L1308.9 1447.87 L1319.26 1447.87 L1319.26 1447.87 L1308.9 1447.87 L1308.9 1447.87  Z\n  \" fill=\"#009af9\" fill-rule=\"evenodd\" fill-opacity=\"0.1\"/>\n<polyline clip-path=\"url(#clip272)\" style=\"stroke:#000000; stroke-linecap:butt; stroke-linejoin:round; stroke-width:4; stroke-opacity:1; fill:none\" points=\"\n  1308.9,1447.87 1308.9,1447.87 1319.26,1447.87 1308.9,1447.87 \n  \"/>\n<path clip-path=\"url(#clip272)\" d=\"\nM1319.26 1447.87 L1319.26 1447.87 L1329.62 1447.87 L1329.62 1447.87 L1319.26 1447.87 L1319.26 1447.87  Z\n  \" fill=\"#009af9\" fill-rule=\"evenodd\" fill-opacity=\"0.1\"/>\n<polyline clip-path=\"url(#clip272)\" style=\"stroke:#000000; stroke-linecap:butt; stroke-linejoin:round; stroke-width:4; stroke-opacity:1; fill:none\" points=\"\n  1319.26,1447.87 1319.26,1447.87 1329.62,1447.87 1319.26,1447.87 \n  \"/>\n<path clip-path=\"url(#clip272)\" d=\"\nM1329.62 1447.87 L1329.62 1447.87 L1339.98 1447.87 L1339.98 1447.87 L1329.62 1447.87 L1329.62 1447.87  Z\n  \" fill=\"#009af9\" fill-rule=\"evenodd\" fill-opacity=\"0.1\"/>\n<polyline clip-path=\"url(#clip272)\" style=\"stroke:#000000; stroke-linecap:butt; stroke-linejoin:round; stroke-width:4; stroke-opacity:1; fill:none\" points=\"\n  1329.62,1447.87 1329.62,1447.87 1339.98,1447.87 1329.62,1447.87 \n  \"/>\n<path clip-path=\"url(#clip272)\" d=\"\nM1339.98 1447.87 L1339.98 1447.87 L1350.34 1447.87 L1350.34 1447.87 L1339.98 1447.87 L1339.98 1447.87  Z\n  \" fill=\"#009af9\" fill-rule=\"evenodd\" fill-opacity=\"0.1\"/>\n<polyline clip-path=\"url(#clip272)\" style=\"stroke:#000000; stroke-linecap:butt; stroke-linejoin:round; stroke-width:4; stroke-opacity:1; fill:none\" points=\"\n  1339.98,1447.87 1339.98,1447.87 1350.34,1447.87 1339.98,1447.87 \n  \"/>\n<path clip-path=\"url(#clip272)\" d=\"\nM1350.34 1447.87 L1350.34 1447.87 L1360.7 1447.87 L1360.7 1447.87 L1350.34 1447.87 L1350.34 1447.87  Z\n  \" fill=\"#009af9\" fill-rule=\"evenodd\" fill-opacity=\"0.1\"/>\n<polyline clip-path=\"url(#clip272)\" style=\"stroke:#000000; stroke-linecap:butt; stroke-linejoin:round; stroke-width:4; stroke-opacity:1; fill:none\" points=\"\n  1350.34,1447.87 1350.34,1447.87 1360.7,1447.87 1350.34,1447.87 \n  \"/>\n<path clip-path=\"url(#clip272)\" d=\"\nM1360.7 1447.87 L1360.7 1447.87 L1371.07 1447.87 L1371.07 1447.87 L1360.7 1447.87 L1360.7 1447.87  Z\n  \" fill=\"#009af9\" fill-rule=\"evenodd\" fill-opacity=\"0.1\"/>\n<polyline clip-path=\"url(#clip272)\" style=\"stroke:#000000; stroke-linecap:butt; stroke-linejoin:round; stroke-width:4; stroke-opacity:1; fill:none\" points=\"\n  1360.7,1447.87 1360.7,1447.87 1371.07,1447.87 1360.7,1447.87 \n  \"/>\n<path clip-path=\"url(#clip272)\" d=\"\nM1371.07 1447.87 L1371.07 1447.87 L1381.43 1447.87 L1381.43 1447.87 L1371.07 1447.87 L1371.07 1447.87  Z\n  \" fill=\"#009af9\" fill-rule=\"evenodd\" fill-opacity=\"0.1\"/>\n<polyline clip-path=\"url(#clip272)\" style=\"stroke:#000000; stroke-linecap:butt; stroke-linejoin:round; stroke-width:4; stroke-opacity:1; fill:none\" points=\"\n  1371.07,1447.87 1371.07,1447.87 1381.43,1447.87 1371.07,1447.87 \n  \"/>\n<path clip-path=\"url(#clip272)\" d=\"\nM1381.43 1447.87 L1381.43 1447.87 L1391.79 1447.87 L1391.79 1447.87 L1381.43 1447.87 L1381.43 1447.87  Z\n  \" fill=\"#009af9\" fill-rule=\"evenodd\" fill-opacity=\"0.1\"/>\n<polyline clip-path=\"url(#clip272)\" style=\"stroke:#000000; stroke-linecap:butt; stroke-linejoin:round; stroke-width:4; stroke-opacity:1; fill:none\" points=\"\n  1381.43,1447.87 1381.43,1447.87 1391.79,1447.87 1381.43,1447.87 \n  \"/>\n<path clip-path=\"url(#clip272)\" d=\"\nM1391.79 1383.58 L1391.79 1447.87 L1402.15 1447.87 L1402.15 1383.58 L1391.79 1383.58 L1391.79 1383.58  Z\n  \" fill=\"#009af9\" fill-rule=\"evenodd\" fill-opacity=\"0.1\"/>\n<polyline clip-path=\"url(#clip272)\" style=\"stroke:#000000; stroke-linecap:butt; stroke-linejoin:round; stroke-width:4; stroke-opacity:1; fill:none\" points=\"\n  1391.79,1383.58 1391.79,1447.87 1402.15,1447.87 1402.15,1383.58 1391.79,1383.58 \n  \"/>\n<circle clip-path=\"url(#clip272)\" style=\"fill:#009af9; stroke:none; fill-opacity:0\" cx=\"267.544\" cy=\"1062.13\" r=\"2\"/>\n<circle clip-path=\"url(#clip272)\" style=\"fill:#009af9; stroke:none; fill-opacity:0\" cx=\"277.905\" cy=\"869.251\" r=\"2\"/>\n<circle clip-path=\"url(#clip272)\" style=\"fill:#009af9; stroke:none; fill-opacity:0\" cx=\"288.267\" cy=\"997.834\" r=\"2\"/>\n<circle clip-path=\"url(#clip272)\" style=\"fill:#009af9; stroke:none; fill-opacity:0\" cx=\"298.629\" cy=\"933.543\" r=\"2\"/>\n<circle clip-path=\"url(#clip272)\" style=\"fill:#009af9; stroke:none; fill-opacity:0\" cx=\"308.991\" cy=\"1126.42\" r=\"2\"/>\n<circle clip-path=\"url(#clip272)\" style=\"fill:#009af9; stroke:none; fill-opacity:0\" cx=\"319.352\" cy=\"997.834\" r=\"2\"/>\n<circle clip-path=\"url(#clip272)\" style=\"fill:#009af9; stroke:none; fill-opacity:0\" cx=\"329.714\" cy=\"1126.42\" r=\"2\"/>\n<circle clip-path=\"url(#clip272)\" style=\"fill:#009af9; stroke:none; fill-opacity:0\" cx=\"340.076\" cy=\"1126.42\" r=\"2\"/>\n<circle clip-path=\"url(#clip272)\" style=\"fill:#009af9; stroke:none; fill-opacity:0\" cx=\"350.437\" cy=\"1190.71\" r=\"2\"/>\n<circle clip-path=\"url(#clip272)\" style=\"fill:#009af9; stroke:none; fill-opacity:0\" cx=\"360.799\" cy=\"1126.42\" r=\"2\"/>\n<circle clip-path=\"url(#clip272)\" style=\"fill:#009af9; stroke:none; fill-opacity:0\" cx=\"371.161\" cy=\"1319.29\" r=\"2\"/>\n<circle clip-path=\"url(#clip272)\" style=\"fill:#009af9; stroke:none; fill-opacity:0\" cx=\"381.523\" cy=\"1255\" r=\"2\"/>\n<circle clip-path=\"url(#clip272)\" style=\"fill:#009af9; stroke:none; fill-opacity:0\" cx=\"391.884\" cy=\"1319.29\" r=\"2\"/>\n<circle clip-path=\"url(#clip272)\" style=\"fill:#009af9; stroke:none; fill-opacity:0\" cx=\"402.246\" cy=\"1383.58\" r=\"2\"/>\n<circle clip-path=\"url(#clip272)\" style=\"fill:#009af9; stroke:none; fill-opacity:0\" cx=\"412.608\" cy=\"1319.29\" r=\"2\"/>\n<circle clip-path=\"url(#clip272)\" style=\"fill:#009af9; stroke:none; fill-opacity:0\" cx=\"422.969\" cy=\"1447.87\" r=\"2\"/>\n<circle clip-path=\"url(#clip272)\" style=\"fill:#009af9; stroke:none; fill-opacity:0\" cx=\"433.331\" cy=\"1190.71\" r=\"2\"/>\n<circle clip-path=\"url(#clip272)\" style=\"fill:#009af9; stroke:none; fill-opacity:0\" cx=\"443.693\" cy=\"1255\" r=\"2\"/>\n<circle clip-path=\"url(#clip272)\" style=\"fill:#009af9; stroke:none; fill-opacity:0\" cx=\"454.055\" cy=\"1319.29\" r=\"2\"/>\n<circle clip-path=\"url(#clip272)\" style=\"fill:#009af9; stroke:none; fill-opacity:0\" cx=\"464.416\" cy=\"1383.58\" r=\"2\"/>\n<circle clip-path=\"url(#clip272)\" style=\"fill:#009af9; stroke:none; fill-opacity:0\" cx=\"474.778\" cy=\"1383.58\" r=\"2\"/>\n<circle clip-path=\"url(#clip272)\" style=\"fill:#009af9; stroke:none; fill-opacity:0\" cx=\"485.14\" cy=\"1447.87\" r=\"2\"/>\n<circle clip-path=\"url(#clip272)\" style=\"fill:#009af9; stroke:none; fill-opacity:0\" cx=\"495.501\" cy=\"1447.87\" r=\"2\"/>\n<circle clip-path=\"url(#clip272)\" style=\"fill:#009af9; stroke:none; fill-opacity:0\" cx=\"505.863\" cy=\"1383.58\" r=\"2\"/>\n<circle clip-path=\"url(#clip272)\" style=\"fill:#009af9; stroke:none; fill-opacity:0\" cx=\"516.225\" cy=\"1255\" r=\"2\"/>\n<circle clip-path=\"url(#clip272)\" style=\"fill:#009af9; stroke:none; fill-opacity:0\" cx=\"526.587\" cy=\"1447.87\" r=\"2\"/>\n<circle clip-path=\"url(#clip272)\" style=\"fill:#009af9; stroke:none; fill-opacity:0\" cx=\"536.948\" cy=\"1447.87\" r=\"2\"/>\n<circle clip-path=\"url(#clip272)\" style=\"fill:#009af9; stroke:none; fill-opacity:0\" cx=\"547.31\" cy=\"1447.87\" r=\"2\"/>\n<circle clip-path=\"url(#clip272)\" style=\"fill:#009af9; stroke:none; fill-opacity:0\" cx=\"557.672\" cy=\"1383.58\" r=\"2\"/>\n<circle clip-path=\"url(#clip272)\" style=\"fill:#009af9; stroke:none; fill-opacity:0\" cx=\"568.033\" cy=\"1383.58\" r=\"2\"/>\n<circle clip-path=\"url(#clip272)\" style=\"fill:#009af9; stroke:none; fill-opacity:0\" cx=\"578.395\" cy=\"1447.87\" r=\"2\"/>\n<circle clip-path=\"url(#clip272)\" style=\"fill:#009af9; stroke:none; fill-opacity:0\" cx=\"588.757\" cy=\"1383.58\" r=\"2\"/>\n<circle clip-path=\"url(#clip272)\" style=\"fill:#009af9; stroke:none; fill-opacity:0\" cx=\"599.119\" cy=\"1383.58\" r=\"2\"/>\n<circle clip-path=\"url(#clip272)\" style=\"fill:#009af9; stroke:none; fill-opacity:0\" cx=\"609.48\" cy=\"1383.58\" r=\"2\"/>\n<circle clip-path=\"url(#clip272)\" style=\"fill:#009af9; stroke:none; fill-opacity:0\" cx=\"619.842\" cy=\"1383.58\" r=\"2\"/>\n<circle clip-path=\"url(#clip272)\" style=\"fill:#009af9; stroke:none; fill-opacity:0\" cx=\"630.204\" cy=\"1447.87\" r=\"2\"/>\n<circle clip-path=\"url(#clip272)\" style=\"fill:#009af9; stroke:none; fill-opacity:0\" cx=\"640.565\" cy=\"1447.87\" r=\"2\"/>\n<circle clip-path=\"url(#clip272)\" style=\"fill:#009af9; stroke:none; fill-opacity:0\" cx=\"650.927\" cy=\"1447.87\" r=\"2\"/>\n<circle clip-path=\"url(#clip272)\" style=\"fill:#009af9; stroke:none; fill-opacity:0\" cx=\"661.289\" cy=\"1447.87\" r=\"2\"/>\n<circle clip-path=\"url(#clip272)\" style=\"fill:#009af9; stroke:none; fill-opacity:0\" cx=\"671.651\" cy=\"1447.87\" r=\"2\"/>\n<circle clip-path=\"url(#clip272)\" style=\"fill:#009af9; stroke:none; fill-opacity:0\" cx=\"682.012\" cy=\"1447.87\" r=\"2\"/>\n<circle clip-path=\"url(#clip272)\" style=\"fill:#009af9; stroke:none; fill-opacity:0\" cx=\"692.374\" cy=\"1447.87\" r=\"2\"/>\n<circle clip-path=\"url(#clip272)\" style=\"fill:#009af9; stroke:none; fill-opacity:0\" cx=\"702.736\" cy=\"1383.58\" r=\"2\"/>\n<circle clip-path=\"url(#clip272)\" style=\"fill:#009af9; stroke:none; fill-opacity:0\" cx=\"713.097\" cy=\"1447.87\" r=\"2\"/>\n<circle clip-path=\"url(#clip272)\" style=\"fill:#009af9; stroke:none; fill-opacity:0\" cx=\"723.459\" cy=\"1447.87\" r=\"2\"/>\n<circle clip-path=\"url(#clip272)\" style=\"fill:#009af9; stroke:none; fill-opacity:0\" cx=\"733.821\" cy=\"1447.87\" r=\"2\"/>\n<circle clip-path=\"url(#clip272)\" style=\"fill:#009af9; stroke:none; fill-opacity:0\" cx=\"744.183\" cy=\"1383.58\" r=\"2\"/>\n<circle clip-path=\"url(#clip272)\" style=\"fill:#009af9; stroke:none; fill-opacity:0\" cx=\"754.544\" cy=\"1447.87\" r=\"2\"/>\n<circle clip-path=\"url(#clip272)\" style=\"fill:#009af9; stroke:none; fill-opacity:0\" cx=\"764.906\" cy=\"1447.87\" r=\"2\"/>\n<circle clip-path=\"url(#clip272)\" style=\"fill:#009af9; stroke:none; fill-opacity:0\" cx=\"775.268\" cy=\"1447.87\" r=\"2\"/>\n<circle clip-path=\"url(#clip272)\" style=\"fill:#009af9; stroke:none; fill-opacity:0\" cx=\"785.629\" cy=\"1447.87\" r=\"2\"/>\n<circle clip-path=\"url(#clip272)\" style=\"fill:#009af9; stroke:none; fill-opacity:0\" cx=\"795.991\" cy=\"1447.87\" r=\"2\"/>\n<circle clip-path=\"url(#clip272)\" style=\"fill:#009af9; stroke:none; fill-opacity:0\" cx=\"806.353\" cy=\"1447.87\" r=\"2\"/>\n<circle clip-path=\"url(#clip272)\" style=\"fill:#009af9; stroke:none; fill-opacity:0\" cx=\"816.715\" cy=\"1447.87\" r=\"2\"/>\n<circle clip-path=\"url(#clip272)\" style=\"fill:#009af9; stroke:none; fill-opacity:0\" cx=\"827.076\" cy=\"1447.87\" r=\"2\"/>\n<circle clip-path=\"url(#clip272)\" style=\"fill:#009af9; stroke:none; fill-opacity:0\" cx=\"837.438\" cy=\"1447.87\" r=\"2\"/>\n<circle clip-path=\"url(#clip272)\" style=\"fill:#009af9; stroke:none; fill-opacity:0\" cx=\"847.8\" cy=\"1447.87\" r=\"2\"/>\n<circle clip-path=\"url(#clip272)\" style=\"fill:#009af9; stroke:none; fill-opacity:0\" cx=\"858.161\" cy=\"1447.87\" r=\"2\"/>\n<circle clip-path=\"url(#clip272)\" style=\"fill:#009af9; stroke:none; fill-opacity:0\" cx=\"868.523\" cy=\"1383.58\" r=\"2\"/>\n<circle clip-path=\"url(#clip272)\" style=\"fill:#009af9; stroke:none; fill-opacity:0\" cx=\"878.885\" cy=\"1447.87\" r=\"2\"/>\n<circle clip-path=\"url(#clip272)\" style=\"fill:#009af9; stroke:none; fill-opacity:0\" cx=\"889.247\" cy=\"1447.87\" r=\"2\"/>\n<circle clip-path=\"url(#clip272)\" style=\"fill:#009af9; stroke:none; fill-opacity:0\" cx=\"899.608\" cy=\"1447.87\" r=\"2\"/>\n<circle clip-path=\"url(#clip272)\" style=\"fill:#009af9; stroke:none; fill-opacity:0\" cx=\"909.97\" cy=\"1447.87\" r=\"2\"/>\n<circle clip-path=\"url(#clip272)\" style=\"fill:#009af9; stroke:none; fill-opacity:0\" cx=\"920.332\" cy=\"1447.87\" r=\"2\"/>\n<circle clip-path=\"url(#clip272)\" style=\"fill:#009af9; stroke:none; fill-opacity:0\" cx=\"930.693\" cy=\"1447.87\" r=\"2\"/>\n<circle clip-path=\"url(#clip272)\" style=\"fill:#009af9; stroke:none; fill-opacity:0\" cx=\"941.055\" cy=\"1447.87\" r=\"2\"/>\n<circle clip-path=\"url(#clip272)\" style=\"fill:#009af9; stroke:none; fill-opacity:0\" cx=\"951.417\" cy=\"1447.87\" r=\"2\"/>\n<circle clip-path=\"url(#clip272)\" style=\"fill:#009af9; stroke:none; fill-opacity:0\" cx=\"961.779\" cy=\"1447.87\" r=\"2\"/>\n<circle clip-path=\"url(#clip272)\" style=\"fill:#009af9; stroke:none; fill-opacity:0\" cx=\"972.14\" cy=\"1447.87\" r=\"2\"/>\n<circle clip-path=\"url(#clip272)\" style=\"fill:#009af9; stroke:none; fill-opacity:0\" cx=\"982.502\" cy=\"1383.58\" r=\"2\"/>\n<circle clip-path=\"url(#clip272)\" style=\"fill:#009af9; stroke:none; fill-opacity:0\" cx=\"992.864\" cy=\"1447.87\" r=\"2\"/>\n<circle clip-path=\"url(#clip272)\" style=\"fill:#009af9; stroke:none; fill-opacity:0\" cx=\"1003.23\" cy=\"1447.87\" r=\"2\"/>\n<circle clip-path=\"url(#clip272)\" style=\"fill:#009af9; stroke:none; fill-opacity:0\" cx=\"1013.59\" cy=\"1447.87\" r=\"2\"/>\n<circle clip-path=\"url(#clip272)\" style=\"fill:#009af9; stroke:none; fill-opacity:0\" cx=\"1023.95\" cy=\"1447.87\" r=\"2\"/>\n<circle clip-path=\"url(#clip272)\" style=\"fill:#009af9; stroke:none; fill-opacity:0\" cx=\"1034.31\" cy=\"1447.87\" r=\"2\"/>\n<circle clip-path=\"url(#clip272)\" style=\"fill:#009af9; stroke:none; fill-opacity:0\" cx=\"1044.67\" cy=\"1319.29\" r=\"2\"/>\n<circle clip-path=\"url(#clip272)\" style=\"fill:#009af9; stroke:none; fill-opacity:0\" cx=\"1055.03\" cy=\"1447.87\" r=\"2\"/>\n<circle clip-path=\"url(#clip272)\" style=\"fill:#009af9; stroke:none; fill-opacity:0\" cx=\"1065.4\" cy=\"1447.87\" r=\"2\"/>\n<circle clip-path=\"url(#clip272)\" style=\"fill:#009af9; stroke:none; fill-opacity:0\" cx=\"1075.76\" cy=\"1447.87\" r=\"2\"/>\n<circle clip-path=\"url(#clip272)\" style=\"fill:#009af9; stroke:none; fill-opacity:0\" cx=\"1086.12\" cy=\"1447.87\" r=\"2\"/>\n<circle clip-path=\"url(#clip272)\" style=\"fill:#009af9; stroke:none; fill-opacity:0\" cx=\"1096.48\" cy=\"1447.87\" r=\"2\"/>\n<circle clip-path=\"url(#clip272)\" style=\"fill:#009af9; stroke:none; fill-opacity:0\" cx=\"1106.84\" cy=\"1447.87\" r=\"2\"/>\n<circle clip-path=\"url(#clip272)\" style=\"fill:#009af9; stroke:none; fill-opacity:0\" cx=\"1117.2\" cy=\"1447.87\" r=\"2\"/>\n<circle clip-path=\"url(#clip272)\" style=\"fill:#009af9; stroke:none; fill-opacity:0\" cx=\"1127.57\" cy=\"1447.87\" r=\"2\"/>\n<circle clip-path=\"url(#clip272)\" style=\"fill:#009af9; stroke:none; fill-opacity:0\" cx=\"1137.93\" cy=\"1447.87\" r=\"2\"/>\n<circle clip-path=\"url(#clip272)\" style=\"fill:#009af9; stroke:none; fill-opacity:0\" cx=\"1148.29\" cy=\"1447.87\" r=\"2\"/>\n<circle clip-path=\"url(#clip272)\" style=\"fill:#009af9; stroke:none; fill-opacity:0\" cx=\"1158.65\" cy=\"1447.87\" r=\"2\"/>\n<circle clip-path=\"url(#clip272)\" style=\"fill:#009af9; stroke:none; fill-opacity:0\" cx=\"1169.01\" cy=\"1447.87\" r=\"2\"/>\n<circle clip-path=\"url(#clip272)\" style=\"fill:#009af9; stroke:none; fill-opacity:0\" cx=\"1179.37\" cy=\"1447.87\" r=\"2\"/>\n<circle clip-path=\"url(#clip272)\" style=\"fill:#009af9; stroke:none; fill-opacity:0\" cx=\"1189.74\" cy=\"1447.87\" r=\"2\"/>\n<circle clip-path=\"url(#clip272)\" style=\"fill:#009af9; stroke:none; fill-opacity:0\" cx=\"1200.1\" cy=\"1447.87\" r=\"2\"/>\n<circle clip-path=\"url(#clip272)\" style=\"fill:#009af9; stroke:none; fill-opacity:0\" cx=\"1210.46\" cy=\"1383.58\" r=\"2\"/>\n<circle clip-path=\"url(#clip272)\" style=\"fill:#009af9; stroke:none; fill-opacity:0\" cx=\"1220.82\" cy=\"1447.87\" r=\"2\"/>\n<circle clip-path=\"url(#clip272)\" style=\"fill:#009af9; stroke:none; fill-opacity:0\" cx=\"1231.18\" cy=\"1447.87\" r=\"2\"/>\n<circle clip-path=\"url(#clip272)\" style=\"fill:#009af9; stroke:none; fill-opacity:0\" cx=\"1241.54\" cy=\"1447.87\" r=\"2\"/>\n<circle clip-path=\"url(#clip272)\" style=\"fill:#009af9; stroke:none; fill-opacity:0\" cx=\"1251.91\" cy=\"1447.87\" r=\"2\"/>\n<circle clip-path=\"url(#clip272)\" style=\"fill:#009af9; stroke:none; fill-opacity:0\" cx=\"1262.27\" cy=\"1447.87\" r=\"2\"/>\n<circle clip-path=\"url(#clip272)\" style=\"fill:#009af9; stroke:none; fill-opacity:0\" cx=\"1272.63\" cy=\"1447.87\" r=\"2\"/>\n<circle clip-path=\"url(#clip272)\" style=\"fill:#009af9; stroke:none; fill-opacity:0\" cx=\"1282.99\" cy=\"1447.87\" r=\"2\"/>\n<circle clip-path=\"url(#clip272)\" style=\"fill:#009af9; stroke:none; fill-opacity:0\" cx=\"1293.35\" cy=\"1447.87\" r=\"2\"/>\n<circle clip-path=\"url(#clip272)\" style=\"fill:#009af9; stroke:none; fill-opacity:0\" cx=\"1303.72\" cy=\"1447.87\" r=\"2\"/>\n<circle clip-path=\"url(#clip272)\" style=\"fill:#009af9; stroke:none; fill-opacity:0\" cx=\"1314.08\" cy=\"1447.87\" r=\"2\"/>\n<circle clip-path=\"url(#clip272)\" style=\"fill:#009af9; stroke:none; fill-opacity:0\" cx=\"1324.44\" cy=\"1447.87\" r=\"2\"/>\n<circle clip-path=\"url(#clip272)\" style=\"fill:#009af9; stroke:none; fill-opacity:0\" cx=\"1334.8\" cy=\"1447.87\" r=\"2\"/>\n<circle clip-path=\"url(#clip272)\" style=\"fill:#009af9; stroke:none; fill-opacity:0\" cx=\"1345.16\" cy=\"1447.87\" r=\"2\"/>\n<circle clip-path=\"url(#clip272)\" style=\"fill:#009af9; stroke:none; fill-opacity:0\" cx=\"1355.52\" cy=\"1447.87\" r=\"2\"/>\n<circle clip-path=\"url(#clip272)\" style=\"fill:#009af9; stroke:none; fill-opacity:0\" cx=\"1365.89\" cy=\"1447.87\" r=\"2\"/>\n<circle clip-path=\"url(#clip272)\" style=\"fill:#009af9; stroke:none; fill-opacity:0\" cx=\"1376.25\" cy=\"1447.87\" r=\"2\"/>\n<circle clip-path=\"url(#clip272)\" style=\"fill:#009af9; stroke:none; fill-opacity:0\" cx=\"1386.61\" cy=\"1447.87\" r=\"2\"/>\n<circle clip-path=\"url(#clip272)\" style=\"fill:#009af9; stroke:none; fill-opacity:0\" cx=\"1396.97\" cy=\"1383.58\" r=\"2\"/>\n<path clip-path=\"url(#clip272)\" d=\"\nM262.363 162.047 L262.363 1447.87 L288.267 1447.87 L288.267 162.047 L262.363 162.047 L262.363 162.047  Z\n  \" fill=\"#e26f46\" fill-rule=\"evenodd\" fill-opacity=\"0.1\"/>\n<polyline clip-path=\"url(#clip272)\" style=\"stroke:#000000; stroke-linecap:butt; stroke-linejoin:round; stroke-width:4; stroke-opacity:1; fill:none\" points=\"\n  262.363,162.047 262.363,1447.87 288.267,1447.87 288.267,162.047 262.363,162.047 \n  \"/>\n<path clip-path=\"url(#clip272)\" d=\"\nM288.267 419.212 L288.267 1447.87 L314.171 1447.87 L314.171 419.212 L288.267 419.212 L288.267 419.212  Z\n  \" fill=\"#e26f46\" fill-rule=\"evenodd\" fill-opacity=\"0.1\"/>\n<polyline clip-path=\"url(#clip272)\" style=\"stroke:#000000; stroke-linecap:butt; stroke-linejoin:round; stroke-width:4; stroke-opacity:1; fill:none\" points=\"\n  288.267,419.212 288.267,1447.87 314.171,1447.87 314.171,419.212 288.267,419.212 \n  \"/>\n<path clip-path=\"url(#clip272)\" d=\"\nM314.171 419.212 L314.171 1447.87 L340.076 1447.87 L340.076 419.212 L314.171 419.212 L314.171 419.212  Z\n  \" fill=\"#e26f46\" fill-rule=\"evenodd\" fill-opacity=\"0.1\"/>\n<polyline clip-path=\"url(#clip272)\" style=\"stroke:#000000; stroke-linecap:butt; stroke-linejoin:round; stroke-width:4; stroke-opacity:1; fill:none\" points=\"\n  314.171,419.212 314.171,1447.87 340.076,1447.87 340.076,419.212 314.171,419.212 \n  \"/>\n<path clip-path=\"url(#clip272)\" d=\"\nM340.076 933.543 L340.076 1447.87 L365.98 1447.87 L365.98 933.543 L340.076 933.543 L340.076 933.543  Z\n  \" fill=\"#e26f46\" fill-rule=\"evenodd\" fill-opacity=\"0.1\"/>\n<polyline clip-path=\"url(#clip272)\" style=\"stroke:#000000; stroke-linecap:butt; stroke-linejoin:round; stroke-width:4; stroke-opacity:1; fill:none\" points=\"\n  340.076,933.543 340.076,1447.87 365.98,1447.87 365.98,933.543 340.076,933.543 \n  \"/>\n<path clip-path=\"url(#clip272)\" d=\"\nM365.98 933.543 L365.98 1447.87 L391.884 1447.87 L391.884 933.543 L365.98 933.543 L365.98 933.543  Z\n  \" fill=\"#e26f46\" fill-rule=\"evenodd\" fill-opacity=\"0.1\"/>\n<polyline clip-path=\"url(#clip272)\" style=\"stroke:#000000; stroke-linecap:butt; stroke-linejoin:round; stroke-width:4; stroke-opacity:1; fill:none\" points=\"\n  365.98,933.543 365.98,1447.87 391.884,1447.87 391.884,933.543 365.98,933.543 \n  \"/>\n<path clip-path=\"url(#clip272)\" d=\"\nM391.884 1255 L391.884 1447.87 L417.789 1447.87 L417.789 1255 L391.884 1255 L391.884 1255  Z\n  \" fill=\"#e26f46\" fill-rule=\"evenodd\" fill-opacity=\"0.1\"/>\n<polyline clip-path=\"url(#clip272)\" style=\"stroke:#000000; stroke-linecap:butt; stroke-linejoin:round; stroke-width:4; stroke-opacity:1; fill:none\" points=\"\n  391.884,1255 391.884,1447.87 417.789,1447.87 417.789,1255 391.884,1255 \n  \"/>\n<path clip-path=\"url(#clip272)\" d=\"\nM417.789 1126.42 L417.789 1447.87 L443.693 1447.87 L443.693 1126.42 L417.789 1126.42 L417.789 1126.42  Z\n  \" fill=\"#e26f46\" fill-rule=\"evenodd\" fill-opacity=\"0.1\"/>\n<polyline clip-path=\"url(#clip272)\" style=\"stroke:#000000; stroke-linecap:butt; stroke-linejoin:round; stroke-width:4; stroke-opacity:1; fill:none\" points=\"\n  417.789,1126.42 417.789,1447.87 443.693,1447.87 443.693,1126.42 417.789,1126.42 \n  \"/>\n<path clip-path=\"url(#clip272)\" d=\"\nM443.693 1062.13 L443.693 1447.87 L469.597 1447.87 L469.597 1062.13 L443.693 1062.13 L443.693 1062.13  Z\n  \" fill=\"#e26f46\" fill-rule=\"evenodd\" fill-opacity=\"0.1\"/>\n<polyline clip-path=\"url(#clip272)\" style=\"stroke:#000000; stroke-linecap:butt; stroke-linejoin:round; stroke-width:4; stroke-opacity:1; fill:none\" points=\"\n  443.693,1062.13 443.693,1447.87 469.597,1447.87 469.597,1062.13 443.693,1062.13 \n  \"/>\n<path clip-path=\"url(#clip272)\" d=\"\nM469.597 1383.58 L469.597 1447.87 L495.501 1447.87 L495.501 1383.58 L469.597 1383.58 L469.597 1383.58  Z\n  \" fill=\"#e26f46\" fill-rule=\"evenodd\" fill-opacity=\"0.1\"/>\n<polyline clip-path=\"url(#clip272)\" style=\"stroke:#000000; stroke-linecap:butt; stroke-linejoin:round; stroke-width:4; stroke-opacity:1; fill:none\" points=\"\n  469.597,1383.58 469.597,1447.87 495.501,1447.87 495.501,1383.58 469.597,1383.58 \n  \"/>\n<path clip-path=\"url(#clip272)\" d=\"\nM495.501 1255 L495.501 1447.87 L521.406 1447.87 L521.406 1255 L495.501 1255 L495.501 1255  Z\n  \" fill=\"#e26f46\" fill-rule=\"evenodd\" fill-opacity=\"0.1\"/>\n<polyline clip-path=\"url(#clip272)\" style=\"stroke:#000000; stroke-linecap:butt; stroke-linejoin:round; stroke-width:4; stroke-opacity:1; fill:none\" points=\"\n  495.501,1255 495.501,1447.87 521.406,1447.87 521.406,1255 495.501,1255 \n  \"/>\n<path clip-path=\"url(#clip272)\" d=\"\nM521.406 1447.87 L521.406 1447.87 L547.31 1447.87 L547.31 1447.87 L521.406 1447.87 L521.406 1447.87  Z\n  \" fill=\"#e26f46\" fill-rule=\"evenodd\" fill-opacity=\"0.1\"/>\n<polyline clip-path=\"url(#clip272)\" style=\"stroke:#000000; stroke-linecap:butt; stroke-linejoin:round; stroke-width:4; stroke-opacity:1; fill:none\" points=\"\n  521.406,1447.87 521.406,1447.87 547.31,1447.87 521.406,1447.87 \n  \"/>\n<path clip-path=\"url(#clip272)\" d=\"\nM547.31 1255 L547.31 1447.87 L573.214 1447.87 L573.214 1255 L547.31 1255 L547.31 1255  Z\n  \" fill=\"#e26f46\" fill-rule=\"evenodd\" fill-opacity=\"0.1\"/>\n<polyline clip-path=\"url(#clip272)\" style=\"stroke:#000000; stroke-linecap:butt; stroke-linejoin:round; stroke-width:4; stroke-opacity:1; fill:none\" points=\"\n  547.31,1255 547.31,1447.87 573.214,1447.87 573.214,1255 547.31,1255 \n  \"/>\n<path clip-path=\"url(#clip272)\" d=\"\nM573.214 1319.29 L573.214 1447.87 L599.119 1447.87 L599.119 1319.29 L573.214 1319.29 L573.214 1319.29  Z\n  \" fill=\"#e26f46\" fill-rule=\"evenodd\" fill-opacity=\"0.1\"/>\n<polyline clip-path=\"url(#clip272)\" style=\"stroke:#000000; stroke-linecap:butt; stroke-linejoin:round; stroke-width:4; stroke-opacity:1; fill:none\" points=\"\n  573.214,1319.29 573.214,1447.87 599.119,1447.87 599.119,1319.29 573.214,1319.29 \n  \"/>\n<path clip-path=\"url(#clip272)\" d=\"\nM599.119 1447.87 L599.119 1447.87 L625.023 1447.87 L625.023 1447.87 L599.119 1447.87 L599.119 1447.87  Z\n  \" fill=\"#e26f46\" fill-rule=\"evenodd\" fill-opacity=\"0.1\"/>\n<polyline clip-path=\"url(#clip272)\" style=\"stroke:#000000; stroke-linecap:butt; stroke-linejoin:round; stroke-width:4; stroke-opacity:1; fill:none\" points=\"\n  599.119,1447.87 599.119,1447.87 625.023,1447.87 599.119,1447.87 \n  \"/>\n<path clip-path=\"url(#clip272)\" d=\"\nM625.023 1447.87 L625.023 1447.87 L650.927 1447.87 L650.927 1447.87 L625.023 1447.87 L625.023 1447.87  Z\n  \" fill=\"#e26f46\" fill-rule=\"evenodd\" fill-opacity=\"0.1\"/>\n<polyline clip-path=\"url(#clip272)\" style=\"stroke:#000000; stroke-linecap:butt; stroke-linejoin:round; stroke-width:4; stroke-opacity:1; fill:none\" points=\"\n  625.023,1447.87 625.023,1447.87 650.927,1447.87 625.023,1447.87 \n  \"/>\n<path clip-path=\"url(#clip272)\" d=\"\nM650.927 1447.87 L650.927 1447.87 L676.831 1447.87 L676.831 1447.87 L650.927 1447.87 L650.927 1447.87  Z\n  \" fill=\"#e26f46\" fill-rule=\"evenodd\" fill-opacity=\"0.1\"/>\n<polyline clip-path=\"url(#clip272)\" style=\"stroke:#000000; stroke-linecap:butt; stroke-linejoin:round; stroke-width:4; stroke-opacity:1; fill:none\" points=\"\n  650.927,1447.87 650.927,1447.87 676.831,1447.87 650.927,1447.87 \n  \"/>\n<path clip-path=\"url(#clip272)\" d=\"\nM676.831 1319.29 L676.831 1447.87 L702.736 1447.87 L702.736 1319.29 L676.831 1319.29 L676.831 1319.29  Z\n  \" fill=\"#e26f46\" fill-rule=\"evenodd\" fill-opacity=\"0.1\"/>\n<polyline clip-path=\"url(#clip272)\" style=\"stroke:#000000; stroke-linecap:butt; stroke-linejoin:round; stroke-width:4; stroke-opacity:1; fill:none\" points=\"\n  676.831,1319.29 676.831,1447.87 702.736,1447.87 702.736,1319.29 676.831,1319.29 \n  \"/>\n<path clip-path=\"url(#clip272)\" d=\"\nM702.736 1383.58 L702.736 1447.87 L728.64 1447.87 L728.64 1383.58 L702.736 1383.58 L702.736 1383.58  Z\n  \" fill=\"#e26f46\" fill-rule=\"evenodd\" fill-opacity=\"0.1\"/>\n<polyline clip-path=\"url(#clip272)\" style=\"stroke:#000000; stroke-linecap:butt; stroke-linejoin:round; stroke-width:4; stroke-opacity:1; fill:none\" points=\"\n  702.736,1383.58 702.736,1447.87 728.64,1447.87 728.64,1383.58 702.736,1383.58 \n  \"/>\n<path clip-path=\"url(#clip272)\" d=\"\nM728.64 1447.87 L728.64 1447.87 L754.544 1447.87 L754.544 1447.87 L728.64 1447.87 L728.64 1447.87  Z\n  \" fill=\"#e26f46\" fill-rule=\"evenodd\" fill-opacity=\"0.1\"/>\n<polyline clip-path=\"url(#clip272)\" style=\"stroke:#000000; stroke-linecap:butt; stroke-linejoin:round; stroke-width:4; stroke-opacity:1; fill:none\" points=\"\n  728.64,1447.87 728.64,1447.87 754.544,1447.87 728.64,1447.87 \n  \"/>\n<path clip-path=\"url(#clip272)\" d=\"\nM754.544 1447.87 L754.544 1447.87 L780.449 1447.87 L780.449 1447.87 L754.544 1447.87 L754.544 1447.87  Z\n  \" fill=\"#e26f46\" fill-rule=\"evenodd\" fill-opacity=\"0.1\"/>\n<polyline clip-path=\"url(#clip272)\" style=\"stroke:#000000; stroke-linecap:butt; stroke-linejoin:round; stroke-width:4; stroke-opacity:1; fill:none\" points=\"\n  754.544,1447.87 754.544,1447.87 780.449,1447.87 754.544,1447.87 \n  \"/>\n<path clip-path=\"url(#clip272)\" d=\"\nM780.449 1447.87 L780.449 1447.87 L806.353 1447.87 L806.353 1447.87 L780.449 1447.87 L780.449 1447.87  Z\n  \" fill=\"#e26f46\" fill-rule=\"evenodd\" fill-opacity=\"0.1\"/>\n<polyline clip-path=\"url(#clip272)\" style=\"stroke:#000000; stroke-linecap:butt; stroke-linejoin:round; stroke-width:4; stroke-opacity:1; fill:none\" points=\"\n  780.449,1447.87 780.449,1447.87 806.353,1447.87 780.449,1447.87 \n  \"/>\n<path clip-path=\"url(#clip272)\" d=\"\nM806.353 1447.87 L806.353 1447.87 L832.257 1447.87 L832.257 1447.87 L806.353 1447.87 L806.353 1447.87  Z\n  \" fill=\"#e26f46\" fill-rule=\"evenodd\" fill-opacity=\"0.1\"/>\n<polyline clip-path=\"url(#clip272)\" style=\"stroke:#000000; stroke-linecap:butt; stroke-linejoin:round; stroke-width:4; stroke-opacity:1; fill:none\" points=\"\n  806.353,1447.87 806.353,1447.87 832.257,1447.87 806.353,1447.87 \n  \"/>\n<path clip-path=\"url(#clip272)\" d=\"\nM832.257 1447.87 L832.257 1447.87 L858.161 1447.87 L858.161 1447.87 L832.257 1447.87 L832.257 1447.87  Z\n  \" fill=\"#e26f46\" fill-rule=\"evenodd\" fill-opacity=\"0.1\"/>\n<polyline clip-path=\"url(#clip272)\" style=\"stroke:#000000; stroke-linecap:butt; stroke-linejoin:round; stroke-width:4; stroke-opacity:1; fill:none\" points=\"\n  832.257,1447.87 832.257,1447.87 858.161,1447.87 832.257,1447.87 \n  \"/>\n<path clip-path=\"url(#clip272)\" d=\"\nM858.161 1383.58 L858.161 1447.87 L884.066 1447.87 L884.066 1383.58 L858.161 1383.58 L858.161 1383.58  Z\n  \" fill=\"#e26f46\" fill-rule=\"evenodd\" fill-opacity=\"0.1\"/>\n<polyline clip-path=\"url(#clip272)\" style=\"stroke:#000000; stroke-linecap:butt; stroke-linejoin:round; stroke-width:4; stroke-opacity:1; fill:none\" points=\"\n  858.161,1383.58 858.161,1447.87 884.066,1447.87 884.066,1383.58 858.161,1383.58 \n  \"/>\n<path clip-path=\"url(#clip272)\" d=\"\nM884.066 1447.87 L884.066 1447.87 L909.97 1447.87 L909.97 1447.87 L884.066 1447.87 L884.066 1447.87  Z\n  \" fill=\"#e26f46\" fill-rule=\"evenodd\" fill-opacity=\"0.1\"/>\n<polyline clip-path=\"url(#clip272)\" style=\"stroke:#000000; stroke-linecap:butt; stroke-linejoin:round; stroke-width:4; stroke-opacity:1; fill:none\" points=\"\n  884.066,1447.87 884.066,1447.87 909.97,1447.87 884.066,1447.87 \n  \"/>\n<path clip-path=\"url(#clip272)\" d=\"\nM909.97 1447.87 L909.97 1447.87 L935.874 1447.87 L935.874 1447.87 L909.97 1447.87 L909.97 1447.87  Z\n  \" fill=\"#e26f46\" fill-rule=\"evenodd\" fill-opacity=\"0.1\"/>\n<polyline clip-path=\"url(#clip272)\" style=\"stroke:#000000; stroke-linecap:butt; stroke-linejoin:round; stroke-width:4; stroke-opacity:1; fill:none\" points=\"\n  909.97,1447.87 909.97,1447.87 935.874,1447.87 909.97,1447.87 \n  \"/>\n<path clip-path=\"url(#clip272)\" d=\"\nM935.874 1447.87 L935.874 1447.87 L961.779 1447.87 L961.779 1447.87 L935.874 1447.87 L935.874 1447.87  Z\n  \" fill=\"#e26f46\" fill-rule=\"evenodd\" fill-opacity=\"0.1\"/>\n<polyline clip-path=\"url(#clip272)\" style=\"stroke:#000000; stroke-linecap:butt; stroke-linejoin:round; stroke-width:4; stroke-opacity:1; fill:none\" points=\"\n  935.874,1447.87 935.874,1447.87 961.779,1447.87 935.874,1447.87 \n  \"/>\n<path clip-path=\"url(#clip272)\" d=\"\nM961.779 1447.87 L961.779 1447.87 L987.683 1447.87 L987.683 1447.87 L961.779 1447.87 L961.779 1447.87  Z\n  \" fill=\"#e26f46\" fill-rule=\"evenodd\" fill-opacity=\"0.1\"/>\n<polyline clip-path=\"url(#clip272)\" style=\"stroke:#000000; stroke-linecap:butt; stroke-linejoin:round; stroke-width:4; stroke-opacity:1; fill:none\" points=\"\n  961.779,1447.87 961.779,1447.87 987.683,1447.87 961.779,1447.87 \n  \"/>\n<path clip-path=\"url(#clip272)\" d=\"\nM987.683 1447.87 L987.683 1447.87 L1013.59 1447.87 L1013.59 1447.87 L987.683 1447.87 L987.683 1447.87  Z\n  \" fill=\"#e26f46\" fill-rule=\"evenodd\" fill-opacity=\"0.1\"/>\n<polyline clip-path=\"url(#clip272)\" style=\"stroke:#000000; stroke-linecap:butt; stroke-linejoin:round; stroke-width:4; stroke-opacity:1; fill:none\" points=\"\n  987.683,1447.87 987.683,1447.87 1013.59,1447.87 987.683,1447.87 \n  \"/>\n<path clip-path=\"url(#clip272)\" d=\"\nM1013.59 1383.58 L1013.59 1447.87 L1039.49 1447.87 L1039.49 1383.58 L1013.59 1383.58 L1013.59 1383.58  Z\n  \" fill=\"#e26f46\" fill-rule=\"evenodd\" fill-opacity=\"0.1\"/>\n<polyline clip-path=\"url(#clip272)\" style=\"stroke:#000000; stroke-linecap:butt; stroke-linejoin:round; stroke-width:4; stroke-opacity:1; fill:none\" points=\"\n  1013.59,1383.58 1013.59,1447.87 1039.49,1447.87 1039.49,1383.58 1013.59,1383.58 \n  \"/>\n<path clip-path=\"url(#clip272)\" d=\"\nM1039.49 1447.87 L1039.49 1447.87 L1065.4 1447.87 L1065.4 1447.87 L1039.49 1447.87 L1039.49 1447.87  Z\n  \" fill=\"#e26f46\" fill-rule=\"evenodd\" fill-opacity=\"0.1\"/>\n<polyline clip-path=\"url(#clip272)\" style=\"stroke:#000000; stroke-linecap:butt; stroke-linejoin:round; stroke-width:4; stroke-opacity:1; fill:none\" points=\"\n  1039.49,1447.87 1039.49,1447.87 1065.4,1447.87 1039.49,1447.87 \n  \"/>\n<path clip-path=\"url(#clip272)\" d=\"\nM1065.4 1447.87 L1065.4 1447.87 L1091.3 1447.87 L1091.3 1447.87 L1065.4 1447.87 L1065.4 1447.87  Z\n  \" fill=\"#e26f46\" fill-rule=\"evenodd\" fill-opacity=\"0.1\"/>\n<polyline clip-path=\"url(#clip272)\" style=\"stroke:#000000; stroke-linecap:butt; stroke-linejoin:round; stroke-width:4; stroke-opacity:1; fill:none\" points=\"\n  1065.4,1447.87 1065.4,1447.87 1091.3,1447.87 1065.4,1447.87 \n  \"/>\n<path clip-path=\"url(#clip272)\" d=\"\nM1091.3 1447.87 L1091.3 1447.87 L1117.2 1447.87 L1117.2 1447.87 L1091.3 1447.87 L1091.3 1447.87  Z\n  \" fill=\"#e26f46\" fill-rule=\"evenodd\" fill-opacity=\"0.1\"/>\n<polyline clip-path=\"url(#clip272)\" style=\"stroke:#000000; stroke-linecap:butt; stroke-linejoin:round; stroke-width:4; stroke-opacity:1; fill:none\" points=\"\n  1091.3,1447.87 1091.3,1447.87 1117.2,1447.87 1091.3,1447.87 \n  \"/>\n<path clip-path=\"url(#clip272)\" d=\"\nM1117.2 1447.87 L1117.2 1447.87 L1143.11 1447.87 L1143.11 1447.87 L1117.2 1447.87 L1117.2 1447.87  Z\n  \" fill=\"#e26f46\" fill-rule=\"evenodd\" fill-opacity=\"0.1\"/>\n<polyline clip-path=\"url(#clip272)\" style=\"stroke:#000000; stroke-linecap:butt; stroke-linejoin:round; stroke-width:4; stroke-opacity:1; fill:none\" points=\"\n  1117.2,1447.87 1117.2,1447.87 1143.11,1447.87 1117.2,1447.87 \n  \"/>\n<path clip-path=\"url(#clip272)\" d=\"\nM1143.11 1447.87 L1143.11 1447.87 L1169.01 1447.87 L1169.01 1447.87 L1143.11 1447.87 L1143.11 1447.87  Z\n  \" fill=\"#e26f46\" fill-rule=\"evenodd\" fill-opacity=\"0.1\"/>\n<polyline clip-path=\"url(#clip272)\" style=\"stroke:#000000; stroke-linecap:butt; stroke-linejoin:round; stroke-width:4; stroke-opacity:1; fill:none\" points=\"\n  1143.11,1447.87 1143.11,1447.87 1169.01,1447.87 1143.11,1447.87 \n  \"/>\n<path clip-path=\"url(#clip272)\" d=\"\nM1169.01 1447.87 L1169.01 1447.87 L1194.92 1447.87 L1194.92 1447.87 L1169.01 1447.87 L1169.01 1447.87  Z\n  \" fill=\"#e26f46\" fill-rule=\"evenodd\" fill-opacity=\"0.1\"/>\n<polyline clip-path=\"url(#clip272)\" style=\"stroke:#000000; stroke-linecap:butt; stroke-linejoin:round; stroke-width:4; stroke-opacity:1; fill:none\" points=\"\n  1169.01,1447.87 1169.01,1447.87 1194.92,1447.87 1169.01,1447.87 \n  \"/>\n<path clip-path=\"url(#clip272)\" d=\"\nM1194.92 1447.87 L1194.92 1447.87 L1220.82 1447.87 L1220.82 1447.87 L1194.92 1447.87 L1194.92 1447.87  Z\n  \" fill=\"#e26f46\" fill-rule=\"evenodd\" fill-opacity=\"0.1\"/>\n<polyline clip-path=\"url(#clip272)\" style=\"stroke:#000000; stroke-linecap:butt; stroke-linejoin:round; stroke-width:4; stroke-opacity:1; fill:none\" points=\"\n  1194.92,1447.87 1194.92,1447.87 1220.82,1447.87 1194.92,1447.87 \n  \"/>\n<path clip-path=\"url(#clip272)\" d=\"\nM1220.82 1447.87 L1220.82 1447.87 L1246.73 1447.87 L1246.73 1447.87 L1220.82 1447.87 L1220.82 1447.87  Z\n  \" fill=\"#e26f46\" fill-rule=\"evenodd\" fill-opacity=\"0.1\"/>\n<polyline clip-path=\"url(#clip272)\" style=\"stroke:#000000; stroke-linecap:butt; stroke-linejoin:round; stroke-width:4; stroke-opacity:1; fill:none\" points=\"\n  1220.82,1447.87 1220.82,1447.87 1246.73,1447.87 1220.82,1447.87 \n  \"/>\n<path clip-path=\"url(#clip272)\" d=\"\nM1246.73 1447.87 L1246.73 1447.87 L1272.63 1447.87 L1272.63 1447.87 L1246.73 1447.87 L1246.73 1447.87  Z\n  \" fill=\"#e26f46\" fill-rule=\"evenodd\" fill-opacity=\"0.1\"/>\n<polyline clip-path=\"url(#clip272)\" style=\"stroke:#000000; stroke-linecap:butt; stroke-linejoin:round; stroke-width:4; stroke-opacity:1; fill:none\" points=\"\n  1246.73,1447.87 1246.73,1447.87 1272.63,1447.87 1246.73,1447.87 \n  \"/>\n<path clip-path=\"url(#clip272)\" d=\"\nM1272.63 1383.58 L1272.63 1447.87 L1298.53 1447.87 L1298.53 1383.58 L1272.63 1383.58 L1272.63 1383.58  Z\n  \" fill=\"#e26f46\" fill-rule=\"evenodd\" fill-opacity=\"0.1\"/>\n<polyline clip-path=\"url(#clip272)\" style=\"stroke:#000000; stroke-linecap:butt; stroke-linejoin:round; stroke-width:4; stroke-opacity:1; fill:none\" points=\"\n  1272.63,1383.58 1272.63,1447.87 1298.53,1447.87 1298.53,1383.58 1272.63,1383.58 \n  \"/>\n<path clip-path=\"url(#clip272)\" d=\"\nM1298.53 1447.87 L1298.53 1447.87 L1324.44 1447.87 L1324.44 1447.87 L1298.53 1447.87 L1298.53 1447.87  Z\n  \" fill=\"#e26f46\" fill-rule=\"evenodd\" fill-opacity=\"0.1\"/>\n<polyline clip-path=\"url(#clip272)\" style=\"stroke:#000000; stroke-linecap:butt; stroke-linejoin:round; stroke-width:4; stroke-opacity:1; fill:none\" points=\"\n  1298.53,1447.87 1298.53,1447.87 1324.44,1447.87 1298.53,1447.87 \n  \"/>\n<path clip-path=\"url(#clip272)\" d=\"\nM1324.44 1447.87 L1324.44 1447.87 L1350.34 1447.87 L1350.34 1447.87 L1324.44 1447.87 L1324.44 1447.87  Z\n  \" fill=\"#e26f46\" fill-rule=\"evenodd\" fill-opacity=\"0.1\"/>\n<polyline clip-path=\"url(#clip272)\" style=\"stroke:#000000; stroke-linecap:butt; stroke-linejoin:round; stroke-width:4; stroke-opacity:1; fill:none\" points=\"\n  1324.44,1447.87 1324.44,1447.87 1350.34,1447.87 1324.44,1447.87 \n  \"/>\n<path clip-path=\"url(#clip272)\" d=\"\nM1350.34 1447.87 L1350.34 1447.87 L1376.25 1447.87 L1376.25 1447.87 L1350.34 1447.87 L1350.34 1447.87  Z\n  \" fill=\"#e26f46\" fill-rule=\"evenodd\" fill-opacity=\"0.1\"/>\n<polyline clip-path=\"url(#clip272)\" style=\"stroke:#000000; stroke-linecap:butt; stroke-linejoin:round; stroke-width:4; stroke-opacity:1; fill:none\" points=\"\n  1350.34,1447.87 1350.34,1447.87 1376.25,1447.87 1350.34,1447.87 \n  \"/>\n<path clip-path=\"url(#clip272)\" d=\"\nM1376.25 1383.58 L1376.25 1447.87 L1402.15 1447.87 L1402.15 1383.58 L1376.25 1383.58 L1376.25 1383.58  Z\n  \" fill=\"#e26f46\" fill-rule=\"evenodd\" fill-opacity=\"0.1\"/>\n<polyline clip-path=\"url(#clip272)\" style=\"stroke:#000000; stroke-linecap:butt; stroke-linejoin:round; stroke-width:4; stroke-opacity:1; fill:none\" points=\"\n  1376.25,1383.58 1376.25,1447.87 1402.15,1447.87 1402.15,1383.58 1376.25,1383.58 \n  \"/>\n<path clip-path=\"url(#clip272)\" d=\"\nM1402.15 1447.87 L1402.15 1447.87 L1428.06 1447.87 L1428.06 1447.87 L1402.15 1447.87 L1402.15 1447.87  Z\n  \" fill=\"#e26f46\" fill-rule=\"evenodd\" fill-opacity=\"0.1\"/>\n<polyline clip-path=\"url(#clip272)\" style=\"stroke:#000000; stroke-linecap:butt; stroke-linejoin:round; stroke-width:4; stroke-opacity:1; fill:none\" points=\"\n  1402.15,1447.87 1402.15,1447.87 1428.06,1447.87 1402.15,1447.87 \n  \"/>\n<path clip-path=\"url(#clip272)\" d=\"\nM1428.06 1383.58 L1428.06 1447.87 L1453.96 1447.87 L1453.96 1383.58 L1428.06 1383.58 L1428.06 1383.58  Z\n  \" fill=\"#e26f46\" fill-rule=\"evenodd\" fill-opacity=\"0.1\"/>\n<polyline clip-path=\"url(#clip272)\" style=\"stroke:#000000; stroke-linecap:butt; stroke-linejoin:round; stroke-width:4; stroke-opacity:1; fill:none\" points=\"\n  1428.06,1383.58 1428.06,1447.87 1453.96,1447.87 1453.96,1383.58 1428.06,1383.58 \n  \"/>\n<path clip-path=\"url(#clip272)\" d=\"\nM1453.96 1447.87 L1453.96 1447.87 L1479.86 1447.87 L1479.86 1447.87 L1453.96 1447.87 L1453.96 1447.87  Z\n  \" fill=\"#e26f46\" fill-rule=\"evenodd\" fill-opacity=\"0.1\"/>\n<polyline clip-path=\"url(#clip272)\" style=\"stroke:#000000; stroke-linecap:butt; stroke-linejoin:round; stroke-width:4; stroke-opacity:1; fill:none\" points=\"\n  1453.96,1447.87 1453.96,1447.87 1479.86,1447.87 1453.96,1447.87 \n  \"/>\n<path clip-path=\"url(#clip272)\" d=\"\nM1479.86 1447.87 L1479.86 1447.87 L1505.77 1447.87 L1505.77 1447.87 L1479.86 1447.87 L1479.86 1447.87  Z\n  \" fill=\"#e26f46\" fill-rule=\"evenodd\" fill-opacity=\"0.1\"/>\n<polyline clip-path=\"url(#clip272)\" style=\"stroke:#000000; stroke-linecap:butt; stroke-linejoin:round; stroke-width:4; stroke-opacity:1; fill:none\" points=\"\n  1479.86,1447.87 1479.86,1447.87 1505.77,1447.87 1479.86,1447.87 \n  \"/>\n<path clip-path=\"url(#clip272)\" d=\"\nM1505.77 1447.87 L1505.77 1447.87 L1531.67 1447.87 L1531.67 1447.87 L1505.77 1447.87 L1505.77 1447.87  Z\n  \" fill=\"#e26f46\" fill-rule=\"evenodd\" fill-opacity=\"0.1\"/>\n<polyline clip-path=\"url(#clip272)\" style=\"stroke:#000000; stroke-linecap:butt; stroke-linejoin:round; stroke-width:4; stroke-opacity:1; fill:none\" points=\"\n  1505.77,1447.87 1505.77,1447.87 1531.67,1447.87 1505.77,1447.87 \n  \"/>\n<path clip-path=\"url(#clip272)\" d=\"\nM1531.67 1447.87 L1531.67 1447.87 L1557.58 1447.87 L1557.58 1447.87 L1531.67 1447.87 L1531.67 1447.87  Z\n  \" fill=\"#e26f46\" fill-rule=\"evenodd\" fill-opacity=\"0.1\"/>\n<polyline clip-path=\"url(#clip272)\" style=\"stroke:#000000; stroke-linecap:butt; stroke-linejoin:round; stroke-width:4; stroke-opacity:1; fill:none\" points=\"\n  1531.67,1447.87 1531.67,1447.87 1557.58,1447.87 1531.67,1447.87 \n  \"/>\n<path clip-path=\"url(#clip272)\" d=\"\nM1557.58 1447.87 L1557.58 1447.87 L1583.48 1447.87 L1583.48 1447.87 L1557.58 1447.87 L1557.58 1447.87  Z\n  \" fill=\"#e26f46\" fill-rule=\"evenodd\" fill-opacity=\"0.1\"/>\n<polyline clip-path=\"url(#clip272)\" style=\"stroke:#000000; stroke-linecap:butt; stroke-linejoin:round; stroke-width:4; stroke-opacity:1; fill:none\" points=\"\n  1557.58,1447.87 1557.58,1447.87 1583.48,1447.87 1557.58,1447.87 \n  \"/>\n<path clip-path=\"url(#clip272)\" d=\"\nM1583.48 1447.87 L1583.48 1447.87 L1609.39 1447.87 L1609.39 1447.87 L1583.48 1447.87 L1583.48 1447.87  Z\n  \" fill=\"#e26f46\" fill-rule=\"evenodd\" fill-opacity=\"0.1\"/>\n<polyline clip-path=\"url(#clip272)\" style=\"stroke:#000000; stroke-linecap:butt; stroke-linejoin:round; stroke-width:4; stroke-opacity:1; fill:none\" points=\"\n  1583.48,1447.87 1583.48,1447.87 1609.39,1447.87 1583.48,1447.87 \n  \"/>\n<path clip-path=\"url(#clip272)\" d=\"\nM1609.39 1447.87 L1609.39 1447.87 L1635.29 1447.87 L1635.29 1447.87 L1609.39 1447.87 L1609.39 1447.87  Z\n  \" fill=\"#e26f46\" fill-rule=\"evenodd\" fill-opacity=\"0.1\"/>\n<polyline clip-path=\"url(#clip272)\" style=\"stroke:#000000; stroke-linecap:butt; stroke-linejoin:round; stroke-width:4; stroke-opacity:1; fill:none\" points=\"\n  1609.39,1447.87 1609.39,1447.87 1635.29,1447.87 1609.39,1447.87 \n  \"/>\n<path clip-path=\"url(#clip272)\" d=\"\nM1635.29 1447.87 L1635.29 1447.87 L1661.19 1447.87 L1661.19 1447.87 L1635.29 1447.87 L1635.29 1447.87  Z\n  \" fill=\"#e26f46\" fill-rule=\"evenodd\" fill-opacity=\"0.1\"/>\n<polyline clip-path=\"url(#clip272)\" style=\"stroke:#000000; stroke-linecap:butt; stroke-linejoin:round; stroke-width:4; stroke-opacity:1; fill:none\" points=\"\n  1635.29,1447.87 1635.29,1447.87 1661.19,1447.87 1635.29,1447.87 \n  \"/>\n<path clip-path=\"url(#clip272)\" d=\"\nM1661.19 1447.87 L1661.19 1447.87 L1687.1 1447.87 L1687.1 1447.87 L1661.19 1447.87 L1661.19 1447.87  Z\n  \" fill=\"#e26f46\" fill-rule=\"evenodd\" fill-opacity=\"0.1\"/>\n<polyline clip-path=\"url(#clip272)\" style=\"stroke:#000000; stroke-linecap:butt; stroke-linejoin:round; stroke-width:4; stroke-opacity:1; fill:none\" points=\"\n  1661.19,1447.87 1661.19,1447.87 1687.1,1447.87 1661.19,1447.87 \n  \"/>\n<path clip-path=\"url(#clip272)\" d=\"\nM1687.1 1447.87 L1687.1 1447.87 L1713 1447.87 L1713 1447.87 L1687.1 1447.87 L1687.1 1447.87  Z\n  \" fill=\"#e26f46\" fill-rule=\"evenodd\" fill-opacity=\"0.1\"/>\n<polyline clip-path=\"url(#clip272)\" style=\"stroke:#000000; stroke-linecap:butt; stroke-linejoin:round; stroke-width:4; stroke-opacity:1; fill:none\" points=\"\n  1687.1,1447.87 1687.1,1447.87 1713,1447.87 1687.1,1447.87 \n  \"/>\n<path clip-path=\"url(#clip272)\" d=\"\nM1713 1447.87 L1713 1447.87 L1738.91 1447.87 L1738.91 1447.87 L1713 1447.87 L1713 1447.87  Z\n  \" fill=\"#e26f46\" fill-rule=\"evenodd\" fill-opacity=\"0.1\"/>\n<polyline clip-path=\"url(#clip272)\" style=\"stroke:#000000; stroke-linecap:butt; stroke-linejoin:round; stroke-width:4; stroke-opacity:1; fill:none\" points=\"\n  1713,1447.87 1713,1447.87 1738.91,1447.87 1713,1447.87 \n  \"/>\n<path clip-path=\"url(#clip272)\" d=\"\nM1738.91 1447.87 L1738.91 1447.87 L1764.81 1447.87 L1764.81 1447.87 L1738.91 1447.87 L1738.91 1447.87  Z\n  \" fill=\"#e26f46\" fill-rule=\"evenodd\" fill-opacity=\"0.1\"/>\n<polyline clip-path=\"url(#clip272)\" style=\"stroke:#000000; stroke-linecap:butt; stroke-linejoin:round; stroke-width:4; stroke-opacity:1; fill:none\" points=\"\n  1738.91,1447.87 1738.91,1447.87 1764.81,1447.87 1738.91,1447.87 \n  \"/>\n<path clip-path=\"url(#clip272)\" d=\"\nM1764.81 1447.87 L1764.81 1447.87 L1790.72 1447.87 L1790.72 1447.87 L1764.81 1447.87 L1764.81 1447.87  Z\n  \" fill=\"#e26f46\" fill-rule=\"evenodd\" fill-opacity=\"0.1\"/>\n<polyline clip-path=\"url(#clip272)\" style=\"stroke:#000000; stroke-linecap:butt; stroke-linejoin:round; stroke-width:4; stroke-opacity:1; fill:none\" points=\"\n  1764.81,1447.87 1764.81,1447.87 1790.72,1447.87 1764.81,1447.87 \n  \"/>\n<path clip-path=\"url(#clip272)\" d=\"\nM1790.72 1447.87 L1790.72 1447.87 L1816.62 1447.87 L1816.62 1447.87 L1790.72 1447.87 L1790.72 1447.87  Z\n  \" fill=\"#e26f46\" fill-rule=\"evenodd\" fill-opacity=\"0.1\"/>\n<polyline clip-path=\"url(#clip272)\" style=\"stroke:#000000; stroke-linecap:butt; stroke-linejoin:round; stroke-width:4; stroke-opacity:1; fill:none\" points=\"\n  1790.72,1447.87 1790.72,1447.87 1816.62,1447.87 1790.72,1447.87 \n  \"/>\n<path clip-path=\"url(#clip272)\" d=\"\nM1816.62 1447.87 L1816.62 1447.87 L1842.52 1447.87 L1842.52 1447.87 L1816.62 1447.87 L1816.62 1447.87  Z\n  \" fill=\"#e26f46\" fill-rule=\"evenodd\" fill-opacity=\"0.1\"/>\n<polyline clip-path=\"url(#clip272)\" style=\"stroke:#000000; stroke-linecap:butt; stroke-linejoin:round; stroke-width:4; stroke-opacity:1; fill:none\" points=\"\n  1816.62,1447.87 1816.62,1447.87 1842.52,1447.87 1816.62,1447.87 \n  \"/>\n<path clip-path=\"url(#clip272)\" d=\"\nM1842.52 1447.87 L1842.52 1447.87 L1868.43 1447.87 L1868.43 1447.87 L1842.52 1447.87 L1842.52 1447.87  Z\n  \" fill=\"#e26f46\" fill-rule=\"evenodd\" fill-opacity=\"0.1\"/>\n<polyline clip-path=\"url(#clip272)\" style=\"stroke:#000000; stroke-linecap:butt; stroke-linejoin:round; stroke-width:4; stroke-opacity:1; fill:none\" points=\"\n  1842.52,1447.87 1842.52,1447.87 1868.43,1447.87 1842.52,1447.87 \n  \"/>\n<path clip-path=\"url(#clip272)\" d=\"\nM1868.43 1447.87 L1868.43 1447.87 L1894.33 1447.87 L1894.33 1447.87 L1868.43 1447.87 L1868.43 1447.87  Z\n  \" fill=\"#e26f46\" fill-rule=\"evenodd\" fill-opacity=\"0.1\"/>\n<polyline clip-path=\"url(#clip272)\" style=\"stroke:#000000; stroke-linecap:butt; stroke-linejoin:round; stroke-width:4; stroke-opacity:1; fill:none\" points=\"\n  1868.43,1447.87 1868.43,1447.87 1894.33,1447.87 1868.43,1447.87 \n  \"/>\n<path clip-path=\"url(#clip272)\" d=\"\nM1894.33 1447.87 L1894.33 1447.87 L1920.24 1447.87 L1920.24 1447.87 L1894.33 1447.87 L1894.33 1447.87  Z\n  \" fill=\"#e26f46\" fill-rule=\"evenodd\" fill-opacity=\"0.1\"/>\n<polyline clip-path=\"url(#clip272)\" style=\"stroke:#000000; stroke-linecap:butt; stroke-linejoin:round; stroke-width:4; stroke-opacity:1; fill:none\" points=\"\n  1894.33,1447.87 1894.33,1447.87 1920.24,1447.87 1894.33,1447.87 \n  \"/>\n<path clip-path=\"url(#clip272)\" d=\"\nM1920.24 1447.87 L1920.24 1447.87 L1946.14 1447.87 L1946.14 1447.87 L1920.24 1447.87 L1920.24 1447.87  Z\n  \" fill=\"#e26f46\" fill-rule=\"evenodd\" fill-opacity=\"0.1\"/>\n<polyline clip-path=\"url(#clip272)\" style=\"stroke:#000000; stroke-linecap:butt; stroke-linejoin:round; stroke-width:4; stroke-opacity:1; fill:none\" points=\"\n  1920.24,1447.87 1920.24,1447.87 1946.14,1447.87 1920.24,1447.87 \n  \"/>\n<path clip-path=\"url(#clip272)\" d=\"\nM1946.14 1447.87 L1946.14 1447.87 L1972.05 1447.87 L1972.05 1447.87 L1946.14 1447.87 L1946.14 1447.87  Z\n  \" fill=\"#e26f46\" fill-rule=\"evenodd\" fill-opacity=\"0.1\"/>\n<polyline clip-path=\"url(#clip272)\" style=\"stroke:#000000; stroke-linecap:butt; stroke-linejoin:round; stroke-width:4; stroke-opacity:1; fill:none\" points=\"\n  1946.14,1447.87 1946.14,1447.87 1972.05,1447.87 1946.14,1447.87 \n  \"/>\n<path clip-path=\"url(#clip272)\" d=\"\nM1972.05 1447.87 L1972.05 1447.87 L1997.95 1447.87 L1997.95 1447.87 L1972.05 1447.87 L1972.05 1447.87  Z\n  \" fill=\"#e26f46\" fill-rule=\"evenodd\" fill-opacity=\"0.1\"/>\n<polyline clip-path=\"url(#clip272)\" style=\"stroke:#000000; stroke-linecap:butt; stroke-linejoin:round; stroke-width:4; stroke-opacity:1; fill:none\" points=\"\n  1972.05,1447.87 1972.05,1447.87 1997.95,1447.87 1972.05,1447.87 \n  \"/>\n<path clip-path=\"url(#clip272)\" d=\"\nM1997.95 1447.87 L1997.95 1447.87 L2023.85 1447.87 L2023.85 1447.87 L1997.95 1447.87 L1997.95 1447.87  Z\n  \" fill=\"#e26f46\" fill-rule=\"evenodd\" fill-opacity=\"0.1\"/>\n<polyline clip-path=\"url(#clip272)\" style=\"stroke:#000000; stroke-linecap:butt; stroke-linejoin:round; stroke-width:4; stroke-opacity:1; fill:none\" points=\"\n  1997.95,1447.87 1997.95,1447.87 2023.85,1447.87 1997.95,1447.87 \n  \"/>\n<path clip-path=\"url(#clip272)\" d=\"\nM2023.85 1447.87 L2023.85 1447.87 L2049.76 1447.87 L2049.76 1447.87 L2023.85 1447.87 L2023.85 1447.87  Z\n  \" fill=\"#e26f46\" fill-rule=\"evenodd\" fill-opacity=\"0.1\"/>\n<polyline clip-path=\"url(#clip272)\" style=\"stroke:#000000; stroke-linecap:butt; stroke-linejoin:round; stroke-width:4; stroke-opacity:1; fill:none\" points=\"\n  2023.85,1447.87 2023.85,1447.87 2049.76,1447.87 2023.85,1447.87 \n  \"/>\n<path clip-path=\"url(#clip272)\" d=\"\nM2049.76 1447.87 L2049.76 1447.87 L2075.66 1447.87 L2075.66 1447.87 L2049.76 1447.87 L2049.76 1447.87  Z\n  \" fill=\"#e26f46\" fill-rule=\"evenodd\" fill-opacity=\"0.1\"/>\n<polyline clip-path=\"url(#clip272)\" style=\"stroke:#000000; stroke-linecap:butt; stroke-linejoin:round; stroke-width:4; stroke-opacity:1; fill:none\" points=\"\n  2049.76,1447.87 2049.76,1447.87 2075.66,1447.87 2049.76,1447.87 \n  \"/>\n<path clip-path=\"url(#clip272)\" d=\"\nM2075.66 1447.87 L2075.66 1447.87 L2101.57 1447.87 L2101.57 1447.87 L2075.66 1447.87 L2075.66 1447.87  Z\n  \" fill=\"#e26f46\" fill-rule=\"evenodd\" fill-opacity=\"0.1\"/>\n<polyline clip-path=\"url(#clip272)\" style=\"stroke:#000000; stroke-linecap:butt; stroke-linejoin:round; stroke-width:4; stroke-opacity:1; fill:none\" points=\"\n  2075.66,1447.87 2075.66,1447.87 2101.57,1447.87 2075.66,1447.87 \n  \"/>\n<path clip-path=\"url(#clip272)\" d=\"\nM2101.57 1447.87 L2101.57 1447.87 L2127.47 1447.87 L2127.47 1447.87 L2101.57 1447.87 L2101.57 1447.87  Z\n  \" fill=\"#e26f46\" fill-rule=\"evenodd\" fill-opacity=\"0.1\"/>\n<polyline clip-path=\"url(#clip272)\" style=\"stroke:#000000; stroke-linecap:butt; stroke-linejoin:round; stroke-width:4; stroke-opacity:1; fill:none\" points=\"\n  2101.57,1447.87 2101.57,1447.87 2127.47,1447.87 2101.57,1447.87 \n  \"/>\n<path clip-path=\"url(#clip272)\" d=\"\nM2127.47 1447.87 L2127.47 1447.87 L2153.38 1447.87 L2153.38 1447.87 L2127.47 1447.87 L2127.47 1447.87  Z\n  \" fill=\"#e26f46\" fill-rule=\"evenodd\" fill-opacity=\"0.1\"/>\n<polyline clip-path=\"url(#clip272)\" style=\"stroke:#000000; stroke-linecap:butt; stroke-linejoin:round; stroke-width:4; stroke-opacity:1; fill:none\" points=\"\n  2127.47,1447.87 2127.47,1447.87 2153.38,1447.87 2127.47,1447.87 \n  \"/>\n<path clip-path=\"url(#clip272)\" d=\"\nM2153.38 1447.87 L2153.38 1447.87 L2179.28 1447.87 L2179.28 1447.87 L2153.38 1447.87 L2153.38 1447.87  Z\n  \" fill=\"#e26f46\" fill-rule=\"evenodd\" fill-opacity=\"0.1\"/>\n<polyline clip-path=\"url(#clip272)\" style=\"stroke:#000000; stroke-linecap:butt; stroke-linejoin:round; stroke-width:4; stroke-opacity:1; fill:none\" points=\"\n  2153.38,1447.87 2153.38,1447.87 2179.28,1447.87 2153.38,1447.87 \n  \"/>\n<path clip-path=\"url(#clip272)\" d=\"\nM2179.28 1447.87 L2179.28 1447.87 L2205.18 1447.87 L2205.18 1447.87 L2179.28 1447.87 L2179.28 1447.87  Z\n  \" fill=\"#e26f46\" fill-rule=\"evenodd\" fill-opacity=\"0.1\"/>\n<polyline clip-path=\"url(#clip272)\" style=\"stroke:#000000; stroke-linecap:butt; stroke-linejoin:round; stroke-width:4; stroke-opacity:1; fill:none\" points=\"\n  2179.28,1447.87 2179.28,1447.87 2205.18,1447.87 2179.28,1447.87 \n  \"/>\n<path clip-path=\"url(#clip272)\" d=\"\nM2205.18 1383.58 L2205.18 1447.87 L2231.09 1447.87 L2231.09 1383.58 L2205.18 1383.58 L2205.18 1383.58  Z\n  \" fill=\"#e26f46\" fill-rule=\"evenodd\" fill-opacity=\"0.1\"/>\n<polyline clip-path=\"url(#clip272)\" style=\"stroke:#000000; stroke-linecap:butt; stroke-linejoin:round; stroke-width:4; stroke-opacity:1; fill:none\" points=\"\n  2205.18,1383.58 2205.18,1447.87 2231.09,1447.87 2231.09,1383.58 2205.18,1383.58 \n  \"/>\n<circle clip-path=\"url(#clip272)\" style=\"fill:#e26f46; stroke:none; fill-opacity:0\" cx=\"275.315\" cy=\"162.047\" r=\"2\"/>\n<circle clip-path=\"url(#clip272)\" style=\"fill:#e26f46; stroke:none; fill-opacity:0\" cx=\"301.219\" cy=\"419.212\" r=\"2\"/>\n<circle clip-path=\"url(#clip272)\" style=\"fill:#e26f46; stroke:none; fill-opacity:0\" cx=\"327.124\" cy=\"419.212\" r=\"2\"/>\n<circle clip-path=\"url(#clip272)\" style=\"fill:#e26f46; stroke:none; fill-opacity:0\" cx=\"353.028\" cy=\"933.543\" r=\"2\"/>\n<circle clip-path=\"url(#clip272)\" style=\"fill:#e26f46; stroke:none; fill-opacity:0\" cx=\"378.932\" cy=\"933.543\" r=\"2\"/>\n<circle clip-path=\"url(#clip272)\" style=\"fill:#e26f46; stroke:none; fill-opacity:0\" cx=\"404.836\" cy=\"1255\" r=\"2\"/>\n<circle clip-path=\"url(#clip272)\" style=\"fill:#e26f46; stroke:none; fill-opacity:0\" cx=\"430.741\" cy=\"1126.42\" r=\"2\"/>\n<circle clip-path=\"url(#clip272)\" style=\"fill:#e26f46; stroke:none; fill-opacity:0\" cx=\"456.645\" cy=\"1062.13\" r=\"2\"/>\n<circle clip-path=\"url(#clip272)\" style=\"fill:#e26f46; stroke:none; fill-opacity:0\" cx=\"482.549\" cy=\"1383.58\" r=\"2\"/>\n<circle clip-path=\"url(#clip272)\" style=\"fill:#e26f46; stroke:none; fill-opacity:0\" cx=\"508.454\" cy=\"1255\" r=\"2\"/>\n<circle clip-path=\"url(#clip272)\" style=\"fill:#e26f46; stroke:none; fill-opacity:0\" cx=\"534.358\" cy=\"1447.87\" r=\"2\"/>\n<circle clip-path=\"url(#clip272)\" style=\"fill:#e26f46; stroke:none; fill-opacity:0\" cx=\"560.262\" cy=\"1255\" r=\"2\"/>\n<circle clip-path=\"url(#clip272)\" style=\"fill:#e26f46; stroke:none; fill-opacity:0\" cx=\"586.166\" cy=\"1319.29\" r=\"2\"/>\n<circle clip-path=\"url(#clip272)\" style=\"fill:#e26f46; stroke:none; fill-opacity:0\" cx=\"612.071\" cy=\"1447.87\" r=\"2\"/>\n<circle clip-path=\"url(#clip272)\" style=\"fill:#e26f46; stroke:none; fill-opacity:0\" cx=\"637.975\" cy=\"1447.87\" r=\"2\"/>\n<circle clip-path=\"url(#clip272)\" style=\"fill:#e26f46; stroke:none; fill-opacity:0\" cx=\"663.879\" cy=\"1447.87\" r=\"2\"/>\n<circle clip-path=\"url(#clip272)\" style=\"fill:#e26f46; stroke:none; fill-opacity:0\" cx=\"689.784\" cy=\"1319.29\" r=\"2\"/>\n<circle clip-path=\"url(#clip272)\" style=\"fill:#e26f46; stroke:none; fill-opacity:0\" cx=\"715.688\" cy=\"1383.58\" r=\"2\"/>\n<circle clip-path=\"url(#clip272)\" style=\"fill:#e26f46; stroke:none; fill-opacity:0\" cx=\"741.592\" cy=\"1447.87\" r=\"2\"/>\n<circle clip-path=\"url(#clip272)\" style=\"fill:#e26f46; stroke:none; fill-opacity:0\" cx=\"767.496\" cy=\"1447.87\" r=\"2\"/>\n<circle clip-path=\"url(#clip272)\" style=\"fill:#e26f46; stroke:none; fill-opacity:0\" cx=\"793.401\" cy=\"1447.87\" r=\"2\"/>\n<circle clip-path=\"url(#clip272)\" style=\"fill:#e26f46; stroke:none; fill-opacity:0\" cx=\"819.305\" cy=\"1447.87\" r=\"2\"/>\n<circle clip-path=\"url(#clip272)\" style=\"fill:#e26f46; stroke:none; fill-opacity:0\" cx=\"845.209\" cy=\"1447.87\" r=\"2\"/>\n<circle clip-path=\"url(#clip272)\" style=\"fill:#e26f46; stroke:none; fill-opacity:0\" cx=\"871.114\" cy=\"1383.58\" r=\"2\"/>\n<circle clip-path=\"url(#clip272)\" style=\"fill:#e26f46; stroke:none; fill-opacity:0\" cx=\"897.018\" cy=\"1447.87\" r=\"2\"/>\n<circle clip-path=\"url(#clip272)\" style=\"fill:#e26f46; stroke:none; fill-opacity:0\" cx=\"922.922\" cy=\"1447.87\" r=\"2\"/>\n<circle clip-path=\"url(#clip272)\" style=\"fill:#e26f46; stroke:none; fill-opacity:0\" cx=\"948.826\" cy=\"1447.87\" r=\"2\"/>\n<circle clip-path=\"url(#clip272)\" style=\"fill:#e26f46; stroke:none; fill-opacity:0\" cx=\"974.731\" cy=\"1447.87\" r=\"2\"/>\n<circle clip-path=\"url(#clip272)\" style=\"fill:#e26f46; stroke:none; fill-opacity:0\" cx=\"1000.63\" cy=\"1447.87\" r=\"2\"/>\n<circle clip-path=\"url(#clip272)\" style=\"fill:#e26f46; stroke:none; fill-opacity:0\" cx=\"1026.54\" cy=\"1383.58\" r=\"2\"/>\n<circle clip-path=\"url(#clip272)\" style=\"fill:#e26f46; stroke:none; fill-opacity:0\" cx=\"1052.44\" cy=\"1447.87\" r=\"2\"/>\n<circle clip-path=\"url(#clip272)\" style=\"fill:#e26f46; stroke:none; fill-opacity:0\" cx=\"1078.35\" cy=\"1447.87\" r=\"2\"/>\n<circle clip-path=\"url(#clip272)\" style=\"fill:#e26f46; stroke:none; fill-opacity:0\" cx=\"1104.25\" cy=\"1447.87\" r=\"2\"/>\n<circle clip-path=\"url(#clip272)\" style=\"fill:#e26f46; stroke:none; fill-opacity:0\" cx=\"1130.16\" cy=\"1447.87\" r=\"2\"/>\n<circle clip-path=\"url(#clip272)\" style=\"fill:#e26f46; stroke:none; fill-opacity:0\" cx=\"1156.06\" cy=\"1447.87\" r=\"2\"/>\n<circle clip-path=\"url(#clip272)\" style=\"fill:#e26f46; stroke:none; fill-opacity:0\" cx=\"1181.97\" cy=\"1447.87\" r=\"2\"/>\n<circle clip-path=\"url(#clip272)\" style=\"fill:#e26f46; stroke:none; fill-opacity:0\" cx=\"1207.87\" cy=\"1447.87\" r=\"2\"/>\n<circle clip-path=\"url(#clip272)\" style=\"fill:#e26f46; stroke:none; fill-opacity:0\" cx=\"1233.77\" cy=\"1447.87\" r=\"2\"/>\n<circle clip-path=\"url(#clip272)\" style=\"fill:#e26f46; stroke:none; fill-opacity:0\" cx=\"1259.68\" cy=\"1447.87\" r=\"2\"/>\n<circle clip-path=\"url(#clip272)\" style=\"fill:#e26f46; stroke:none; fill-opacity:0\" cx=\"1285.58\" cy=\"1383.58\" r=\"2\"/>\n<circle clip-path=\"url(#clip272)\" style=\"fill:#e26f46; stroke:none; fill-opacity:0\" cx=\"1311.49\" cy=\"1447.87\" r=\"2\"/>\n<circle clip-path=\"url(#clip272)\" style=\"fill:#e26f46; stroke:none; fill-opacity:0\" cx=\"1337.39\" cy=\"1447.87\" r=\"2\"/>\n<circle clip-path=\"url(#clip272)\" style=\"fill:#e26f46; stroke:none; fill-opacity:0\" cx=\"1363.3\" cy=\"1447.87\" r=\"2\"/>\n<circle clip-path=\"url(#clip272)\" style=\"fill:#e26f46; stroke:none; fill-opacity:0\" cx=\"1389.2\" cy=\"1383.58\" r=\"2\"/>\n<circle clip-path=\"url(#clip272)\" style=\"fill:#e26f46; stroke:none; fill-opacity:0\" cx=\"1415.1\" cy=\"1447.87\" r=\"2\"/>\n<circle clip-path=\"url(#clip272)\" style=\"fill:#e26f46; stroke:none; fill-opacity:0\" cx=\"1441.01\" cy=\"1383.58\" r=\"2\"/>\n<circle clip-path=\"url(#clip272)\" style=\"fill:#e26f46; stroke:none; fill-opacity:0\" cx=\"1466.91\" cy=\"1447.87\" r=\"2\"/>\n<circle clip-path=\"url(#clip272)\" style=\"fill:#e26f46; stroke:none; fill-opacity:0\" cx=\"1492.82\" cy=\"1447.87\" r=\"2\"/>\n<circle clip-path=\"url(#clip272)\" style=\"fill:#e26f46; stroke:none; fill-opacity:0\" cx=\"1518.72\" cy=\"1447.87\" r=\"2\"/>\n<circle clip-path=\"url(#clip272)\" style=\"fill:#e26f46; stroke:none; fill-opacity:0\" cx=\"1544.63\" cy=\"1447.87\" r=\"2\"/>\n<circle clip-path=\"url(#clip272)\" style=\"fill:#e26f46; stroke:none; fill-opacity:0\" cx=\"1570.53\" cy=\"1447.87\" r=\"2\"/>\n<circle clip-path=\"url(#clip272)\" style=\"fill:#e26f46; stroke:none; fill-opacity:0\" cx=\"1596.43\" cy=\"1447.87\" r=\"2\"/>\n<circle clip-path=\"url(#clip272)\" style=\"fill:#e26f46; stroke:none; fill-opacity:0\" cx=\"1622.34\" cy=\"1447.87\" r=\"2\"/>\n<circle clip-path=\"url(#clip272)\" style=\"fill:#e26f46; stroke:none; fill-opacity:0\" cx=\"1648.24\" cy=\"1447.87\" r=\"2\"/>\n<circle clip-path=\"url(#clip272)\" style=\"fill:#e26f46; stroke:none; fill-opacity:0\" cx=\"1674.15\" cy=\"1447.87\" r=\"2\"/>\n<circle clip-path=\"url(#clip272)\" style=\"fill:#e26f46; stroke:none; fill-opacity:0\" cx=\"1700.05\" cy=\"1447.87\" r=\"2\"/>\n<circle clip-path=\"url(#clip272)\" style=\"fill:#e26f46; stroke:none; fill-opacity:0\" cx=\"1725.96\" cy=\"1447.87\" r=\"2\"/>\n<circle clip-path=\"url(#clip272)\" style=\"fill:#e26f46; stroke:none; fill-opacity:0\" cx=\"1751.86\" cy=\"1447.87\" r=\"2\"/>\n<circle clip-path=\"url(#clip272)\" style=\"fill:#e26f46; stroke:none; fill-opacity:0\" cx=\"1777.76\" cy=\"1447.87\" r=\"2\"/>\n<circle clip-path=\"url(#clip272)\" style=\"fill:#e26f46; stroke:none; fill-opacity:0\" cx=\"1803.67\" cy=\"1447.87\" r=\"2\"/>\n<circle clip-path=\"url(#clip272)\" style=\"fill:#e26f46; stroke:none; fill-opacity:0\" cx=\"1829.57\" cy=\"1447.87\" r=\"2\"/>\n<circle clip-path=\"url(#clip272)\" style=\"fill:#e26f46; stroke:none; fill-opacity:0\" cx=\"1855.48\" cy=\"1447.87\" r=\"2\"/>\n<circle clip-path=\"url(#clip272)\" style=\"fill:#e26f46; stroke:none; fill-opacity:0\" cx=\"1881.38\" cy=\"1447.87\" r=\"2\"/>\n<circle clip-path=\"url(#clip272)\" style=\"fill:#e26f46; stroke:none; fill-opacity:0\" cx=\"1907.29\" cy=\"1447.87\" r=\"2\"/>\n<circle clip-path=\"url(#clip272)\" style=\"fill:#e26f46; stroke:none; fill-opacity:0\" cx=\"1933.19\" cy=\"1447.87\" r=\"2\"/>\n<circle clip-path=\"url(#clip272)\" style=\"fill:#e26f46; stroke:none; fill-opacity:0\" cx=\"1959.09\" cy=\"1447.87\" r=\"2\"/>\n<circle clip-path=\"url(#clip272)\" style=\"fill:#e26f46; stroke:none; fill-opacity:0\" cx=\"1985\" cy=\"1447.87\" r=\"2\"/>\n<circle clip-path=\"url(#clip272)\" style=\"fill:#e26f46; stroke:none; fill-opacity:0\" cx=\"2010.9\" cy=\"1447.87\" r=\"2\"/>\n<circle clip-path=\"url(#clip272)\" style=\"fill:#e26f46; stroke:none; fill-opacity:0\" cx=\"2036.81\" cy=\"1447.87\" r=\"2\"/>\n<circle clip-path=\"url(#clip272)\" style=\"fill:#e26f46; stroke:none; fill-opacity:0\" cx=\"2062.71\" cy=\"1447.87\" r=\"2\"/>\n<circle clip-path=\"url(#clip272)\" style=\"fill:#e26f46; stroke:none; fill-opacity:0\" cx=\"2088.62\" cy=\"1447.87\" r=\"2\"/>\n<circle clip-path=\"url(#clip272)\" style=\"fill:#e26f46; stroke:none; fill-opacity:0\" cx=\"2114.52\" cy=\"1447.87\" r=\"2\"/>\n<circle clip-path=\"url(#clip272)\" style=\"fill:#e26f46; stroke:none; fill-opacity:0\" cx=\"2140.42\" cy=\"1447.87\" r=\"2\"/>\n<circle clip-path=\"url(#clip272)\" style=\"fill:#e26f46; stroke:none; fill-opacity:0\" cx=\"2166.33\" cy=\"1447.87\" r=\"2\"/>\n<circle clip-path=\"url(#clip272)\" style=\"fill:#e26f46; stroke:none; fill-opacity:0\" cx=\"2192.23\" cy=\"1447.87\" r=\"2\"/>\n<circle clip-path=\"url(#clip272)\" style=\"fill:#e26f46; stroke:none; fill-opacity:0\" cx=\"2218.14\" cy=\"1383.58\" r=\"2\"/>\n<path clip-path=\"url(#clip270)\" d=\"\nM1936.89 324.425 L2279.02 324.425 L2279.02 168.905 L1936.89 168.905  Z\n  \" fill=\"#ffffff\" fill-rule=\"evenodd\" fill-opacity=\"1\"/>\n<polyline clip-path=\"url(#clip270)\" style=\"stroke:#000000; stroke-linecap:butt; stroke-linejoin:round; stroke-width:4; stroke-opacity:1; fill:none\" points=\"\n  1936.89,324.425 2279.02,324.425 2279.02,168.905 1936.89,168.905 1936.89,324.425 \n  \"/>\n<path clip-path=\"url(#clip270)\" d=\"\nM1961.47 241.481 L2108.94 241.481 L2108.94 200.009 L1961.47 200.009 L1961.47 241.481  Z\n  \" fill=\"#009af9\" fill-rule=\"evenodd\" fill-opacity=\"0.1\"/>\n<polyline clip-path=\"url(#clip270)\" style=\"stroke:#000000; stroke-linecap:butt; stroke-linejoin:round; stroke-width:4; stroke-opacity:1; fill:none\" points=\"\n  1961.47,241.481 2108.94,241.481 2108.94,200.009 1961.47,200.009 1961.47,241.481 \n  \"/>\n<path clip-path=\"url(#clip270)\" d=\"M2138.2 207.307 L2138.2 234.182 L2143.85 234.182 Q2151 234.182 2154.31 230.941 Q2157.64 227.701 2157.64 220.71 Q2157.64 213.766 2154.31 210.548 Q2151 207.307 2143.85 207.307 L2138.2 207.307 M2133.52 203.465 L2143.13 203.465 Q2153.17 203.465 2157.87 207.654 Q2162.57 211.821 2162.57 220.71 Q2162.57 229.645 2157.85 233.835 Q2153.13 238.025 2143.13 238.025 L2133.52 238.025 L2133.52 203.465 Z\" fill=\"#000000\" fill-rule=\"evenodd\" fill-opacity=\"1\" /><path clip-path=\"url(#clip270)\" d=\"M2190.74 204.599 L2190.74 209.159 Q2188.08 207.886 2185.72 207.261 Q2183.36 206.636 2181.16 206.636 Q2177.34 206.636 2175.26 208.117 Q2173.2 209.599 2173.2 212.33 Q2173.2 214.622 2174.56 215.803 Q2175.95 216.96 2179.79 217.678 L2182.62 218.256 Q2187.85 219.252 2190.33 221.775 Q2192.83 224.275 2192.83 228.488 Q2192.83 233.511 2189.45 236.103 Q2186.09 238.696 2179.59 238.696 Q2177.13 238.696 2174.35 238.14 Q2171.6 237.585 2168.64 236.497 L2168.64 231.682 Q2171.48 233.279 2174.22 234.089 Q2176.95 234.9 2179.59 234.9 Q2183.59 234.9 2185.77 233.326 Q2187.94 231.752 2187.94 228.835 Q2187.94 226.289 2186.37 224.853 Q2184.82 223.418 2181.25 222.701 L2178.41 222.145 Q2173.17 221.103 2170.84 218.881 Q2168.5 216.659 2168.5 212.701 Q2168.5 208.117 2171.72 205.479 Q2174.96 202.84 2180.63 202.84 Q2183.06 202.84 2185.58 203.279 Q2188.1 203.719 2190.74 204.599 Z\" fill=\"#000000\" fill-rule=\"evenodd\" fill-opacity=\"1\" /><path clip-path=\"url(#clip270)\" d=\"M2217.06 229.946 Q2216.35 229.113 2215.21 227.168 Q2213.66 229.946 2212.29 231.173 Q2210.58 232.654 2207.92 232.654 Q2204.79 232.654 2202.73 230.316 Q2200.56 227.863 2200.56 223.812 Q2200.56 219.923 2202.73 217.284 Q2204.68 214.946 2207.97 214.946 Q2209.66 214.946 2210.91 215.641 Q2212.36 216.404 2213.36 217.724 Q2214.29 218.904 2215.21 220.502 Q2216.76 217.724 2218.13 216.497 Q2219.84 215.016 2222.5 215.016 Q2225.63 215.016 2227.69 217.353 Q2229.86 219.807 2229.86 223.858 Q2229.86 227.747 2227.69 230.386 Q2225.74 232.724 2222.46 232.724 Q2220.77 232.724 2219.52 232.029 Q2218.27 231.404 2217.06 229.946 M2207.66 229.622 Q2211.48 229.622 2213.78 224.066 Q2210.84 218.002 2207.66 218.002 Q2205.35 218.002 2204.17 219.668 Q2202.9 221.451 2202.9 223.812 Q2202.9 226.404 2204.17 228.002 Q2205.47 229.622 2207.66 229.622 M2222.76 218.048 Q2219.31 218.048 2216.65 223.603 Q2219.56 229.668 2222.76 229.668 Q2225.07 229.668 2226.25 228.002 Q2227.53 226.219 2227.53 223.858 Q2227.53 221.265 2226.25 219.668 Q2224.96 218.048 2222.76 218.048 Z\" fill=\"#000000\" fill-rule=\"evenodd\" fill-opacity=\"1\" /><path clip-path=\"url(#clip270)\" d=\"\nM1961.47 293.321 L2108.94 293.321 L2108.94 251.849 L1961.47 251.849 L1961.47 293.321  Z\n  \" fill=\"#e26f46\" fill-rule=\"evenodd\" fill-opacity=\"0.1\"/>\n<polyline clip-path=\"url(#clip270)\" style=\"stroke:#000000; stroke-linecap:butt; stroke-linejoin:round; stroke-width:4; stroke-opacity:1; fill:none\" points=\"\n  1961.47,293.321 2108.94,293.321 2108.94,251.849 1961.47,251.849 1961.47,293.321 \n  \"/>\n<path clip-path=\"url(#clip270)\" d=\"M2138.2 259.147 L2138.2 286.022 L2143.85 286.022 Q2151 286.022 2154.31 282.781 Q2157.64 279.541 2157.64 272.55 Q2157.64 265.606 2154.31 262.388 Q2151 259.147 2143.85 259.147 L2138.2 259.147 M2133.52 255.305 L2143.13 255.305 Q2153.17 255.305 2157.87 259.494 Q2162.57 263.661 2162.57 272.55 Q2162.57 281.485 2157.85 285.675 Q2153.13 289.865 2143.13 289.865 L2133.52 289.865 L2133.52 255.305 Z\" fill=\"#000000\" fill-rule=\"evenodd\" fill-opacity=\"1\" /><path clip-path=\"url(#clip270)\" d=\"M2165.23 255.305 L2194.47 255.305 L2194.47 259.24 L2182.2 259.24 L2182.2 289.865 L2177.5 289.865 L2177.5 259.24 L2165.23 259.24 L2165.23 255.305 Z\" fill=\"#000000\" fill-rule=\"evenodd\" fill-opacity=\"1\" /><path clip-path=\"url(#clip270)\" d=\"M2207.53 274.193 Q2206.37 272.203 2204.03 272.203 Q2201.69 272.203 2200.54 274.193 Q2199.35 276.184 2199.35 280.166 Q2199.35 284.17 2200.54 286.161 Q2201.69 288.152 2204.03 288.152 Q2206.37 288.152 2207.53 286.161 Q2208.71 284.17 2208.71 280.166 Q2208.71 276.184 2207.53 274.193 M2204.03 270.143 Q2207.76 270.143 2209.72 272.712 Q2211.69 275.281 2211.69 280.166 Q2211.69 285.073 2209.72 287.642 Q2207.76 290.212 2204.03 290.212 Q2200.28 290.212 2198.31 287.642 Q2196.35 285.073 2196.35 280.166 Q2196.35 275.281 2198.31 272.712 Q2200.28 270.143 2204.03 270.143 Z\" fill=\"#000000\" fill-rule=\"evenodd\" fill-opacity=\"1\" /></svg>\n"
     },
     "execution_count": 117,
     "metadata": {},
     "output_type": "execute_result"
    }
   ],
   "source": [
    "histogram(Any[lip_c_normal_1em4_2d, DT₀_lip_c_normal_1em4_2d], label=[\"DS∞\" \"DT₀\"], nbins=[100 100], fillalpha=0.1, title=\"σ₁ of DS∞ and DT₀ (100 random normal matrix pairs)\")"
   ]
  },
  {
   "cell_type": "code",
   "execution_count": 87,
   "metadata": {},
   "outputs": [
    {
     "ename": "LoadError",
     "evalue": "MethodError: no method matching (::var\"#99#100\")(::Tuple{Matrix{Float64}, Matrix{Float64}}, ::Int64)\n\u001b[0mClosest candidates are:\n\u001b[0m  (::var\"#99#100\")(::Any) at In[66]:4",
     "output_type": "error",
     "traceback": [
      "MethodError: no method matching (::var\"#99#100\")(::Tuple{Matrix{Float64}, Matrix{Float64}}, ::Int64)\n\u001b[0mClosest candidates are:\n\u001b[0m  (::var\"#99#100\")(::Any) at In[66]:4",
      "",
      "Stacktrace:",
      " [1] _broadcast_getindex_evalf",
      "   @ ./broadcast.jl:670 [inlined]",
      " [2] _broadcast_getindex",
      "   @ ./broadcast.jl:643 [inlined]",
      " [3] getindex",
      "   @ ./broadcast.jl:597 [inlined]",
      " [4] copy",
      "   @ ./broadcast.jl:899 [inlined]",
      " [5] materialize(bc::Base.Broadcast.Broadcasted{Base.Broadcast.DefaultArrayStyle{1}, Nothing, var\"#99#100\", Tuple{Vector{Tuple{Matrix{Float64}, Matrix{Float64}}}, Int64}})",
      "   @ Base.Broadcast ./broadcast.jl:860",
      " [6] top-level scope",
      "   @ In[87]:1",
      " [7] eval",
      "   @ ./boot.jl:373 [inlined]",
      " [8] include_string(mapexpr::typeof(REPL.softscope), mod::Module, code::String, filename::String)",
      "   @ Base ./loading.jl:1196"
     ]
    }
   ],
   "source": [
    "DS_1em5_normal_2d.(normal_bundle_2d)"
   ]
  },
  {
   "cell_type": "code",
   "execution_count": 51,
   "metadata": {},
   "outputs": [
    {
     "ename": "LoadError",
     "evalue": "InterruptException:",
     "output_type": "error",
     "traceback": [
      "InterruptException:",
      "",
      "Stacktrace:",
      "  [1] syevr!(jobz::Char, range::Char, uplo::Char, A::Matrix{Float64}, vl::Float64, vu::Float64, il::Int64, iu::Int64, abstol::Float64)",
      "    @ LinearAlgebra.LAPACK /Applications/Julia-1.7.app/Contents/Resources/julia/share/julia/stdlib/v1.7/LinearAlgebra/src/lapack.jl:0",
      "  [2] #eigen!#185",
      "    @ /Applications/Julia-1.7.app/Contents/Resources/julia/share/julia/stdlib/v1.7/LinearAlgebra/src/symmetriceigen.jl:4 [inlined]",
      "  [3] #eigen#186",
      "    @ /Applications/Julia-1.7.app/Contents/Resources/julia/share/julia/stdlib/v1.7/LinearAlgebra/src/symmetriceigen.jl:9 [inlined]",
      "  [4] eigen",
      "    @ /Applications/Julia-1.7.app/Contents/Resources/julia/share/julia/stdlib/v1.7/LinearAlgebra/src/symmetriceigen.jl:7 [inlined]",
      "  [5] exp(A::Hermitian{Float64, Matrix{Float64}})",
      "    @ LinearAlgebra /Applications/Julia-1.7.app/Contents/Resources/julia/share/julia/stdlib/v1.7/LinearAlgebra/src/symmetric.jl:758",
      "  [6] exp!(A::Matrix{Float64})",
      "    @ LinearAlgebra /Applications/Julia-1.7.app/Contents/Resources/julia/share/julia/stdlib/v1.7/LinearAlgebra/src/dense.jl:616",
      "  [7] exp",
      "    @ /Applications/Julia-1.7.app/Contents/Resources/julia/share/julia/stdlib/v1.7/LinearAlgebra/src/dense.jl:560 [inlined]",
      "  [8] Bₜ(Σ₁::Matrix{Float64}, Σ₂::Matrix{Float64}, t::Float64)",
      "    @ Main ./In[5]:3",
      "  [9] DS(Σ₁::Matrix{Float64}, Σ₂::Matrix{Float64}, T::Int64, tol::Float64)",
      "    @ Main ./In[12]:31",
      " [10] DS_Tmodel(Σ₁::Matrix{Float64}, Σ₂::Matrix{Float64}, model::TransportModel)",
      "    @ Main ./In[27]:5",
      " [11] (::var\"#63#64\")(MatPair::Tuple{Matrix{Float64}, Matrix{Float64}})",
      "    @ Main ./In[49]:2",
      " [12] _broadcast_getindex_evalf",
      "    @ ./broadcast.jl:670 [inlined]",
      " [13] _broadcast_getindex",
      "    @ ./broadcast.jl:643 [inlined]",
      " [14] getindex",
      "    @ ./broadcast.jl:597 [inlined]",
      " [15] copy",
      "    @ ./broadcast.jl:899 [inlined]",
      " [16] materialize(bc::Base.Broadcast.Broadcasted{Base.Broadcast.DefaultArrayStyle{1}, Nothing, var\"#63#64\", Tuple{Vector{Tuple{Matrix{Float64}, Matrix{Float64}}}}})",
      "    @ Base.Broadcast ./broadcast.jl:860",
      " [17] eval",
      "    @ ./boot.jl:373 [inlined]",
      " [18] include_string(mapexpr::typeof(REPL.softscope), mod::Module, code::String, filename::String)",
      "    @ Base ./loading.jl:1196"
     ]
    }
   ],
   "source": [
    "DS_normal_bundle_2d = DS_1em5_normal_2d.(normal_bundle_2d);"
   ]
  },
  {
   "cell_type": "markdown",
   "metadata": {},
   "source": [
    "## 4. Properties of DS and DT <a class=\"anchor\" id=\"properties\"></a>"
   ]
  },
  {
   "cell_type": "markdown",
   "metadata": {},
   "source": [
    "### 4.1.1 $DS_\\infty$ and $DT_0$ close\n",
    "\n",
    "In this section we sample matrices using a normal distribution"
   ]
  },
  {
   "cell_type": "markdown",
   "metadata": {},
   "source": [
    "Now, we generate random pos. def. symmetric matrices $S_1$ and $S_2$ and consider the transport:\n",
    "\n",
    "$$\\mu = \\mathcal{N}(0, S_1) \\to \\nu = \\mathcal{N}(0, S_1 + S_2)$$\n",
    "\n",
    "The code below computes $DS_\\infty$ withing tolerance $\\varepsilon_1$ for this transport problem and checks if this is within tolerance $\\varepsilon_2$ of the Brenier map , $DT_0$, for this transport problem. \n",
    "If not, we resample $S_1$ and $S_2$ and we try until we find 2 matrices $S_1,S_2$ s.t $DS_\\infty$ and $DT_0$ are close."
   ]
  },
  {
   "cell_type": "code",
   "execution_count": 30,
   "metadata": {},
   "outputs": [
    {
     "data": {
      "text/plain": [
       "identical_transports (generic function with 3 methods)"
      ]
     },
     "execution_count": 30,
     "metadata": {},
     "output_type": "execute_result"
    }
   ],
   "source": [
    "function identical_transports(d, ε₁, ε₂, mode=\"normal\")\n",
    "    S₁, S₂ = gen_noncommuting_pair(d, mode)\n",
    "    diff = norm(DS_approx(S₁, S₂, ε₁) - DTₜ(S₁, S₂, 0))\n",
    "    while diff >= ε₂\n",
    "        S₁, S₂ = gen_noncommuting_pair(d, mode)\n",
    "        diff = norm(DS_approx(S₁, S₂, ε₁) - DTₜ(S₁, S₂, 0))\n",
    "    end\n",
    "    S₁, S₂\n",
    "end"
   ]
  },
  {
   "cell_type": "code",
   "execution_count": 31,
   "metadata": {},
   "outputs": [
    {
     "name": "stdout",
     "output_type": "stream",
     "text": [
      "Iteration finished, mag=0.0001 T=56.0 stop=6.064627186334289Iteration finished, mag=5.0e-5 T=62.0 stop=0.3806736036949221"
     ]
    },
    {
     "ename": "LoadError",
     "evalue": "InterruptException:",
     "output_type": "error",
     "traceback": [
      "InterruptException:",
      "",
      "Stacktrace:",
      "  [1] _growend!",
      "    @ ./array.jl:948 [inlined]",
      "  [2] resize!",
      "    @ ./array.jl:1173 [inlined]",
      "  [3] syevr!(jobz::Char, range::Char, uplo::Char, A::Matrix{Float64}, vl::Float64, vu::Float64, il::Int64, iu::Int64, abstol::Float64)",
      "    @ LinearAlgebra.LAPACK /Applications/Julia-1.7.app/Contents/Resources/julia/share/julia/stdlib/v1.7/LinearAlgebra/src/lapack.jl:5130",
      "  [4] #eigen!#185",
      "    @ /Applications/Julia-1.7.app/Contents/Resources/julia/share/julia/stdlib/v1.7/LinearAlgebra/src/symmetriceigen.jl:4 [inlined]",
      "  [5] #eigen#186",
      "    @ /Applications/Julia-1.7.app/Contents/Resources/julia/share/julia/stdlib/v1.7/LinearAlgebra/src/symmetriceigen.jl:9 [inlined]",
      "  [6] eigen",
      "    @ /Applications/Julia-1.7.app/Contents/Resources/julia/share/julia/stdlib/v1.7/LinearAlgebra/src/symmetriceigen.jl:7 [inlined]",
      "  [7] sqrt(A::Hermitian{Float64, Matrix{Float64}}; rtol::Float64)",
      "    @ LinearAlgebra /Applications/Julia-1.7.app/Contents/Resources/julia/share/julia/stdlib/v1.7/LinearAlgebra/src/symmetric.jl:860",
      "  [8] sqrt",
      "    @ /Applications/Julia-1.7.app/Contents/Resources/julia/share/julia/stdlib/v1.7/LinearAlgebra/src/symmetric.jl:860 [inlined]",
      "  [9] sqrt(A::Matrix{Float64})",
      "    @ LinearAlgebra /Applications/Julia-1.7.app/Contents/Resources/julia/share/julia/stdlib/v1.7/LinearAlgebra/src/dense.jl:838",
      " [10] Bₜ(Σ₁::Matrix{Float64}, Σ₂::Matrix{Float64}, t::Float64)",
      "    @ Main ./In[6]:3",
      " [11] DS(Σ₁::Matrix{Float64}, Σ₂::Matrix{Float64}, T::Float64, tol::Float64)",
      "    @ Main ./In[13]:31",
      " [12] DS_approx(Σ₁::Matrix{Float64}, Σ₂::Matrix{Float64}, stab::Float64)",
      "    @ Main ./In[14]:16",
      " [13] identical_transports(d::Int64, ε₁::Float64, ε₂::Float64, mode::String)",
      "    @ Main ./In[30]:3",
      " [14] identical_transports(d::Int64, ε₁::Float64, ε₂::Float64)",
      "    @ Main ./In[30]:2",
      " [15] eval",
      "    @ ./boot.jl:373 [inlined]",
      " [16] include_string(mapexpr::typeof(REPL.softscope), mod::Module, code::String, filename::String)",
      "    @ Base ./loading.jl:1196"
     ]
    }
   ],
   "source": [
    "A₁, B₁ = identical_transports(2, 1e-3, 1e-4)"
   ]
  },
  {
   "cell_type": "markdown",
   "metadata": {},
   "source": [
    "The following matrices satisfy this condition:"
   ]
  },
  {
   "cell_type": "code",
   "execution_count": null,
   "metadata": {},
   "outputs": [
    {
     "name": "stdout",
     "output_type": "stream",
     "text": [
      "[6.307103734532885 0.6662019609743299; 0.6662019609743299 2.5708796185661447]\n",
      "[0.17472400613533526 -0.0904076437370299; -0.0904076437370299 0.04985633494910014]\n",
      "[1.0150390415093176 -0.01210256844715929; -0.012181650127149184 1.0126249778124832]\n",
      "[1.0150070023883802 -0.012107929147744098; -0.012107929147744112 1.0126141231941128]\n",
      "8.128867033979074e-5\n"
     ]
    }
   ],
   "source": [
    "println(A)\n",
    "println(B)\n",
    "println(DS_approx(A,B,1e-3))\n",
    "println(DTₜ(A,B,0))\n",
    "println(norm(DS_approx(A,B,1e-3) - DTₜ(A,B,0)))"
   ]
  },
  {
   "cell_type": "markdown",
   "metadata": {},
   "source": [
    "Now we check if we can have the Lipschitz constant of $DT_0$ can be larger than the Lipschitz constant of $DS_\\infty$. The code below samples random symmetric pos. def. matrices until this condition is satisfied:"
   ]
  },
  {
   "cell_type": "code",
   "execution_count": 32,
   "metadata": {},
   "outputs": [
    {
     "data": {
      "text/plain": [
       "lip_DT_larger_DS (generic function with 2 methods)"
      ]
     },
     "execution_count": 32,
     "metadata": {},
     "output_type": "execute_result"
    }
   ],
   "source": [
    "function lip_DT_larger_DS(d, ε₁, ε₂, mode=\"normal\")\n",
    "    S₁, S₂ = gen_noncommuting_pair(d, mode)\n",
    "    DS∞ = DS_approx(S₁, S₂, ε₁)\n",
    "    DT₀ = DTₜ(S₁, S₂, 0)\n",
    "    lip_DS∞ = svdvals(DS∞)[1]\n",
    "    lip_DT₀ = svdvals(DT₀)[1]\n",
    "    while norm(DS∞ - DT₀) < ε₂ || lip_DS∞ >= lip_DT₀\n",
    "        S₁, S₂ = gen_noncommuting_pair(d, mode)\n",
    "        DS∞ = DS_approx(S₁, S₂, ε₁)\n",
    "        DT₀ = DTₜ(S₁, S₂, 0)\n",
    "        lip_DS∞ = svdvals(DS∞)[1]\n",
    "        lip_DT₀ = svdvals(DT₀)[1]\n",
    "    end\n",
    "    S₁, S₂\n",
    "end"
   ]
  },
  {
   "cell_type": "markdown",
   "metadata": {},
   "source": [
    "Here we can check that this is indeed true:"
   ]
  },
  {
   "cell_type": "code",
   "execution_count": 430,
   "metadata": {},
   "outputs": [
    {
     "data": {
      "text/plain": [
       "true"
      ]
     },
     "execution_count": 430,
     "metadata": {},
     "output_type": "execute_result"
    }
   ],
   "source": [
    "A₂, B₂ = lip_DT_larger_DS(1e-3, 1e-4)\n",
    "svdvals(DTₜ(A₂, B₂, 0))[1]  > svdvals(DS_approx(A₂, B₂, 1e-3))[1] "
   ]
  },
  {
   "cell_type": "markdown",
   "metadata": {},
   "source": [
    "We now do the same, but we check the opposite condition; we check if the Lipschitz constant of $DS_\\infty$ can be larger than that of $DT_0$, which is what the code below does."
   ]
  },
  {
   "cell_type": "code",
   "execution_count": 33,
   "metadata": {},
   "outputs": [
    {
     "data": {
      "text/plain": [
       "lip_DT_smaller_DS (generic function with 2 methods)"
      ]
     },
     "execution_count": 33,
     "metadata": {},
     "output_type": "execute_result"
    }
   ],
   "source": [
    "function lip_DT_smaller_DS(d, ε₁, ε₂, mode=\"normal\")\n",
    "    S₁, S₂ = gen_noncommuting_pair(d, mode)\n",
    "    DS∞ = DS_approx(S₁, S₂, ε₁)\n",
    "    DT₀ = DTₜ(S₁, S₂, 0)\n",
    "    lip_DS∞ = svdvals(DS∞)[1]\n",
    "    lip_DT₀ = svdvals(DT₀)[1]\n",
    "    while norm(DS∞ - DT₀) < ε₂ || lip_DS∞ <= lip_DT₀\n",
    "        S₁, S₂ = gen_noncommuting_pair(d, mode)\n",
    "        DS∞ = DS_approx(S₁, S₂, ε₁)\n",
    "        DT₀ = DTₜ(S₁, S₂, 0)\n",
    "        lip_DS∞ = svdvals(DS∞)[1]\n",
    "        lip_DT₀ = svdvals(DT₀)[1]\n",
    "    end\n",
    "    S₁, S₂\n",
    "end"
   ]
  },
  {
   "cell_type": "markdown",
   "metadata": {},
   "source": [
    "Which we can also check:"
   ]
  },
  {
   "cell_type": "code",
   "execution_count": 432,
   "metadata": {},
   "outputs": [
    {
     "data": {
      "text/plain": [
       "true"
      ]
     },
     "execution_count": 432,
     "metadata": {},
     "output_type": "execute_result"
    }
   ],
   "source": [
    "A₃, B₃ = lip_DT_smaller_DS(1e-3, 1e-4)\n",
    "svdvals(DTₜ(A₃, B₃, 0))[1] < svdvals(DS_approx(A₃, B₃, 1e-3))[1] "
   ]
  },
  {
   "cell_type": "markdown",
   "metadata": {},
   "source": [
    "Lastly, we check if they can be equal, i.e. if they can be within a distance of $\\varepsilon_3$:"
   ]
  },
  {
   "cell_type": "code",
   "execution_count": 34,
   "metadata": {},
   "outputs": [
    {
     "data": {
      "text/plain": [
       "lip_DT_approx_DS (generic function with 2 methods)"
      ]
     },
     "execution_count": 34,
     "metadata": {},
     "output_type": "execute_result"
    }
   ],
   "source": [
    "function lip_DT_approx_DS(d, ε₁, ε₂, ε₃, mode=\"normal\")\n",
    "    S₁, S₂ = gen_noncommuting_pair(d, mode)\n",
    "    DS∞ = DS_approx(S₁, S₂, ε₁)\n",
    "    DT₀ = DTₜ(S₁, S₂, 0)\n",
    "    lip_DS∞ = svdvals(DS∞)[1]\n",
    "    lip_DT₀ = svdvals(DT₀)[1]\n",
    "    while norm(DS∞ - DT₀) < ε₂ || norm(lip_DS∞ - lip_DT₀) > ε₃\n",
    "        S₁, S₂ = gen_noncommuting_pair(d, mode)\n",
    "        DS∞ = DS_approx(S₁, S₂, ε₁)\n",
    "        DT₀ = DTₜ(S₁, S₂, 0)\n",
    "        lip_DS∞ = svdvals(DS∞)[1]\n",
    "        lip_DT₀ = svdvals(DT₀)[1]\n",
    "    end\n",
    "    S₁, S₂\n",
    "end"
   ]
  },
  {
   "cell_type": "code",
   "execution_count": 434,
   "metadata": {},
   "outputs": [
    {
     "data": {
      "text/plain": [
       "9.746706650748393e-5"
      ]
     },
     "execution_count": 434,
     "metadata": {},
     "output_type": "execute_result"
    }
   ],
   "source": [
    "A₄, B₄ =  lip_DT_approx_DS(1e-3, 1e-4, 1e-4)\n",
    "norm(svdvals(DTₜ(A₄, B₄, 0))[1] - svdvals(DS_approx(A₄, B₄, 1e-3))[1])"
   ]
  },
  {
   "cell_type": "code",
   "execution_count": 435,
   "metadata": {},
   "outputs": [
    {
     "name": "stdout",
     "output_type": "stream",
     "text": [
      "[1.6650360794278416 -0.18546259412900826; -0.18546259412900826 2.5715287280348855]\n",
      "[0.1277590520664512 -0.1030760261202241; -0.1030760261202241 0.26365627001354697]\n"
     ]
    }
   ],
   "source": [
    "println(A₄)\n",
    "println(B₄)"
   ]
  },
  {
   "cell_type": "markdown",
   "metadata": {},
   "source": [
    "### 4.1.2 Sampling matrices using uniform scheme on integers\n",
    "\n",
    "In this section we sample matrices using a uniform scheme on integers."
   ]
  },
  {
   "cell_type": "code",
   "execution_count": 439,
   "metadata": {},
   "outputs": [
    {
     "ename": "LoadError",
     "evalue": "InterruptException:",
     "output_type": "error",
     "traceback": [
      "InterruptException:",
      "",
      "Stacktrace:",
      "  [1] Array",
      "    @ ./boot.jl:457 [inlined]",
      "  [2] Array",
      "    @ ./boot.jl:466 [inlined]",
      "  [3] similar",
      "    @ ./array.jl:378 [inlined]",
      "  [4] similar",
      "    @ ./abstractarray.jl:783 [inlined]",
      "  [5] getindex",
      "    @ ./array.jl:869 [inlined]",
      "  [6] syevr!(jobz::Char, range::Char, uplo::Char, A::Matrix{Float64}, vl::Float64, vu::Float64, il::Int64, iu::Int64, abstol::Float64)",
      "    @ LinearAlgebra.LAPACK /Applications/Julia-1.7.app/Contents/Resources/julia/share/julia/stdlib/v1.7/LinearAlgebra/src/lapack.jl:5133",
      "  [7] #eigen!#185",
      "    @ /Applications/Julia-1.7.app/Contents/Resources/julia/share/julia/stdlib/v1.7/LinearAlgebra/src/symmetriceigen.jl:4 [inlined]",
      "  [8] #eigen#186",
      "    @ /Applications/Julia-1.7.app/Contents/Resources/julia/share/julia/stdlib/v1.7/LinearAlgebra/src/symmetriceigen.jl:9 [inlined]",
      "  [9] eigen",
      "    @ /Applications/Julia-1.7.app/Contents/Resources/julia/share/julia/stdlib/v1.7/LinearAlgebra/src/symmetriceigen.jl:7 [inlined]",
      " [10] sqrt(A::Hermitian{Float64, Matrix{Float64}}; rtol::Float64)",
      "    @ LinearAlgebra /Applications/Julia-1.7.app/Contents/Resources/julia/share/julia/stdlib/v1.7/LinearAlgebra/src/symmetric.jl:860",
      " [11] sqrt",
      "    @ /Applications/Julia-1.7.app/Contents/Resources/julia/share/julia/stdlib/v1.7/LinearAlgebra/src/symmetric.jl:860 [inlined]",
      " [12] sqrt(A::Matrix{Float64})",
      "    @ LinearAlgebra /Applications/Julia-1.7.app/Contents/Resources/julia/share/julia/stdlib/v1.7/LinearAlgebra/src/dense.jl:838",
      " [13] Bₜ(Σ₁::Matrix{Int64}, Σ₂::Matrix{Int64}, t::Float64)",
      "    @ Main ./In[12]:3",
      " [14] DS(Σ₁::Matrix{Int64}, Σ₂::Matrix{Int64}, T::Int64, tol::Float64)",
      "    @ Main ./In[343]:31",
      " [15] identical_transports(T::Int64, ε₁::Float64, ε₂::Float64, mode::String)",
      "    @ Main ./In[426]:6",
      " [16] eval",
      "    @ ./boot.jl:373 [inlined]",
      " [17] include_string(mapexpr::typeof(REPL.softscope), mod::Module, code::String, filename::String)",
      "    @ Base ./loading.jl:1196"
     ]
    }
   ],
   "source": [
    "AI₁, BI₁ = identical_transports(1e-3, 1e-4, \"integer\")"
   ]
  },
  {
   "cell_type": "code",
   "execution_count": 440,
   "metadata": {},
   "outputs": [
    {
     "ename": "LoadError",
     "evalue": "InterruptException:",
     "output_type": "error",
     "traceback": [
      "InterruptException:",
      "",
      "Stacktrace:",
      "  [1] Array",
      "    @ ./boot.jl:457 [inlined]",
      "  [2] Array",
      "    @ ./boot.jl:466 [inlined]",
      "  [3] similar",
      "    @ ./array.jl:378 [inlined]",
      "  [4] similar",
      "    @ ./abstractarray.jl:783 [inlined]",
      "  [5] getindex",
      "    @ ./array.jl:869 [inlined]",
      "  [6] syevr!(jobz::Char, range::Char, uplo::Char, A::Matrix{Float64}, vl::Float64, vu::Float64, il::Int64, iu::Int64, abstol::Float64)",
      "    @ LinearAlgebra.LAPACK /Applications/Julia-1.7.app/Contents/Resources/julia/share/julia/stdlib/v1.7/LinearAlgebra/src/lapack.jl:5133",
      "  [7] #eigen!#185",
      "    @ /Applications/Julia-1.7.app/Contents/Resources/julia/share/julia/stdlib/v1.7/LinearAlgebra/src/symmetriceigen.jl:4 [inlined]",
      "  [8] #eigen#186",
      "    @ /Applications/Julia-1.7.app/Contents/Resources/julia/share/julia/stdlib/v1.7/LinearAlgebra/src/symmetriceigen.jl:9 [inlined]",
      "  [9] eigen",
      "    @ /Applications/Julia-1.7.app/Contents/Resources/julia/share/julia/stdlib/v1.7/LinearAlgebra/src/symmetriceigen.jl:7 [inlined]",
      " [10] exp(A::Hermitian{Float64, Matrix{Float64}})",
      "    @ LinearAlgebra /Applications/Julia-1.7.app/Contents/Resources/julia/share/julia/stdlib/v1.7/LinearAlgebra/src/symmetric.jl:758",
      " [11] exp!(A::Matrix{Float64})",
      "    @ LinearAlgebra /Applications/Julia-1.7.app/Contents/Resources/julia/share/julia/stdlib/v1.7/LinearAlgebra/src/dense.jl:616",
      " [12] exp",
      "    @ /Applications/Julia-1.7.app/Contents/Resources/julia/share/julia/stdlib/v1.7/LinearAlgebra/src/dense.jl:560 [inlined]",
      " [13] Bₜ(Σ₁::Matrix{Int64}, Σ₂::Matrix{Int64}, t::Float64)",
      "    @ Main ./In[12]:2",
      " [14] DS(Σ₁::Matrix{Int64}, Σ₂::Matrix{Int64}, T::Int64, tol::Float64)",
      "    @ Main ./In[343]:31",
      " [15] lip_DT_larger_DS(T::Int64, ε₁::Float64, ε₂::Float64, mode::String)",
      "    @ Main ./In[429]:9",
      " [16] eval",
      "    @ ./boot.jl:373 [inlined]",
      " [17] include_string(mapexpr::typeof(REPL.softscope), mod::Module, code::String, filename::String)",
      "    @ Base ./loading.jl:1196"
     ]
    }
   ],
   "source": [
    "AI₂, BI₂ = lip_DT_larger_DS(1e-3, 1e-4, \"integer\")"
   ]
  },
  {
   "cell_type": "code",
   "execution_count": null,
   "metadata": {},
   "outputs": [],
   "source": [
    "AI₃, BI₃ = lip_DT_smaller_DS(1e-3, 1e-4, \"integer\")"
   ]
  },
  {
   "cell_type": "code",
   "execution_count": null,
   "metadata": {},
   "outputs": [
    {
     "ename": "LoadError",
     "evalue": "InterruptException:",
     "output_type": "error",
     "traceback": [
      "InterruptException:",
      "",
      "Stacktrace:",
      "  [1] Array",
      "    @ ./boot.jl:459 [inlined]",
      "  [2] Array",
      "    @ ./boot.jl:467 [inlined]",
      "  [3] similar",
      "    @ ./array.jl:378 [inlined]",
      "  [4] *",
      "    @ /Applications/Julia-1.7.app/Contents/Resources/julia/share/julia/stdlib/v1.7/LinearAlgebra/src/matmul.jl:153 [inlined]",
      "  [5] _quad_matmul(A::Adjoint{Float64, Matrix{Float64}}, B::Matrix{Int64}, C::Matrix{Float64}, D::Matrix{Float64})",
      "    @ LinearAlgebra /Applications/Julia-1.7.app/Contents/Resources/julia/share/julia/stdlib/v1.7/LinearAlgebra/src/matmul.jl:1200",
      "  [6] *",
      "    @ /Applications/Julia-1.7.app/Contents/Resources/julia/share/julia/stdlib/v1.7/LinearAlgebra/src/matmul.jl:1189 [inlined]",
      "  [7] Bₜ(Σ₁::Matrix{Int64}, Σ₂::Matrix{Int64}, t::Float64)",
      "    @ Main ./In[12]:5",
      "  [8] DS(Σ₁::Matrix{Int64}, Σ₂::Matrix{Int64}, T::Int64, tol::Float64)",
      "    @ Main ./In[343]:31",
      "  [9] identical_transports(T::Int64, ε₁::Float64, ε₂::Float64, mode::String)",
      "    @ Main ./In[426]:6",
      " [10] eval",
      "    @ ./boot.jl:373 [inlined]",
      " [11] include_string(mapexpr::typeof(REPL.softscope), mod::Module, code::String, filename::String)",
      "    @ Base ./loading.jl:1196"
     ]
    }
   ],
   "source": [
    "AI₄, BI₄ =  lip_DT_approx_DS(1e-3, 1e-4, 1e-4, \"integer\")"
   ]
  },
  {
   "cell_type": "markdown",
   "metadata": {},
   "source": [
    "## 4.2 Generating multiple Gaussian matrices and comparing their eigenvalues"
   ]
  },
  {
   "cell_type": "code",
   "execution_count": 454,
   "metadata": {},
   "outputs": [
    {
     "ename": "",
     "evalue": "",
     "output_type": "error",
     "traceback": [
      "\u001b[1;31mThe Kernel crashed while executing code in the the current cell or a previous cell. Please review the code in the cell(s) to identify a possible cause of the failure. Click <a href='https://aka.ms/vscodeJupyterKernelCrash'>here</a> for more info. View Jupyter <a href='command:jupyter.viewOutput'>log</a> for further details."
     ]
    },
    {
     "ename": "",
     "evalue": "",
     "output_type": "error",
     "traceback": [
      "\u001b[1;31mCanceled future for execute_request message before replies were done"
     ]
    }
   ],
   "source": [
    "DS_approx_pair = (pair, tol) -> DS_approx(pair[1], pair[2], tol)\n",
    "svd_list = [svdvals(DS_approx_pair(gen_noncommuting_pair(\"normal\"), 1e-4))[1] for i = 1:1000]"
   ]
  },
  {
   "cell_type": "markdown",
   "metadata": {},
   "source": [
    "# References\n",
    "[1] - https://djalil.chafai.net/blog/2010/04/30/wasserstein-distance-between-two-gaussians/\n",
    "\n",
    "[2] - Anastasiya Tanana (2020). Comparison of transport map generated by heat flow interpolation and the optimal transport Brenier map. Communications in Contemporary Mathematics, 23(06), 2050025.\n",
    "\n",
    "[3] - https://github.com/Imperial-MATH50003/MATH50003NumericalAnalysis/blob/main/notes/MATH50003_numerical_analysis_lecture_notes.pdf"
   ]
  },
  {
   "cell_type": "markdown",
   "metadata": {},
   "source": [
    "### Log"
   ]
  },
  {
   "cell_type": "code",
   "execution_count": null,
   "metadata": {},
   "outputs": [],
   "source": [
    "#DS\n",
    "#=\n",
    "  4.96086    -5.04343   1.62892  -2.12897   -1.34233\n",
    " -2.02641    25.0691   -7.61421   0.71406    6.55695\n",
    " -0.0722129  -2.7969    3.12006   0.194805  -0.650124\n",
    " -1.38662     1.89832  -0.61586   3.63394    0.820731\n",
    " -0.530835    5.66931  -1.61812   0.869868   4.47412 =#\n",
    "\n",
    "# 5x5 DS_approx matrix where B = 10*B\n",
    "# mag=7.8125e-7 T=114.0 stab=1e-4\n",
    "# A\n",
    "#=\n",
    "4.70014    0.271205  3.96162   3.12535    4.12994\n",
    " 0.271205   0.412463  0.4485   -0.604954  -0.552353\n",
    " 3.96162    0.4485    7.14201   4.66951    2.70588\n",
    " 3.12535   -0.604954  4.66951   7.61801    4.15185\n",
    " 4.12994   -0.552353  2.70588   4.15185    6.00377\n",
    "=#\n",
    "# 10B\n",
    "#=\n",
    " 58.7984     8.31398   19.5573   -9.91265  37.0559\n",
    "  8.31398   78.3064   -34.2586  -22.7605   17.8284\n",
    " 19.5573   -34.2586    45.2896   31.832    15.1226\n",
    " -9.91265  -22.7605    31.832    81.6183   33.6183\n",
    " 37.0559    17.8284    15.1226   33.6183   61.2015\n",
    " =#"
   ]
  }
 ],
 "metadata": {
  "kernelspec": {
   "display_name": "Julia 1.7.1",
   "language": "julia",
   "name": "julia-1.7"
  },
  "language_info": {
   "file_extension": ".jl",
   "mimetype": "application/julia",
   "name": "julia",
   "version": "1.7.1"
  },
  "orig_nbformat": 4,
  "vscode": {
   "interpreter": {
    "hash": "b0fa6594d8f4cbf19f97940f81e996739fb7646882a419484c72d19e05852a7e"
   }
  }
 },
 "nbformat": 4,
 "nbformat_minor": 2
}
